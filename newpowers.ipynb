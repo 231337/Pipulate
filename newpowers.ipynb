{
 "cells": [
  {
   "cell_type": "markdown",
   "metadata": {},
   "source": [
    "# Lookups Against URLs"
   ]
  },
  {
   "cell_type": "code",
   "execution_count": null,
   "metadata": {
    "collapsed": false
   },
   "outputs": [],
   "source": [
    "# Google OAuth2 handling, be prepared to click a link & copy-and-paste a code back here.\n",
    "from sys import path\n",
    "from os.path import dirname, realpath\n",
    "adir = dirname(dirname(realpath('__file__')))\n",
    "adir = '%s/goodsheet' % adir\n",
    "if adir not in path:\n",
    "    path.append(adir)\n",
    "import goodsheet\n",
    "# Now, you can use the following code to load the contents of a Google Spreadsheet:\n",
    "# worksheet = goodsheet.connect.open(\"SpreadsheetName\").worksheet(\"Sheet1\")\n",
    "# list_of_lists = worksheet.get_all_values()"
   ]
  },
  {
   "cell_type": "code",
   "execution_count": null,
   "metadata": {
    "collapsed": false
   },
   "outputs": [],
   "source": [
    "worksheet = goodsheet.connect.open('Lookups').worksheet('Sheet1')\n",
    "end_range = worksheet.get_addr_int(worksheet.row_count, worksheet.col_count)\n",
    "cell_range = worksheet.range('A2:%s' % end_range)\n",
    "# list_of_lists = worksheet.get_all_values()"
   ]
  },
  {
   "cell_type": "code",
   "execution_count": null,
   "metadata": {
    "collapsed": false
   },
   "outputs": [],
   "source": [
    "#for aline in (x for x in list_of_lists):\n",
    "#    print(aline[0])"
   ]
  },
  {
   "cell_type": "code",
   "execution_count": null,
   "metadata": {
    "collapsed": false
   },
   "outputs": [],
   "source": [
    "for acell in cell_range:\n",
    "    print(\"value: %s\" % acell.value)"
   ]
  },
  {
   "cell_type": "code",
   "execution_count": null,
   "metadata": {
    "collapsed": true
   },
   "outputs": [],
   "source": [
    "for acell in cell_range:\n",
    "    if not acell.value:\n",
    "        acell.value = 'bar'"
   ]
  },
  {
   "cell_type": "code",
   "execution_count": null,
   "metadata": {
    "collapsed": true
   },
   "outputs": [],
   "source": [
    "#worksheet.update_cells(cell_range)"
   ]
  }
 ],
 "metadata": {
  "kernelspec": {
   "display_name": "Python 3",
   "language": "python",
   "name": "python3"
  },
  "language_info": {
   "codemirror_mode": {
    "name": "ipython",
    "version": 3
   },
   "file_extension": ".py",
   "mimetype": "text/x-python",
   "name": "python",
   "nbconvert_exporter": "python",
   "pygments_lexer": "ipython3",
   "version": "3.5.1"
  }
 },
 "nbformat": 4,
 "nbformat_minor": 0
}
