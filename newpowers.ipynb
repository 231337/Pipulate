{
 "cells": [
  {
   "cell_type": "markdown",
   "metadata": {},
   "source": [
    "# Lookups Against URLs"
   ]
  },
  {
   "cell_type": "code",
   "execution_count": 5,
   "metadata": {
    "collapsed": false
   },
   "outputs": [],
   "source": [
    "# Google OAuth2 handling, be prepared to click a link & copy-and-paste a code back here.\n",
    "from sys import path\n",
    "from os.path import dirname, realpath\n",
    "adir = dirname(dirname(realpath('__file__')))\n",
    "adir = '%s/goodsheet' % adir\n",
    "if adir not in path:\n",
    "    path.append(adir)\n",
    "import goodsheet"
   ]
  },
  {
   "cell_type": "code",
   "execution_count": 6,
   "metadata": {
    "collapsed": false
   },
   "outputs": [
    {
     "name": "stdout",
     "output_type": "stream",
     "text": [
      "{'Title': '', 'HTML': '', 'URL': 'http://mikelev.in/', 'Description': ''}\n",
      "{'Title': '', 'HTML': '', 'URL': 'http://mikelev.in/poetry/dueling-mule/', 'Description': ''}\n",
      "{'Title': '', 'HTML': '', 'URL': 'http://mikelev.in/vim/', 'Description': ''}\n",
      "{'Title': '', 'HTML': '', 'URL': 'http://mikelev.in/ding/', 'Description': ''}\n",
      "{'Title': '', 'HTML': '', 'URL': 'http://mikelev.in/videos/', 'Description': ''}\n",
      "{'Title': '', 'HTML': '', 'URL': 'http://mikelev.in/us/', 'Description': ''}\n",
      "{'Title': '', 'HTML': '', 'URL': 'http://mikelev.in/git/', 'Description': ''}\n",
      "{'Title': '', 'HTML': '', 'URL': 'http://mikelev.in/tools/', 'Description': ''}\n",
      "{'Title': '', 'HTML': '', 'URL': 'http://mikelev.in/python/', 'Description': ''}\n",
      "{'Title': '', 'HTML': '', 'URL': 'http://mikelev.in/tinycorelinux/', 'Description': ''}\n",
      "{'Title': '', 'HTML': '', 'URL': 'http://mikelev.in/2013/04/the-time-i-shot-a-guy/', 'Description': ''}\n",
      "{'Title': '', 'HTML': '', 'URL': 'http://mikelev.in/linux/', 'Description': ''}\n",
      "{'Title': '', 'HTML': '', 'URL': 'http://mikelev.in/2010/08/suburbs-killed-the-amiga/', 'Description': ''}\n",
      "{'Title': '', 'HTML': '', 'URL': 'http://mikelev.in/poetry/lizard-tail/', 'Description': ''}\n",
      "{'Title': '', 'HTML': '', 'URL': 'http://mikelev.in/qemu/', 'Description': ''}\n",
      "{'Title': '', 'HTML': '', 'URL': 'http://mikelev.in/seo/', 'Description': ''}\n",
      "{'Title': '', 'HTML': '', 'URL': 'http://mikelev.in/poetry/llama-and-yak/', 'Description': ''}\n",
      "{'Title': '', 'HTML': '', 'URL': 'http://mikelev.in/2012/09/the-final-days-of-lung-cancer-and-good-son-syndrome/', 'Description': ''}\n",
      "{'Title': '', 'HTML': '', 'URL': 'http://mikelev.in/markdown/', 'Description': ''}\n",
      "{'Title': '', 'HTML': '', 'URL': 'http://mikelev.in/poetry/crushling/', 'Description': ''}\n",
      "{'Title': '', 'HTML': '', 'URL': 'http://mikelev.in/learnings/', 'Description': ''}\n",
      "{'Title': '', 'HTML': '', 'URL': 'http://mikelev.in/poetry/bees/', 'Description': ''}\n",
      "{'Title': '', 'HTML': '', 'URL': 'http://mikelev.in/2013/01/mr-sucros-removable-finger-magic-trick/', 'Description': ''}\n",
      "{'Title': '', 'HTML': '', 'URL': 'http://mikelev.in/2013/03/my-ordeal-with-adult-bullying-at-a-new-york-co-op/', 'Description': ''}\n",
      "{'Title': '', 'HTML': '', 'URL': 'http://mikelev.in/poetry/eighty-twenty-rule/', 'Description': ''}\n",
      "{'Title': '', 'HTML': '', 'URL': 'http://mikelev.in/2011/01/python-programming-language-advantages/', 'Description': ''}\n",
      "{'Title': '', 'HTML': '', 'URL': 'http://mikelev.in/poetry/golden-goose/', 'Description': ''}\n",
      "{'Title': '', 'HTML': '', 'URL': 'http://mikelev.in/forum/levinux/', 'Description': ''}\n",
      "{'Title': '', 'HTML': '', 'URL': 'http://mikelev.in/poetry/lion-savannah/', 'Description': ''}\n",
      "{'Title': '', 'HTML': '', 'URL': 'http://mikelev.in/ux/', 'Description': ''}\n",
      "{'Title': '', 'HTML': '', 'URL': 'http://mikelev.in/poetry/', 'Description': ''}\n",
      "{'Title': '', 'HTML': '', 'URL': 'http://mikelev.in/ambigram/', 'Description': ''}\n",
      "{'Title': '', 'HTML': '', 'URL': 'http://mikelev.in/book/', 'Description': ''}\n",
      "{'Title': '', 'HTML': '', 'URL': 'http://mikelev.in/poetry/ghost-ball/', 'Description': ''}\n",
      "{'Title': '', 'HTML': '', 'URL': 'http://mikelev.in/poetry/success-poem/', 'Description': ''}\n",
      "{'Title': '', 'HTML': '', 'URL': 'http://mikelev.in/pipulate/', 'Description': ''}\n"
     ]
    }
   ],
   "source": [
    "if __name__ == '__main__':\n",
    "    worksheet = goodsheet.connect.open('Lookups').worksheet('Sheet1')\n",
    "    end_range = worksheet.get_addr_int(worksheet.row_count, worksheet.col_count)\n",
    "    cell_range = worksheet.range('A1:%s' % end_range)\n",
    "    number_columns = worksheet.col_count\n",
    "    col_names = []\n",
    "    row_dict = {}\n",
    "    for acell in cell_range:\n",
    "        row, col, val = acell.row, acell.col, acell.value\n",
    "        if row == 1:\n",
    "            col_names.append(val)\n",
    "        else:\n",
    "            row_dict[col_names[col-1]] = val\n",
    "            if col%number_columns == 0:\n",
    "                print(row_dict)\n",
    "                row_dict = {}"
   ]
  },
  {
   "cell_type": "code",
   "execution_count": null,
   "metadata": {
    "collapsed": true
   },
   "outputs": [],
   "source": []
  }
 ],
 "metadata": {
  "kernelspec": {
   "display_name": "Python 3",
   "language": "python",
   "name": "python3"
  },
  "language_info": {
   "codemirror_mode": {
    "name": "ipython",
    "version": 3
   },
   "file_extension": ".py",
   "mimetype": "text/x-python",
   "name": "python",
   "nbconvert_exporter": "python",
   "pygments_lexer": "ipython3",
   "version": "3.5.1"
  }
 },
 "nbformat": 4,
 "nbformat_minor": 0
}
