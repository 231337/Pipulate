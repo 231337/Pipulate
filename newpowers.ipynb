{
 "cells": [
  {
   "cell_type": "markdown",
   "metadata": {},
   "source": [
    "# Lookups Against URLs"
   ]
  },
  {
   "cell_type": "code",
   "execution_count": 1,
   "metadata": {
    "collapsed": false
   },
   "outputs": [],
   "source": [
    "# Google OAuth2 handling, be prepared to click a link & copy-and-paste a code back here.\n",
    "from sys import path\n",
    "from os.path import dirname, realpath\n",
    "adir = dirname(dirname(realpath('__file__')))\n",
    "adir = '%s/goodsheet' % adir\n",
    "if adir not in path:\n",
    "    path.append(adir)\n",
    "import goodsheet"
   ]
  },
  {
   "cell_type": "code",
   "execution_count": null,
   "metadata": {
    "collapsed": true
   },
   "outputs": [],
   "source": [
    "def Title(**row_dict):\n",
    "    print(row_dict)"
   ]
  },
  {
   "cell_type": "code",
   "execution_count": null,
   "metadata": {
    "collapsed": false
   },
   "outputs": [],
   "source": [
    "if __name__ == '__main__':\n",
    "    import types\n",
    "    worksheet = goodsheet.connect.open('Lookups').worksheet('Sheet1')\n",
    "    end_range = worksheet.get_addr_int(worksheet.row_count, worksheet.col_count)\n",
    "    cell_range = worksheet.range('A1:%s' % end_range)\n",
    "    number_columns = worksheet.col_count\n",
    "    col_names = []\n",
    "    row_dict = {}\n",
    "    for acell in cell_range:\n",
    "        row, col, val = acell.row, acell.col, acell.value\n",
    "        if row == 1:\n",
    "            col_names.append(val)\n",
    "        else:\n",
    "            row_dict[col_names[col-1]] = val\n",
    "            if col%number_columns == 0:\n",
    "                for key, val in row_dict.items():\n",
    "                    mock_func = None\n",
    "                    if not val:\n",
    "                        if key in [x for x in globals() \n",
    "                                    if isinstance(globals()[x], types.FunctionType) \n",
    "                                    and globals()[x].__module__ == '__main__']:\n",
    "                            globals()[key](**row_dict)\n",
    "                row_dict = {}"
   ]
  },
  {
   "cell_type": "code",
   "execution_count": null,
   "metadata": {
    "collapsed": true
   },
   "outputs": [],
   "source": []
  }
 ],
 "metadata": {
  "kernelspec": {
   "display_name": "Python 3",
   "language": "python",
   "name": "python3"
  },
  "language_info": {
   "codemirror_mode": {
    "name": "ipython",
    "version": 3
   },
   "file_extension": ".py",
   "mimetype": "text/x-python",
   "name": "python",
   "nbconvert_exporter": "python",
   "pygments_lexer": "ipython3",
   "version": "3.5.1"
  }
 },
 "nbformat": 4,
 "nbformat_minor": 0
}
