{
 "cells": [
  {
   "cell_type": "code",
   "execution_count": 40,
   "metadata": {
    "scrolled": false
   },
   "outputs": [
    {
     "name": "stderr",
     "output_type": "stream",
     "text": [
      "[I 181011 08:37:21 <ipython-input-40-3737578c542d>:12] Begin logging\n"
     ]
    },
    {
     "name": "stdout",
     "output_type": "stream",
     "text": [
      " ____  _             _       _   _                   \n",
      "|  _ \\(_)_ __  _   _| | __ _| |_(_)_ __   __ _       \n",
      "| |_) | | '_ \\| | | | |/ _` | __| | '_ \\ / _` |      \n",
      "|  __/| | |_) | |_| | | (_| | |_| | | | | (_| |_ _ _ \n",
      "|_|   |_| .__/ \\__,_|_|\\__,_|\\__|_|_| |_|\\__, (_|_|_)\n",
      "        |_|                              |___/       \n",
      "\n",
      "INITIALIZING COLUMNS\n",
      "cl, df = gs.pipulate(\"Sheet1\", rows=(1, 10), cols=('A', 'A')) was successful.\n",
      "You may now manipulate the DataFrame but maintain its (10 x 1) shape.\n",
      "To update the GSheet with changes, gs.populate(\"Sheet1\", cl, df)\n",
      "gs.populate(\"Sheet1\", cl, df) <<< GSHEET UPDATED! >>>\n",
      "\n",
      "POPULATING DATAFRAME\n",
      "cl, df = gs.pipulate(\"Sheet1\", rows=(10, 10), cols=('B', 'J')) was successful.\n",
      "You may now manipulate the DataFrame but maintain its (1 x 9) shape.\n",
      "To update the GSheet with changes, gs.populate(\"Sheet1\", cl, df)\n",
      "gs.populate(\"Sheet1\", cl, df) <<< GSHEET UPDATED! >>>\n",
      "\n",
      "INSERTING TIMESTAMP\n",
      "cl, df = gs.pipulate(\"Sheet1\", rows=(5, 5), cols=('B', 'J')) was successful.\n",
      "You may now manipulate the DataFrame but maintain its (1 x 9) shape.\n",
      "To update the GSheet with changes, gs.populate(\"Sheet1\", cl, df)\n",
      "gs.populate(\"Sheet1\", cl, df) <<< GSHEET UPDATED! >>>\n",
      "\n",
      " ____                   _ \n",
      "|  _ \\  ___  _ __   ___| |\n",
      "| | | |/ _ \\| '_ \\ / _ \\ |\n",
      "| |_| | (_) | | | |  __/_|\n",
      "|____/ \\___/|_| |_|\\___(_)\n",
      "                          \n",
      "\n"
     ]
    },
    {
     "name": "stderr",
     "output_type": "stream",
     "text": [
      "[I 181011 08:37:26 <ipython-input-40-3737578c542d>:61] End logging\n"
     ]
    }
   ],
   "source": [
    "if True:  # For pipulate development\n",
    "    from sys import path\n",
    "    path.append(\"../\")\n",
    "    from pipdev import pipulate as gs\n",
    "    from importlib import reload\n",
    "    reload(gs)\n",
    "else:\n",
    "    import pipulate\n",
    "import pandas as pd\n",
    "\n",
    "\n",
    "gs.log.info(\"Begin logging\")\n",
    "gs.h1('Pipulating...')\n",
    "pd.set_option('display.max_columns', 500)\n",
    "initialize_row = 'columns,blank1,id,title,url,description,blank2,metric1,metric2,metric3'.split(',')\n",
    "initialize_col = 'columns,h1,h2,h3,timestamps,dateranges,aggregates,col_labels,formatting,data'.split(',')\n",
    "timestamp_rows = 'title,url,description,metric1,metric2,metric3'.split(',')\n",
    "sheet = gs.key('1qyGKcVGf64psttaYNRM30n0FhKDkdvJ96-TInargQj8')\n",
    "tab_name = sheet.worksheets()[0].title  # Find name of Tab 1\n",
    "tab = sheet.worksheet(tab_name)\n",
    "col_labels = tab.row_values(1)\n",
    "if initialize_row:\n",
    "    if col_labels != initialize_row:\n",
    "        tab.insert_row(initialize_row, index=1)\n",
    "        col_labels = initialize_row\n",
    "row_labels = tab.col_values(1)\n",
    "if initialize_col:\n",
    "    if row_labels != initialize_col:\n",
    "        print(\"INITIALIZING COLUMNS\")\n",
    "        cl, df = gs.pipulate(tab, (1, len(initialize_col)), ('A', 'A'))\n",
    "        df['A'] = initialize_col\n",
    "        gs.populate(tab, cl, df)\n",
    "        row_labels = initialize_col\n",
    "        tab = sheet.worksheet(tab_name)\n",
    "rows = tab.row_count\n",
    "cols = tab.col_count + 1\n",
    "row2 = len(row_labels)\n",
    "for i, col in enumerate(col_labels):\n",
    "    col_vals = tab.col_values(i + 1)\n",
    "    if len(col_vals) > row2:\n",
    "        row2 = len(col_vals)\n",
    "if cols > len(row_labels):\n",
    "    cols = len(row_labels)\n",
    "tab.resize(row2, cols)\n",
    "start_col = col_labels.index('columns') + 2\n",
    "col1 = gs.a1(start_col)\n",
    "col2 = gs.a1(cols)\n",
    "row1 = row_labels.index('data') + 1\n",
    "columns = col_labels[start_col - 1:]\n",
    "print(\"POPULATING DATAFRAME\")\n",
    "cl, df = gs.pipulate(tab, (row1, row2), (col1, col2), columns)\n",
    "df[df > 0] = 0\n",
    "gs.populate(tab, cl, df)\n",
    "if timestamp_rows:\n",
    "    timestamp_row = row_labels.index('timestamps') + 1\n",
    "    print(\"INSERTING TIMESTAMP\")\n",
    "    clt, dft = gs.pipulate(tab, (timestamp_row, timestamp_row), (col1, col2), columns)\n",
    "    dft[timestamp_rows] = gs.timestamp()\n",
    "    gs.populate(tab, clt, dft)\n",
    "gs.h1('Done!')\n",
    "gs.log.info(\"End logging\")"
   ]
  },
  {
   "cell_type": "code",
   "execution_count": null,
   "metadata": {},
   "outputs": [],
   "source": []
  }
 ],
 "metadata": {
  "kernelspec": {
   "display_name": "Python 3",
   "language": "python",
   "name": "python3"
  },
  "language_info": {
   "codemirror_mode": {
    "name": "ipython",
    "version": 3
   },
   "file_extension": ".py",
   "mimetype": "text/x-python",
   "name": "python",
   "nbconvert_exporter": "python",
   "pygments_lexer": "ipython3",
   "version": "3.6.5"
  }
 },
 "nbformat": 4,
 "nbformat_minor": 2
}
