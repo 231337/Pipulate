{
 "cells": [
  {
   "cell_type": "code",
   "execution_count": 1,
   "metadata": {
    "collapsed": false
   },
   "outputs": [
    {
     "data": {
      "text/plain": [
       "'Functions for plugging into Pipulate-frameworks for conducting SEO investigations.'"
      ]
     },
     "execution_count": 1,
     "metadata": {},
     "output_type": "execute_result"
    }
   ],
   "source": [
    "\"\"\"Functions for plugging into Pipulate-frameworks for conducting SEO investigations.\"\"\""
   ]
  },
  {
   "cell_type": "code",
   "execution_count": 2,
   "metadata": {
    "collapsed": false
   },
   "outputs": [],
   "source": [
    "import requests, re\n",
    "from collections import namedtuple\n",
    "from html.parser import HTMLParser\n",
    "from datetime import date, time, datetime, timedelta\n",
    "Response = namedtuple('Response', 'ok status_code text') # Shape the standard pipulate response object"
   ]
  },
  {
   "cell_type": "code",
   "execution_count": 3,
   "metadata": {
    "collapsed": false
   },
   "outputs": [
    {
     "data": {
      "text/plain": [
       "['day: 2016-08-14',\n",
       " 'end_90_days: 2016-08-14',\n",
       " 'first_day_this_month: 2016-08-01',\n",
       " 'first_full_week_of_year: 2016-01-04',\n",
       " 'month_days: 31',\n",
       " 'month_end: 2016-07-31',\n",
       " 'month_start: 2016-07-01',\n",
       " 'prior_weeks_of_year: 217 days, 0:00:00',\n",
       " 'shift: 3',\n",
       " 'start_90_days: 2016-05-16',\n",
       " 'today: 2016-08-17',\n",
       " 'week: 32',\n",
       " 'week_end: 2016-08-13',\n",
       " 'week_start: 2016-08-07',\n",
       " 'year: 2016']"
      ]
     },
     "execution_count": 3,
     "metadata": {},
     "output_type": "execute_result"
    }
   ],
   "source": [
    "class date_markers():\n",
    "    def __init__(self):\n",
    "        shift = 3\n",
    "        today = date.today()\n",
    "        day = today - timedelta(days=shift)\n",
    "        week = day.isocalendar()[1]\n",
    "        year = day.year\n",
    "        first_day_this_month = day.replace(day=1)\n",
    "        first_full_week_of_year = date(year,1,1)\n",
    "        if(first_full_week_of_year.weekday()>3):\n",
    "            first_full_week_of_year = first_full_week_of_year+timedelta(7-first_full_week_of_year.weekday())\n",
    "        else:\n",
    "            first_full_week_of_year = first_full_week_of_year - timedelta(first_full_week_of_year.weekday())\n",
    "        prior_weeks_of_year = timedelta(days = (week-1)*7)\n",
    "        week_start = first_full_week_of_year + prior_weeks_of_year\n",
    "        week_end = first_full_week_of_year + prior_weeks_of_year + timedelta(days=6)\n",
    "        week_start = week_start + timedelta(days=-1)\n",
    "        week_end = week_end + timedelta(days=-1)\n",
    "        month_end = first_day_this_month - timedelta(days=1)\n",
    "        month_start = month_end.replace(day=1)\n",
    "        month_days = (month_end - month_start).days+1\n",
    "        start_90_days = day - timedelta(days=90)\n",
    "        end_90_days = day\n",
    "        props = ['shift','first_full_week_of_year',\n",
    "                 'today','day','year',\n",
    "                 'first_day_this_month',\n",
    "                 'prior_weeks_of_year',\n",
    "                 'month_start','month_end','month_days',\n",
    "                 'week','week_start','week_end',\n",
    "                 'start_90_days','end_90_days']\n",
    "        for prop in props:\n",
    "            command = \"self.%s = %s\" % (prop, prop)\n",
    "            exec(command)\n",
    "\n",
    "dates = date_markers()\n",
    "['%s: %s' % (x, eval('dates.%s' % x)) for x in dir(dates) if x[0] != '_']"
   ]
  },
  {
   "cell_type": "code",
   "execution_count": 4,
   "metadata": {
    "collapsed": true
   },
   "outputs": [],
   "source": [
    "def todate(adate):\n",
    "    if isinstance(adate, date):\n",
    "      adate = str(adate)\n",
    "    return datetime.strptime(adate, \"%Y-%m-%d\")\n",
    "\n",
    "def fmdate(dobj):\n",
    "   return time.strftime('%Y-%m-%d')"
   ]
  },
  {
   "cell_type": "markdown",
   "metadata": {},
   "source": [
    "## Decorator to simplify functions that need the HTML of a URL-fetch as an argument"
   ]
  },
  {
   "cell_type": "code",
   "execution_count": 5,
   "metadata": {
    "collapsed": false
   },
   "outputs": [],
   "source": [
    "def url(passed_in_func):\n",
    "    \"\"\"Decorator for functions like Title to pre-extract html text.\"\"\"\n",
    "    def requests_wrapper(**row_dict):\n",
    "        html = row_dict['response'].text\n",
    "        return passed_in_func(html=html)\n",
    "    return requests_wrapper"
   ]
  },
  {
   "cell_type": "markdown",
   "metadata": {},
   "source": [
    "## Generic all-purpose helper-functions to be called from within all other functions"
   ]
  },
  {
   "cell_type": "code",
   "execution_count": 6,
   "metadata": {
    "collapsed": true
   },
   "outputs": [],
   "source": [
    "class MLStripper(HTMLParser):\n",
    "    \"\"\"http://stackoverflow.com/questions/753052/strip-html-from-strings-in-python\"\"\"\n",
    "    def __init__(self):\n",
    "        self.reset()\n",
    "        self.strict = False\n",
    "        self.convert_charrefs= True\n",
    "        self.fed = []\n",
    "    def handle_data(self, d):\n",
    "        self.fed.append(d)\n",
    "    def get_data(self):\n",
    "        return ''.join(self.fed)\n",
    "\n",
    "def strip_tags(html):\n",
    "    s = MLStripper()\n",
    "    s.feed(html)\n",
    "    return s.get_data()"
   ]
  },
  {
   "cell_type": "code",
   "execution_count": 7,
   "metadata": {
    "collapsed": true
   },
   "outputs": [],
   "source": [
    "def normalize_whitespace(string):\n",
    "    return re.sub('[\\s\\r\\n]+', ' ', string)"
   ]
  },
  {
   "cell_type": "code",
   "execution_count": 8,
   "metadata": {
    "collapsed": true
   },
   "outputs": [],
   "source": [
    "def extract_text_node(html, tag):\n",
    "    \"\"\"Returns text node string for tags like Title. Simplifies common scraping functions.\"\"\"\n",
    "    pattern = r'<{0}\\s?>(.*?)</{0}\\s?>'.format(tag.lower())\n",
    "    compiled = re.compile(pattern=pattern, flags=re.DOTALL)\n",
    "    matches = compiled.findall(string=html)\n",
    "    if matches:\n",
    "        text = matches[0].strip()\n",
    "        return Response(ok=True, status_code='200', text=text)\n",
    "    else:\n",
    "        return Response(ok=True, status_code='200', text=None)"
   ]
  },
  {
   "cell_type": "markdown",
   "metadata": {},
   "source": [
    "## Pipulate Functions that can be used as column-labels of spreadsheets"
   ]
  },
  {
   "cell_type": "code",
   "execution_count": 9,
   "metadata": {
    "collapsed": false
   },
   "outputs": [],
   "source": [
    "@url\n",
    "def Title(html):\n",
    "    return extract_text_node(html=html, tag=\"title\")"
   ]
  },
  {
   "cell_type": "code",
   "execution_count": 10,
   "metadata": {
    "collapsed": false
   },
   "outputs": [],
   "source": [
    "@url\n",
    "def breadcrumb(html):\n",
    "    pattern = '<ul .*?(class|id)=\"breadcrumb.*?>(?P<return>.*?)</ul>'.format(\"title\")\n",
    "    compiled = re.compile(pattern=pattern, flags=re.DOTALL)\n",
    "    matches = compiled.search(string=html)\n",
    "    if hasattr(matches, 'group'):\n",
    "        text = matches.group('return')\n",
    "    else:\n",
    "        return Response(ok=True, status_code='200', text=None)\n",
    "    scrubbed_text = normalize_whitespace(strip_tags(text))\n",
    "    path_list = scrubbed_text.split(\"/\")\n",
    "    trail = '/'.join([x.strip() for x in path_list])\n",
    "    return Response(ok=True, status_code='200', text=trail)"
   ]
  },
  {
   "cell_type": "code",
   "execution_count": 11,
   "metadata": {
    "collapsed": false
   },
   "outputs": [],
   "source": [
    "#if __name__ == '__main__':\n",
    "    #test_url = 'http://mikelev.in/'\n",
    "    #response = requests.get(test_url)\n",
    "    #print(Title(url=test_url, response=response))\n",
    "    #test_url = 'noyb'\n",
    "    #response = requests.get(test_url)\n",
    "    #print(breadcrumb(**{'response' : response}))"
   ]
  },
  {
   "cell_type": "code",
   "execution_count": null,
   "metadata": {
    "collapsed": true
   },
   "outputs": [],
   "source": []
  }
 ],
 "metadata": {
  "anaconda-cloud": {},
  "kernelspec": {
   "display_name": "Python [py35]",
   "language": "python",
   "name": "Python [py35]"
  },
  "language_info": {
   "codemirror_mode": {
    "name": "ipython",
    "version": 3
   },
   "file_extension": ".py",
   "mimetype": "text/x-python",
   "name": "python",
   "nbconvert_exporter": "python",
   "pygments_lexer": "ipython3",
   "version": "3.5.1"
  }
 },
 "nbformat": 4,
 "nbformat_minor": 0
}
