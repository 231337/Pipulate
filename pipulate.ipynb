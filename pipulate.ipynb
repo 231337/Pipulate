{
 "cells": [
  {
   "cell_type": "markdown",
   "metadata": {},
   "source": [
    "# Pipulate: Learn Python through SEO Investigations..."
   ]
  },
  {
   "cell_type": "markdown",
   "metadata": {
    "collapsed": false
   },
   "source": [
    "## Global Modules & Google Login (*Don't change*)"
   ]
  },
  {
   "cell_type": "code",
   "execution_count": null,
   "metadata": {
    "collapsed": false
   },
   "outputs": [],
   "source": [
    "import sys, os, shelve, requests   # Import common libraries used throughout system\n",
    "from collections import namedtuple # For creation of informative APIs for workflows, etc.\n",
    "from imp import reload             # This keeps your edits to functions.ipynb in-memory\n",
    "import notebook_finder             # This allows .ipynb files to be loaded like as modules\n",
    "import goodsheet; reload(goodsheet); import goodsheet # For OAuth and Google Services\n",
    "dates = goodsheet.date_markers()"
   ]
  },
  {
   "cell_type": "markdown",
   "metadata": {},
   "source": [
    "## Interfaces For Use In Workflows (*Don't change*)"
   ]
  },
  {
   "cell_type": "code",
   "execution_count": null,
   "metadata": {
    "collapsed": false
   },
   "outputs": [],
   "source": [
    "Pipulate = namedtuple('Pipulate', 'sheet tab args_tab data cache') # Per-row lookups on table\n",
    "Populate = namedtuple('Populate', 'sheet tab list_of_rows cols')   # Initialize a new table"
   ]
  },
  {
   "cell_type": "markdown",
   "metadata": {},
   "source": [
    "## Workflows (*Study, then change*)\n",
    "- Workflows are lists of ***named tuples*** named either Pipulate() or Populate().\n",
    "- Pipulate() pipulates pre-existing rows, while Populate() populates rows in the first place.\n",
    "- The example below actually has ***multiple workflows*** to choose from my use of a dicitonary key.\n",
    "- After studying these examples, you can design your own workflows. These two are very simple common needs.\n",
    "- String Populate() and Pipualte() together in the same workflow to carry out complex multi-step investigations."
   ]
  },
  {
   "cell_type": "code",
   "execution_count": null,
   "metadata": {
    "collapsed": false
   },
   "outputs": [],
   "source": [
    "# Here, we can define any number of alternative workflows to optionally invoke\n",
    "\n",
    "sheet_name = \"Audit\" # <-- Create a Google Spreadsheet and put its name here.\n",
    "import private       # <-- Put info you want to keep out of the git repo in here.\n",
    "site = private.site  # <-- Put the full URL of your site for Google Analytics here.\n",
    "gaid = private.gaid  # <-- Put your Google Analytics ProileID here (leave off \"ga:\")\n",
    "start = dates.start_90_days\n",
    "end = dates.end_90_days\n",
    "\n",
    "workflows = {\n",
    "    \"default\":[  \n",
    "        Pipulate(\n",
    "            sheet=sheet_name,\n",
    "            tab=\"Crawl\",\n",
    "            args_tab=None,\n",
    "            data=None,\n",
    "            cache=False\n",
    "        )\n",
    "    ],\n",
    "    \"seoinit\":[\n",
    "        Populate(\n",
    "            sheet=sheet_name,\n",
    "            tab=\"GSC\",\n",
    "            list_of_rows = \"functions.populate_from_gsc('\"+site+\"', '\"+start+\"', '\"+end+\"')\",\n",
    "            cols = None\n",
    "        ),\n",
    "        Populate(\n",
    "            sheet=sheet_name,\n",
    "            tab=\"GA\",\n",
    "            list_of_rows = \"functions.populate_from_ga('\"+site+\"','ga:\"+gaid+\"', '\"+start+\"', '\"+end+\"')\",\n",
    "            cols = None\n",
    "        ),\n",
    "        Populate(\n",
    "            sheet=sheet_name,\n",
    "            tab=\"Crawl\",\n",
    "            list_of_rows = \"functions.one_page_crawl('\"+site+\"')\",\n",
    "            cols = None\n",
    "        )\n",
    "    ]\n",
    "}\n",
    "#workflow = workflows[\"default\"]\n",
    "workflow = workflows[\"seoinit\"]"
   ]
  },
  {
   "cell_type": "markdown",
   "metadata": {},
   "source": [
    "## Global Configuration Options"
   ]
  },
  {
   "cell_type": "code",
   "execution_count": null,
   "metadata": {
    "collapsed": false
   },
   "outputs": [],
   "source": [
    "rows_to_batch  = 50    # Number of rows to process before Sheets batch update (i.e. 10)\n",
    "chunk_limit    = 0     # Limit processing to x-chunks when testing new funcs (0 = all)"
   ]
  },
  {
   "cell_type": "markdown",
   "metadata": {},
   "source": [
    "## Debugging Tools"
   ]
  },
  {
   "cell_type": "code",
   "execution_count": null,
   "metadata": {
    "collapsed": true
   },
   "outputs": [],
   "source": [
    "def error(exception_info, stop=True, info=None):\n",
    "    \"\"\"Prints informative error and stops execution unless optional stop argument is False.\"\"\"\n",
    "    exception_type, description, traceback = exception_info\n",
    "    errorname = exception_type.__name__\n",
    "    filename = os.path.split(traceback.tb_frame.f_code.co_filename)[1]\n",
    "    linenumber = traceback.tb_lineno\n",
    "    if info:\n",
    "        description = info\n",
    "    print(\"ERROR: %s: %s in %s line %s\" % (errorname, description, filename, linenumber))\n",
    "    if stop:\n",
    "        raise SystemExit()"
   ]
  },
  {
   "cell_type": "markdown",
   "metadata": {},
   "source": [
    "## The Pipulate() Process"
   ]
  },
  {
   "cell_type": "code",
   "execution_count": null,
   "metadata": {
    "collapsed": true
   },
   "outputs": [],
   "source": [
    "def pipulate(google_sheet_name, google_sheet_tab, tab_with_args=None, data=None, cache=True):\n",
    "    \"\"\"Update all cells in Google Sheet where columns are named with pipulate functions.\n",
    "    \n",
    "    The pipulate function is defines the conventional behavior of using GSheets for I/O.\n",
    "    It scans from left-to-right and top-to-bottom of a Google Sheet, finding \"requests\".\n",
    "    Requests are empty cells in columns labeled with function names found in functions module.\n",
    "    Pipulate will execute the named function using values from that row as function arguments.\n",
    "    The entire row's contents are fed into the named function as key/value pairs as **kwargs.\n",
    "    If **kwargs proves to be too messy, decorators like @url can clean up the passed-in args.\n",
    "    Results are batched-up and the sheet updated on every \"rows_to_batch\" number of rows.\n",
    "    Because pipulate works against pre-existing rows, we must often create some rows first.\n",
    "    More complex workflows can chain-up a series of row-creations and subsequent pipulations.\"\"\"\n",
    "    \n",
    "    # Create connection to GSheets, gather important details, and fail immediately on trouble.\n",
    "    print('Examining \"%s\" in \"%s\"...' % (google_sheet_tab, google_sheet_name))\n",
    "    try:\n",
    "        worksheet = goodsheet.connect.open(google_sheet_name).worksheet(google_sheet_tab)\n",
    "        rows = worksheet.row_count\n",
    "        cols = worksheet.col_count\n",
    "        end_range = worksheet.get_addr_int(rows, cols)\n",
    "        col_count = worksheet.col_count\n",
    "    except:\n",
    "        error(sys.exc_info())\n",
    "    \n",
    "    # Make a grab for additional key/value pair arguments (like API keys) from optional tab.\n",
    "    arg_dict = {}\n",
    "    arg_cells = None\n",
    "    if tab_with_args:\n",
    "        print('Looking for optional key/value pairs in \"%s\" tab...' % (tab_with_args))\n",
    "        try:\n",
    "            arg_sheet = goodsheet.connect.open(google_sheet_name).worksheet(tab_with_args)     \n",
    "            arg_cells = arg_sheet.range(\"A1:B20\")\n",
    "        except:\n",
    "            error(sys.exc_info())\n",
    "    if arg_cells:\n",
    "        arg_temp = None\n",
    "        for an_arg in arg_cells:\n",
    "            if an_arg.value:\n",
    "                if an_arg.col == 1:\n",
    "                    arg_temp = an_arg.value\n",
    "                else:\n",
    "                    if an_arg.value:\n",
    "                        arg_dict[arg_temp] = an_arg.value\n",
    "                    else:\n",
    "                        arg_dict[arg_temp] = None\n",
    "                        arg_temp = None\n",
    "            else:\n",
    "                break\n",
    "\n",
    "    # Create dictionary of pipulate functions invokable using their string-names dict keys!\n",
    "    pipulate_funcs = [x for x in dir(functions) if x[0] is not '_']\n",
    "    func_dict = {x.lower():eval('functions.%s' % x) for x in pipulate_funcs}\n",
    "\n",
    "    # Create list of all the values found in the 1st row so we can identify named functions.\n",
    "    row1_range = 'A1:%s' % worksheet.get_addr_int(1, col_count)\n",
    "    cell_range = worksheet.range(row1_range)\n",
    "    col_names = [x.value.lower() for x in cell_range]\n",
    "\n",
    "    # Find the first blank row in the sheet so we can always efficiently start in the right place.\n",
    "    list_of_rows = worksheet.get_all_values() #Expensive but worth it \n",
    "    first_row_with_blank = rows #Default to end-of-sheet, unless actual blanks are found.\n",
    "    if not list_of_rows:\n",
    "        print(\"Error: Sheet empty. Please set initial values.\")\n",
    "        raise SystemExit()\n",
    "    if len(list_of_rows) == 1:\n",
    "        first_row_with_blank = 2 #If we only find 1 row (at all), then row 2 MUST be 1st blank.\n",
    "    for row_dex, arow in enumerate(list_of_rows):\n",
    "        for cell_dex, acell in enumerate(arow):\n",
    "            if not acell and cell_range[cell_dex].value in func_dict: #Blank must be in func col.\n",
    "                first_row_with_blank = row_dex+1\n",
    "                break\n",
    "        else:\n",
    "            continue\n",
    "        break\n",
    "    list_of_rows = None #Blank no longer necessary potentially large object (be kind to memory)\n",
    "    \n",
    "    # Chunk the sheet into a series of ranges that will be used for batch-updates\n",
    "    chunk_ranges = [(x+1, x+rows_to_batch+1) for x in list(range(rows-1)) if x%rows_to_batch == 0]\n",
    "    chunks_to_go = [(x,y) for x,y in chunk_ranges if y > first_row_with_blank]\n",
    "    \n",
    "    # Pipulate each chunk\n",
    "    for chunk_dex, (row_start, row_end) in enumerate(chunks_to_go):\n",
    "        if chunk_limit > 0 and chunk_dex >= chunk_limit:\n",
    "            break\n",
    "        \n",
    "        # Convert each chunk into Excel-like A2:B2 range notation\n",
    "        top_left = worksheet.get_addr_int(row_start+1, 1)\n",
    "        lower_right = worksheet.get_addr_int(row_end, cols)\n",
    "        range_string = \"%s:%s\" % (top_left, lower_right)\n",
    "        \n",
    "        # Calculate correct number of rows in the last (likely) uneven chunk\n",
    "        if chunk_dex+1 == len(chunk_ranges):\n",
    "            range_string = \"%s:%s\" % (top_left, end_range)\n",
    "        print(\"Pipulating range %s of %s (%s)\" % (chunk_dex+1, len(chunks_to_go), range_string))\n",
    "        print(\"%s updating in: \" % range_string, end=\"\")\n",
    "\n",
    "        # Use chunk range to create new GSpread worksheet obj for writing-back response values.\n",
    "        try:\n",
    "            chunk_range = worksheet.range(range_string)\n",
    "        except:\n",
    "            error(sys.exc_info())\n",
    "            \n",
    "        # Step through each cell in the current chunk.\n",
    "        row_dict = {} #Will contain all values from row and be passed to function as **kwargs\n",
    "        count_down = int(len(chunk_range)/col_count)+1\n",
    "        for cell_dex, acell in enumerate(chunk_range): #Working with cells, but interested in rows\n",
    "            row, col, val = acell.row, acell.col, acell.value\n",
    "            # Now we pipulate this row's row_dict with column-name/cell-value pairs\n",
    "            row_dict[col_names[col-1]] = val\n",
    "            if col%col_count == 0: #This is how we determine reaching last cell of row\n",
    "                count_down = count_down - 1\n",
    "                print(\"%s, \" % count_down, end=\"\")\n",
    "                requests_response = None #HTML-cache object loop-leak prevention\n",
    "                Response = None #Function-return loop-leak prevention\n",
    "                # Why fetch the HTML for a URL more than once, if you don't have to?\n",
    "                if 'url' in row_dict:\n",
    "                    with shelve.open('urls') as urls:\n",
    "                        if cache == True and row_dict['url'] in urls.keys():\n",
    "                            requests_response = urls[row_dict['url']]\n",
    "                        else:\n",
    "                            try:\n",
    "                                requests_response = requests.get(row_dict['url'])\n",
    "                                urls[row_dict['url']] = requests_response #The moment of pickling\n",
    "                            except requests.exceptions.RequestException as e:\n",
    "                                print(\"(bad url) \", end=\"\")\n",
    "                                continue\n",
    "                        # We now make the ENTIRE response object available to pipulate functions.\n",
    "                        row_dict['response'] = requests_response\n",
    "                # If data exists, we make it mutably available (for memory) to every row\n",
    "                if data:\n",
    "                    row_dict['data'] = data\n",
    "                for key, val in row_dict.items():\n",
    "                    if not val: #Only process empty cells in function-named columns\n",
    "                        if key in [x.lower() for x in dir(functions) if x[0] is not '_']:\n",
    "                            if arg_dict:\n",
    "                                row_dict = {**arg_dict, **row_dict}\n",
    "                                if '' in row_dict:\n",
    "                                    del row_dict['']\n",
    "                            try:\n",
    "                                Response = func_dict[key](**row_dict) #pipulate!\n",
    "                            except:\n",
    "                                error(sys.exc_info(), info=key)\n",
    "                            # We pipulate at end-of-row but update back to earlier cells from row.\n",
    "                            row_start = cell_dex-cols+1\n",
    "                            func_dex = col_names.index(key)\n",
    "                            update_cell = row_start + func_dex\n",
    "                            if Response.ok:\n",
    "                                chunk_range[update_cell].value = Response.text #uncommitted\n",
    "                            else:\n",
    "                                chunk_range[update_cell].value = \"Err: %s\" % Response.status_code\n",
    "                            row_dict = {} # Blank the now-used row_dict just for good measure\n",
    "        try:\n",
    "            # Batch update Google Sheets with the modified chunk_range.\n",
    "            worksheet.update_cells(chunk_range)\n",
    "            print(\"Range updated!\")\n",
    "        except:\n",
    "            print(bad_api_message)\n",
    "    print(\"Pipulation complete!\") #do a little dance\n",
    "    worksheet = None"
   ]
  },
  {
   "cell_type": "markdown",
   "metadata": {},
   "source": [
    "## The Populate() Process"
   ]
  },
  {
   "cell_type": "code",
   "execution_count": null,
   "metadata": {
    "collapsed": false
   },
   "outputs": [],
   "source": [
    "def populate(sheet, tab, therows, cols=None):\n",
    "    \"\"\"Creates a new Tab in Google Sheet. Still must add chunking support.\"\"\"\n",
    "    print('Checking for \"%s\" in \"%s\"...' % (tab, sheet))\n",
    "    if type(therows) is str:\n",
    "        therows = eval(therows)\n",
    "    elif type(therows) is not list:\n",
    "        print(\"list_of_rows must be a list of lists or string that will eval to one.\")\n",
    "        raise SystemExit()\n",
    "    try:\n",
    "        spread = goodsheet.connect.open(sheet)\n",
    "        list_of_sheets = spread.worksheets()\n",
    "    except:\n",
    "        error(sys.exc_info())\n",
    "    sheets = [x.title for x in list_of_sheets]    \n",
    "    list_of_lists = therows\n",
    "    if cols and len(cols) == len(rows[0]):\n",
    "        headers = [cols]\n",
    "        list_of_lists = headers + rows\n",
    "    rows = len(list_of_lists)\n",
    "    cols = len(list_of_lists[0])\n",
    "    try:\n",
    "        if tab not in sheets:\n",
    "            print(\"Creating %s tab...\" % tab)\n",
    "            spread.add_worksheet(tab, rows, cols)\n",
    "            worksheet = goodsheet.connect.open(sheet).worksheet(tab)\n",
    "        else:\n",
    "            print(\"Resetting %s tab...\" % tab)\n",
    "            worksheet = goodsheet.connect.open(sheet).worksheet(tab)\n",
    "            worksheet.resize(rows=2, cols=cols)\n",
    "            end_row_two = worksheet.get_addr_int(2,cols)\n",
    "            blank_range = \"A2:%s\" % end_row_two\n",
    "            cells_to_blank = worksheet.range(blank_range)\n",
    "            for a_cell in cells_to_blank:\n",
    "                a_cell.value = ''\n",
    "            worksheet.update_cells(cells_to_blank)\n",
    "            worksheet.resize(rows=rows, cols=cols)\n",
    "        end_range = worksheet.get_addr_int(rows, cols)\n",
    "    except:\n",
    "        error(sys.exc_info())\n",
    "    range_string = \"A1:%s\" % end_range\n",
    "    chunk_range = worksheet.range(range_string)\n",
    "    flat_list = [item for sublist in list_of_lists for item in sublist]\n",
    "    #print(flat_list)\n",
    "\n",
    "    chunk_ranges = [(x+1, x+rows_to_batch+1) for x in list(range(rows-1)) if x%rows_to_batch == 0]\n",
    "\n",
    "    for chunk_dex, (row_start, row_end) in enumerate(chunk_ranges):\n",
    "        if chunk_limit > 0 and chunk_dex >= chunk_limit:\n",
    "            break\n",
    "    \n",
    "        # Convert each chunk into Excel-like A2:B2 range notation\n",
    "        top_left = worksheet.get_addr_int(row_start, 1)\n",
    "        lower_right = worksheet.get_addr_int(row_end, cols)\n",
    "        range_string = \"%s:%s\" % (top_left, lower_right)\n",
    "        #print((top_left, lower_right, range_string))\n",
    "\n",
    "        # Calculate correct number of rows in the last (likely) uneven chunk\n",
    "        if chunk_dex+1 == len(chunk_ranges):\n",
    "            range_string = \"%s:%s\" % (top_left, end_range)\n",
    "\n",
    "        # Use chunk range to create new GSpread worksheet obj for writing-back response values.\n",
    "        try:\n",
    "            chunk_range = worksheet.range(range_string)\n",
    "        except:\n",
    "            error(sys.exc_info())\n",
    "\n",
    "        # Step through each cell in the current chunk.\n",
    "        for cell_dex, acell in enumerate(chunk_range): #Working with cells, but interested in rows\n",
    "            row, col, val = acell.row, acell.col, acell.value\n",
    "            flat_cell_to_update = row*cols-(cols-col)-1\n",
    "            #print((flat_cell_to_update, flat_list[flat_cell_to_update]))\n",
    "            acell.value =  flat_list[flat_cell_to_update]\n",
    "        try:\n",
    "            # Batch update Google Sheets with the modified chunk_range.\n",
    "            worksheet.update_cells(chunk_range)\n",
    "            print(\"Range %s of %s updated!\" % (chunk_dex+1, len(chunk_ranges)))\n",
    "        except:\n",
    "            print(bad_api_message)\n",
    "            \n",
    "    print(\"%s in %s populated.\" % (tab, sheet))"
   ]
  },
  {
   "cell_type": "markdown",
   "metadata": {},
   "source": [
    "## Main"
   ]
  },
  {
   "cell_type": "code",
   "execution_count": null,
   "metadata": {
    "collapsed": false
   },
   "outputs": [],
   "source": [
    "if __name__ == '__main__':\n",
    "    import functions; reload(functions); import functions #2nd import intentional for Notebook\n",
    "    print(\"You are logged in as %s\" % goodsheet.get_email())\n",
    "    if 'workflow' in dir(functions):\n",
    "        workflow = functions.workflow\n",
    "    \n",
    "    # All errors get this message, so check filename & tabname carefully & read tracebacks\n",
    "    bad_api_message = \"Can't reach Spreadsheet or nothing to pipulate. Double-check & try again.\"\n",
    "    \n",
    "    print(\"WORKFLOW BEGINNING\")\n",
    "    for a_tuple in workflow:\n",
    "        tuple_name = type(a_tuple).__name__\n",
    "        if tuple_name == 'Pipulate':\n",
    "            print(\"Pipulate request being processed...\")\n",
    "            sheet, tab, args_tab, data, cache = a_tuple\n",
    "            pipulate(sheet, tab, args_tab, data, cache)\n",
    "        elif tuple_name == 'Populate':\n",
    "            print(\"Populate request being processed...\")\n",
    "            sheet, tab, list_of_rows, cols = a_tuple\n",
    "            populate(sheet, tab, list_of_rows, cols)\n",
    "    print(\"WORKFLOW COMPLETE\")"
   ]
  }
 ],
 "metadata": {
  "anaconda-cloud": {},
  "kernelspec": {
   "display_name": "Python [py35]",
   "language": "python",
   "name": "Python [py35]"
  },
  "language_info": {
   "codemirror_mode": {
    "name": "ipython",
    "version": 3
   },
   "file_extension": ".py",
   "mimetype": "text/x-python",
   "name": "python",
   "nbconvert_exporter": "python",
   "pygments_lexer": "ipython3",
   "version": "3.5.1"
  }
 },
 "nbformat": 4,
 "nbformat_minor": 0
}
