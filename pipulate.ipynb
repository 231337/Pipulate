{
 "cells": [
  {
   "cell_type": "code",
   "execution_count": null,
   "metadata": {
    "collapsed": false
   },
   "outputs": [],
   "source": [
    "\"\"\"Functions for plugging into Pipulate-frameworks for conducting SEO investigations.\"\"\""
   ]
  },
  {
   "cell_type": "code",
   "execution_count": null,
   "metadata": {
    "collapsed": false
   },
   "outputs": [],
   "source": [
    "import requests, re\n",
    "from collections import namedtuple\n",
    "Response = namedtuple('Response', 'ok status_code text')"
   ]
  },
  {
   "cell_type": "code",
   "execution_count": null,
   "metadata": {
    "collapsed": false
   },
   "outputs": [],
   "source": [
    "def url(passed_in_func):\n",
    "    \"\"\"Decorator for functions like Title to pre-extract html text.\"\"\"\n",
    "    def requests_wrapper(**row_dict):\n",
    "        html = row_dict['response'].text\n",
    "        return passed_in_func(html=html)\n",
    "    return requests_wrapper"
   ]
  },
  {
   "cell_type": "code",
   "execution_count": null,
   "metadata": {
    "collapsed": true
   },
   "outputs": [],
   "source": [
    "def text_node(html, tag):\n",
    "    pattern = r'<{0}\\s?>(.*?)</{0}\\s?>'.format(tag.lower())\n",
    "    compiled = re.compile(pattern=pattern, flags=re.DOTALL)\n",
    "    matches = compiled.findall(string=html)\n",
    "    if matches:\n",
    "        text = matches[0].strip()\n",
    "        return Response(ok=True, status_code='200', text=text)\n",
    "    else:\n",
    "        return Response(ok=True, status_code='200', text=None)"
   ]
  },
  {
   "cell_type": "code",
   "execution_count": null,
   "metadata": {
    "collapsed": false
   },
   "outputs": [],
   "source": [
    "@url\n",
    "def Title(html):\n",
    "    return text_node(html=html, tag=\"title\")"
   ]
  },
  {
   "cell_type": "code",
   "execution_count": null,
   "metadata": {
    "collapsed": false
   },
   "outputs": [],
   "source": [
    "if __name__ == '__main__':\n",
    "    test_url = 'http://mikelev.in/'\n",
    "    response = requests.get(test_url)\n",
    "    print(Title(url=test_url, response=response))"
   ]
  },
  {
   "cell_type": "code",
   "execution_count": null,
   "metadata": {
    "collapsed": true
   },
   "outputs": [],
   "source": []
  }
 ],
 "metadata": {
  "kernelspec": {
   "display_name": "Python [py35]",
   "language": "python",
   "name": "Python [py35]"
  },
  "language_info": {
   "codemirror_mode": {
    "name": "ipython",
    "version": 3
   },
   "file_extension": ".py",
   "mimetype": "text/x-python",
   "name": "python",
   "nbconvert_exporter": "python",
   "pygments_lexer": "ipython3",
   "version": "3.5.1"
  }
 },
 "nbformat": 4,
 "nbformat_minor": 0
}
