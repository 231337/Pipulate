{
 "cells": [
  {
   "cell_type": "code",
   "execution_count": 1,
   "metadata": {
    "collapsed": false
   },
   "outputs": [
    {
     "data": {
      "text/plain": [
       "'Functions for plugging into Pipulate-frameworks for conducting SEO investigations.'"
      ]
     },
     "execution_count": 1,
     "metadata": {},
     "output_type": "execute_result"
    }
   ],
   "source": [
    "\"\"\"Functions for plugging into Pipulate-frameworks for conducting SEO investigations.\"\"\""
   ]
  },
  {
   "cell_type": "code",
   "execution_count": 2,
   "metadata": {
    "collapsed": false
   },
   "outputs": [],
   "source": [
    "import requests, re\n",
    "from collections import namedtuple\n",
    "Response = namedtuple('Response', 'ok status text')"
   ]
  },
  {
   "cell_type": "code",
   "execution_count": 3,
   "metadata": {
    "collapsed": true
   },
   "outputs": [],
   "source": [
    "def Title(**row_dict):\n",
    "    pattern = re.compile(r'<title\\s?>(.*?)</title\\s?>', re.DOTALL)\n",
    "    matches = pattern.findall(row_dict['response'].text)\n",
    "    if matches:\n",
    "        return Response(True, '200', matches[0].strip())\n",
    "    else:\n",
    "        return Response(True, '200', None)"
   ]
  },
  {
   "cell_type": "code",
   "execution_count": 4,
   "metadata": {
    "collapsed": false
   },
   "outputs": [
    {
     "name": "stdout",
     "output_type": "stream",
     "text": [
      "Response(ok=True, status='200', text='Mike Levin — SEO Consultant in NYC :p')\n"
     ]
    }
   ],
   "source": [
    "if __name__ == '__main__':\n",
    "    test_url = 'http://mikelev.in/'\n",
    "    response = requests.get(test_url)\n",
    "    print(Title(url=test_url, response=response))"
   ]
  }
 ],
 "metadata": {
  "kernelspec": {
   "display_name": "Python [py35]",
   "language": "python",
   "name": "Python [py35]"
  },
  "language_info": {
   "codemirror_mode": {
    "name": "ipython",
    "version": 3
   },
   "file_extension": ".py",
   "mimetype": "text/x-python",
   "name": "python",
   "nbconvert_exporter": "python",
   "pygments_lexer": "ipython3",
   "version": "3.5.1"
  }
 },
 "nbformat": 4,
 "nbformat_minor": 0
}
