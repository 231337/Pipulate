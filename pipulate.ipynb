{
 "cells": [
  {
   "cell_type": "code",
   "execution_count": null,
   "metadata": {
    "collapsed": true
   },
   "outputs": [],
   "source": [
    "def Title(**row_dict):\n",
    "    print('snap21')\n",
    "\n",
    "\n",
    "def linklist(url):\n",
    "    from urllib.parse import urlparse\n",
    "    if url[:4] != 'http':\n",
    "        url = 'http://%s' % url\n",
    "        import lxml.html, requests\n",
    "        try:\n",
    "            ro = requests.get(url, timeout=5)\n",
    "        except:\n",
    "            return ''\n",
    "        apexdom = apex(url)\n",
    "        try:\n",
    "            doc = lxml.html.fromstring(ro.text)\n",
    "        except:\n",
    "            return ''\n",
    "        doc.make_links_absolute(url)\n",
    "        somelinks = doc.xpath('/html/body//a/@href')\n",
    "        plinks = set()\n",
    "        for alink in somelinks:\n",
    "            if urlparse(alink)[1][-len(apexdom):] == apexdom:\n",
    "                plinks.add(alink)\n",
    "        plinks = list(plinks)\n",
    "        return plinks\n",
    "    else:\n",
    "            return ''\n",
    "\n",
    "\n",
    "def apex(url):\n",
    "    \"\"\"Usually returns the apex or registered domain, given a URL.\"\"\"\n",
    "    from urllib.parse import urlparse\n",
    "    if url:\n",
    "        apex = urlparse(url).hostname.split(\".\")\n",
    "        try:\n",
    "            apex = \".\".join(len(apex[-2]) < 4 and apex[-3:] or apex[-2:])\n",
    "            return apex\n",
    "        except:\n",
    "            return None\n",
    "    else:\n",
    "        return None\n",
    "\n",
    "\n",
    "def findinlist(linklist):\n",
    "    wordtofind = \"test\"\n",
    "    try:\n",
    "        linklist = eval(linklist)\n",
    "        return linklist\n",
    "    except:\n",
    "        return '-'\n",
    "    for alink in linklist:\n",
    "        if wordtofind in alink:\n",
    "            return alink\n",
    "    return '-'\n"
   ]
  },
  {
   "cell_type": "code",
   "execution_count": null,
   "metadata": {
    "collapsed": true
   },
   "outputs": [],
   "source": []
  }
 ],
 "metadata": {
  "kernelspec": {
   "display_name": "Python 3",
   "language": "python",
   "name": "python3"
  },
  "language_info": {
   "codemirror_mode": {
    "name": "ipython",
    "version": 3
   },
   "file_extension": ".py",
   "mimetype": "text/x-python",
   "name": "python",
   "nbconvert_exporter": "python",
   "pygments_lexer": "ipython3",
   "version": "3.5.1"
  }
 },
 "nbformat": 4,
 "nbformat_minor": 0
}
