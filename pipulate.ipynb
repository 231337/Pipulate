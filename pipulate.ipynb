{
 "cells": [
  {
   "cell_type": "code",
   "execution_count": null,
   "metadata": {},
   "outputs": [],
   "source": [
    "#Allows importing functions from other notebooks\n",
    "import notebook_finder\n",
    "from imp import reload"
   ]
  },
  {
   "cell_type": "code",
   "execution_count": null,
   "metadata": {},
   "outputs": [],
   "source": [
    "#Necessary to keep changing functions from other Notebook fresh\n",
    "import notebook_of_functions as kung\n",
    "reload(kung)\n",
    "import notebook_of_functions as kung\n",
    "reload(kung)"
   ]
  },
  {
   "cell_type": "code",
   "execution_count": null,
   "metadata": {},
   "outputs": [],
   "source": [
    "#Grabs an Excel-style rectangualr range from Google Sheet\n",
    "import pipulate as gs\n",
    "import pandas as pd\n",
    "tab = gs.name('Zen of Pipulate').sheet1\n",
    "cl, df = gs.pipulate(tab, rows=(1, 20), cols=('a', 'b'))"
   ]
  },
  {
   "cell_type": "code",
   "execution_count": null,
   "metadata": {
    "collapsed": true
   },
   "outputs": [],
   "source": [
    "import this #copy output into column A"
   ]
  },
  {
   "cell_type": "code",
   "execution_count": null,
   "metadata": {},
   "outputs": [],
   "source": [
    "#Changes pandas DataFrame then pushes changes to Google Sheet\n",
    "df['B'] = kung.foo()\n",
    "gs.populate(tab, cl, df)"
   ]
  },
  {
   "cell_type": "code",
   "execution_count": null,
   "metadata": {
    "collapsed": true
   },
   "outputs": [],
   "source": []
  }
 ],
 "metadata": {
  "kernelspec": {
   "display_name": "Python 3",
   "language": "python",
   "name": "python3"
  },
  "language_info": {
   "codemirror_mode": {
    "name": "ipython",
    "version": 3
   },
   "file_extension": ".py",
   "mimetype": "text/x-python",
   "name": "python",
   "nbconvert_exporter": "python",
   "pygments_lexer": "ipython3",
   "version": "3.6.2"
  }
 },
 "nbformat": 4,
 "nbformat_minor": 2
}
