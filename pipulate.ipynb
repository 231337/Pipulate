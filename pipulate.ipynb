{
 "cells": [
  {
   "cell_type": "markdown",
   "metadata": {},
   "source": [
    "# Pipulate: SEO Investigations Using Google Sheets"
   ]
  },
  {
   "cell_type": "markdown",
   "metadata": {
    "collapsed": false
   },
   "source": [
    "## Global Module Imports & Google Services Login"
   ]
  },
  {
   "cell_type": "code",
   "execution_count": null,
   "metadata": {
    "collapsed": false
   },
   "outputs": [],
   "source": [
    "# These are the global imports that must remain at the top of the file and should not change.\n",
    "import sys, shelve, requests # For fetching & archiving HTTP responses to URL input-columns\n",
    "from imp import reload       # Keeps your edits to functions.ipynb in-memory\n",
    "import notebook_finder       # Allows .ipynb files to be loaded like filename.py modules\n",
    "import goodsheet             # Handles OAuth login for all relevant Google services"
   ]
  },
  {
   "cell_type": "markdown",
   "metadata": {},
   "source": [
    "## Basic Configuration (match these values to your spreadsheet)"
   ]
  },
  {
   "cell_type": "code",
   "execution_count": null,
   "metadata": {
    "collapsed": true
   },
   "outputs": [],
   "source": [
    "# These 2 values below must be changed to match your spreadsheet and tab.\n",
    "google_sheet_name = 'fubar'  # <-- Set to the name of your Google Sheet.\n",
    "google_sheet_tab  = 'Sheet1' # <-- Set to the name of a Tab in your Google Sheet."
   ]
  },
  {
   "cell_type": "markdown",
   "metadata": {},
   "source": [
    "## Advanced Configuration"
   ]
  },
  {
   "cell_type": "code",
   "execution_count": null,
   "metadata": {
    "collapsed": false
   },
   "outputs": [],
   "source": [
    "# These values provide increased control and capabilities in the pipulation process.\n",
    "tab_with_args  = None  # Optionally set to Tab name with key/value pairs for pipulate functions.\n",
    "pervasive_data = None  # Optionally set to data object you want available to pipulate functions. \n",
    "workflow       = None  # Optionally set to the name of a workflow defined in the workflow module.\n",
    "rows_to_batch  = 20    # Number of rows to process before Sheets batch update (10 to 50 is good)\n",
    "chunk_limit    = 0     # Limit processing to x-chunks, useful when testing new functions (0 = all)\n",
    "cache_html     = True  # Whether to use previously cached version versions of the URLs (keep True)"
   ]
  },
  {
   "cell_type": "code",
   "execution_count": null,
   "metadata": {
    "collapsed": true
   },
   "outputs": [],
   "source": [
    "def pipulate():\n",
    "    \"\"\"Update all cells in Google Sheet where columns are named with pipulate functions.\n",
    "    \n",
    "    The pipulate function is defines the conventional behavior of using GSheets for I/O.\n",
    "    It scans from left-to-right and top-to-bottom of a Google Sheet, finding \"requests\".\n",
    "    Requests are empty cells in columns labeled with function names found in functions module.\n",
    "    Pipulate will execute the named function using values from that row as function arguments.\n",
    "    The entire row's contents are fed into the named function as key/value pairs as **kwargs.\n",
    "    If **kwargs proves to be too messy, decorators like @url can clean up the passed-in args.\n",
    "    Results are batched-up and the sheet updated on every \"rows_to_batch\" number of rows.\n",
    "    Because pipulate works against pre-existing rows, we must often create some rows first.\n",
    "    More complex workflows can chain-up a series of row-creations and subsequent pipulations.\"\"\"\n",
    "    \n",
    "    # Create connection to GSheets, gather important details, and fail immediately on trouble.\n",
    "    print('Examining \"%s\" in \"%s\"...' % (google_sheet_tab, google_sheet_name))\n",
    "    try:\n",
    "        worksheet = goodsheet.connect.open(google_sheet_name).worksheet(google_sheet_tab)\n",
    "        rows = worksheet.row_count\n",
    "        cols = worksheet.col_count\n",
    "        end_range = worksheet.get_addr_int(rows, cols)\n",
    "        col_count = worksheet.col_count\n",
    "    except:\n",
    "        print(\"Error: %s\" % sys.exc_info()[0])\n",
    "        raise SystemExit()\n",
    "    \n",
    "    # Make a grab for additional key/value pair arguments (like API keys) from optional tab.\n",
    "    arg_dict = {}\n",
    "    arg_cells = None\n",
    "    if tab_with_args:\n",
    "        print('Looking for optional key/value pairs in \"%s\" tab...' % (tab_with_args))\n",
    "        try:\n",
    "            arg_sheet = goodsheet.connect.open(google_sheet_name).worksheet(tab_with_args)     \n",
    "            arg_cells = arg_sheet.range(\"A1:B20\")\n",
    "        except:\n",
    "            print(\"Error: %s\" % sys.exc_info()[0])\n",
    "            raise SystemExit()\n",
    "    if arg_cells:\n",
    "        arg_temp = None\n",
    "        for an_arg in arg_cells:\n",
    "            if an_arg.value:\n",
    "                if an_arg.col == 1:\n",
    "                    arg_temp = an_arg.value\n",
    "                else:\n",
    "                    if an_arg.value:\n",
    "                        arg_dict[arg_temp] = an_arg.value\n",
    "                    else:\n",
    "                        arg_dict[arg_temp] = None\n",
    "                        arg_temp = None\n",
    "            else:\n",
    "                break\n",
    "\n",
    "    # Create dictionary of pipulate functions invokable using their string-names dict keys!\n",
    "    pipulate_funcs = [x for x in dir(functions) if x[0] is not '_']\n",
    "    func_dict = {x.lower():eval('functions.%s' % x) for x in pipulate_funcs}\n",
    "\n",
    "    # Create list of all the values found in the 1st row so we can identify named functions.\n",
    "    row1_range = 'A1:%s' % worksheet.get_addr_int(1, col_count)\n",
    "    cell_range = worksheet.range(row1_range)\n",
    "    col_names = [x.value.lower() for x in cell_range]\n",
    "\n",
    "    # Find the first blank row in the sheet so we can always efficiently start in the right place.\n",
    "    list_of_rows = worksheet.get_all_values() #Expensive but worth it\n",
    "    first_row_with_blank = rows #Default to end-of-sheet, unless actual blanks are found.\n",
    "    if len(list_of_rows) == 1:\n",
    "        first_row_with_blank = 2 #If we only find 1 row (at all), then row 2 MUST be 1st blank.\n",
    "    for row_dex, arow in enumerate(list_of_rows):\n",
    "        for cell_dex, acell in enumerate(arow):\n",
    "            if not acell and cell_range[cell_dex].value in func_dict: #Blank must be in func col.\n",
    "                first_row_with_blank = row_dex+1\n",
    "                break\n",
    "        else:\n",
    "            continue\n",
    "        break\n",
    "    list_of_rows = None #Blank no longer necessary potentially large object (be kind to memory)\n",
    "    \n",
    "    # Cunk the sheet into a series of ranges that will be used for batch-updates\n",
    "    chunk_ranges = [(x+1, x+rows_to_batch+1) for x in list(range(rows-1)) if x%rows_to_batch == 0]\n",
    "    chunks_to_go = [(x,y) for x,y in chunk_ranges if y > first_row_with_blank]\n",
    "    \n",
    "    # Pipulate each chunk\n",
    "    for chunk_dex, (row_start, row_end) in enumerate(chunks_to_go):\n",
    "        if chunk_limit > 0 and chunk_dex >= chunk_limit:\n",
    "            break\n",
    "        \n",
    "        # Convert each chunk into Excel-like A2:B2 range notation\n",
    "        top_left = worksheet.get_addr_int(row_start+1, 1)\n",
    "        lower_right = worksheet.get_addr_int(row_end, cols)\n",
    "        range_string = \"%s:%s\" % (top_left, lower_right)\n",
    "        \n",
    "        # Calculate correct number of rows in the last (likely) uneven chunk\n",
    "        if chunk_dex+1 == len(chunk_ranges):\n",
    "            range_string = \"%s:%s\" % (top_left, end_range)\n",
    "        print(\"Pipulating range %s of %s (%s)\" % (chunk_dex+1, len(chunks_to_go), range_string))\n",
    "        print(\"%s updating in: \" % range_string, end=\"\")\n",
    "\n",
    "        # Use chunk range to create new GSpread worksheet obj for writing-back response values.\n",
    "        try:\n",
    "            chunk_range = worksheet.range(range_string)\n",
    "        except:\n",
    "            print(\"Error: %s\" % sys.exc_info()[0])\n",
    "            break\n",
    "            \n",
    "        # Step through each cell in the current chunk.\n",
    "        row_dict = {} #Will contain all values from row and be passed to function as **kwargs\n",
    "        count_down = int(len(chunk_range)/col_count)+1\n",
    "        for cell_dex, acell in enumerate(chunk_range): #Working with cells, but interested in rows\n",
    "            row, col, val = acell.row, acell.col, acell.value\n",
    "            # Now we pipulate this row's row_dict with column-name/cell-value pairs\n",
    "            row_dict[col_names[col-1]] = val\n",
    "            if col%col_count == 0: #This is how we determine reaching last cell of row\n",
    "                count_down = count_down - 1\n",
    "                print(\"%s, \" % count_down, end=\"\")\n",
    "                requests_response = None #HTML-cache object loop-leak prevention\n",
    "                Response = None #Function-return loop-leak prevention\n",
    "                # Why fetch the HTML for a URL more than once, if you don't have to?\n",
    "                if 'url' in row_dict:\n",
    "                    with shelve.open('urls') as urls:\n",
    "                        if cache_html == True and row_dict['url'] in urls.keys():\n",
    "                            requests_response = urls[row_dict['url']]\n",
    "                        else:\n",
    "                            try:\n",
    "                                requests_response = requests.get(row_dict['url'])\n",
    "                                urls[row_dict['url']] = requests_response #The moment of pickling\n",
    "                            except requests.exceptions.RequestException as e:\n",
    "                                print(\"(bad url) \", end=\"\")\n",
    "                                continue\n",
    "                        # We now make the ENTIRE response object available to pipulate functions.\n",
    "                        row_dict['response'] = requests_response\n",
    "                # If pervasive_data exists, we make it mutably available (for memory) to every row\n",
    "                if pervasive_data:\n",
    "                    row_dict['pervasive_data'] = pervasive_data\n",
    "                for key, val in row_dict.items():\n",
    "                    if not val: #Only process empty cells in function-named columns\n",
    "                        if key in [x.lower() for x in dir(functions) if x[0] is not '_']:\n",
    "                            if arg_dict:\n",
    "                                row_dict = {**arg_dict, **row_dict}\n",
    "                                if '' in row_dict:\n",
    "                                    del row_dict['']\n",
    "                                if 'response' in row_dict:\n",
    "                                    del row_dict['response']\n",
    "                            try:\n",
    "                                Response = func_dict[key](**row_dict) #pipulate!\n",
    "                            except:\n",
    "                                print(\"%s error in %s.\" % (sys.exc_info()[0], key))\n",
    "                                continue\n",
    "                            # We pipulate at end-of-row but update back to earlier cells from row.\n",
    "                            row_start = cell_dex-cols+1\n",
    "                            func_dex = col_names.index(key)\n",
    "                            update_cell = row_start + func_dex\n",
    "                            if Response.ok:\n",
    "                                chunk_range[update_cell].value = Response.text #uncommitted\n",
    "                            else:\n",
    "                                chunk_range[update_cell].value = \"Err: %s\" % Response.status_code\n",
    "                            row_dict = {} # Blank the now-used row_dict just for good measure\n",
    "        try:\n",
    "            # Batch update Google Sheets with the modified chunk_range.\n",
    "            worksheet.update_cells(chunk_range)\n",
    "            print(\"Range updated!\")\n",
    "        except:\n",
    "            print(bad_api_message)\n",
    "    print(\"Pipulation complete!\") #do a little dance\n",
    "    worksheet = None"
   ]
  },
  {
   "cell_type": "code",
   "execution_count": null,
   "metadata": {
    "collapsed": false
   },
   "outputs": [],
   "source": [
    "if __name__ == '__main__':\n",
    "    import functions\n",
    "    reload(functions)\n",
    "    import functions #2nd import intentional (for notebook_finder nuances)\n",
    "    print(\"You are logged in as %s\" % goodsheet.get_email())\n",
    "    \n",
    "    # All errors get this message, so check filename & tabname carefully & read tracebacks\n",
    "    bad_api_message = \"Can't reach Spreadsheet or nothing to pipulate. Double-check & try again.\"\n",
    "    if workflow:\n",
    "        print(\"Must handle special workflows!\")\n",
    "    else:\n",
    "        print(\"Request for standard pipulate process detected.\")\n",
    "        pipulate()"
   ]
  },
  {
   "cell_type": "code",
   "execution_count": null,
   "metadata": {
    "collapsed": true
   },
   "outputs": [],
   "source": []
  }
 ],
 "metadata": {
  "anaconda-cloud": {},
  "kernelspec": {
   "display_name": "Python 3",
   "language": "python",
   "name": "python3"
  },
  "language_info": {
   "codemirror_mode": {
    "name": "ipython",
    "version": 3
   },
   "file_extension": ".py",
   "mimetype": "text/x-python",
   "name": "python",
   "nbconvert_exporter": "python",
   "pygments_lexer": "ipython3",
   "version": "3.5.2"
  }
 },
 "nbformat": 4,
 "nbformat_minor": 0
}
