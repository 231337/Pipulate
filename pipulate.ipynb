{
 "cells": [
  {
   "cell_type": "markdown",
   "metadata": {},
   "source": [
    "# Pipulate: SEO Investigations Using Google Sheets"
   ]
  },
  {
   "cell_type": "markdown",
   "metadata": {
    "collapsed": false
   },
   "source": [
    "## Global Module Imports & Google Services Login\n",
    "These are the global imports that must remain at the top of the file and should not change."
   ]
  },
  {
   "cell_type": "code",
   "execution_count": null,
   "metadata": {
    "collapsed": false
   },
   "outputs": [],
   "source": [
    "import sys, shelve, requests       # Import common libraries used throughout system\n",
    "from imp import reload             # This keeps your edits to functions.ipynb in-memory\n",
    "import notebook_finder             # This allows .ipynb files to be loaded like as modules\n",
    "import goodsheet                   # Handles OAuth login for various Google API services\n",
    "from collections import namedtuple # Allows creation of informative APIs for workflows, etc."
   ]
  },
  {
   "cell_type": "markdown",
   "metadata": {},
   "source": [
    "## Configuration Options"
   ]
  },
  {
   "cell_type": "code",
   "execution_count": null,
   "metadata": {
    "collapsed": false
   },
   "outputs": [],
   "source": [
    "rows_to_batch  = 20    # Number of rows to process before Sheets batch update (i.e. 10)\n",
    "chunk_limit    = 0     # Limit processing to x-chunks when testing new funcs (0 = all)"
   ]
  },
  {
   "cell_type": "markdown",
   "metadata": {},
   "source": [
    "## Define Interface for Creating Workflows"
   ]
  },
  {
   "cell_type": "code",
   "execution_count": null,
   "metadata": {
    "collapsed": true
   },
   "outputs": [],
   "source": [
    "Populate = namedtuple('Populate', 'sheet tab rows cols') # Create and populate tables\n",
    "Pipulate = namedtuple('Pipulate', 'sheet tab args data cache') # Per-row lookups on tables\n",
    "Python = namedtuple('Python', 'sheet function') # Arbitrary function against table"
   ]
  },
  {
   "cell_type": "markdown",
   "metadata": {},
   "source": [
    "## Default Workflow\n",
    "These values provide increased control and capabilities in the pipulation process."
   ]
  },
  {
   "cell_type": "code",
   "execution_count": null,
   "metadata": {
    "collapsed": false
   },
   "outputs": [],
   "source": [
    "# This can be left as-is, with just the sheet & tab values changed to match your sheet.\n",
    "# This can also be modified to support multi-stage workflows (to populate then pipulate)\n",
    "workflow = [Pipulate(sheet=\"Test\", tab=\"Sheet1\", args=None, data=None, cache=False)]"
   ]
  },
  {
   "cell_type": "markdown",
   "metadata": {},
   "source": [
    "## Alternative Workflow Examples\n",
    "\n",
    "**First, we create our column names (it can alternatively be included in the list_of_lists)**\n",
    "\n",
    "    column_names=['c1','c2','c3']\n",
    "\n",
    "**Then, we create a list of lists**\n",
    "\n",
    "    list_of_lists = [['1','2','3'],['a','b','c']]\n",
    "\n",
    "**And finally, we make it an item in a workflow**\n",
    "\n",
    "    workflow = [Populate(sheet=\"Test\", tab=\"Foo\", rows=list_of_lists, cols=column_names)]\n",
    "    \n",
    "**Multiple items can go in a workflow for more advanced multi-stage investigations**\n",
    "\n",
    "    workflow = [Populate(sheet=\"Test\", tab=\"Foo\", rows=list_of_lists, cols=column_names),\n",
    "                Pipulate(sheet=\"Test\", tab=\"Foo\", args=None, data=None, cache=False)]"
   ]
  },
  {
   "cell_type": "code",
   "execution_count": null,
   "metadata": {
    "collapsed": true
   },
   "outputs": [],
   "source": [
    "def pipulate(google_sheet_name, google_sheet_tab, tab_with_args=None, data=None, cache=True):\n",
    "    \"\"\"Update all cells in Google Sheet where columns are named with pipulate functions.\n",
    "    \n",
    "    The pipulate function is defines the conventional behavior of using GSheets for I/O.\n",
    "    It scans from left-to-right and top-to-bottom of a Google Sheet, finding \"requests\".\n",
    "    Requests are empty cells in columns labeled with function names found in functions module.\n",
    "    Pipulate will execute the named function using values from that row as function arguments.\n",
    "    The entire row's contents are fed into the named function as key/value pairs as **kwargs.\n",
    "    If **kwargs proves to be too messy, decorators like @url can clean up the passed-in args.\n",
    "    Results are batched-up and the sheet updated on every \"rows_to_batch\" number of rows.\n",
    "    Because pipulate works against pre-existing rows, we must often create some rows first.\n",
    "    More complex workflows can chain-up a series of row-creations and subsequent pipulations.\"\"\"\n",
    "    \n",
    "    # Create connection to GSheets, gather important details, and fail immediately on trouble.\n",
    "    print('Examining \"%s\" in \"%s\"...' % (google_sheet_tab, google_sheet_name))\n",
    "    try:\n",
    "        worksheet = goodsheet.connect.open(google_sheet_name).worksheet(google_sheet_tab)\n",
    "        rows = worksheet.row_count\n",
    "        cols = worksheet.col_count\n",
    "        end_range = worksheet.get_addr_int(rows, cols)\n",
    "        col_count = worksheet.col_count\n",
    "    except:\n",
    "        print(\"Error: %s\" % sys.exc_info()[0])\n",
    "        raise SystemExit()\n",
    "    \n",
    "    # Make a grab for additional key/value pair arguments (like API keys) from optional tab.\n",
    "    arg_dict = {}\n",
    "    arg_cells = None\n",
    "    if tab_with_args:\n",
    "        print('Looking for optional key/value pairs in \"%s\" tab...' % (tab_with_args))\n",
    "        try:\n",
    "            arg_sheet = goodsheet.connect.open(google_sheet_name).worksheet(tab_with_args)     \n",
    "            arg_cells = arg_sheet.range(\"A1:B20\")\n",
    "        except:\n",
    "            print(\"Error: %s\" % sys.exc_info()[0])\n",
    "            raise SystemExit()\n",
    "    if arg_cells:\n",
    "        arg_temp = None\n",
    "        for an_arg in arg_cells:\n",
    "            if an_arg.value:\n",
    "                if an_arg.col == 1:\n",
    "                    arg_temp = an_arg.value\n",
    "                else:\n",
    "                    if an_arg.value:\n",
    "                        arg_dict[arg_temp] = an_arg.value\n",
    "                    else:\n",
    "                        arg_dict[arg_temp] = None\n",
    "                        arg_temp = None\n",
    "            else:\n",
    "                break\n",
    "\n",
    "    # Create dictionary of pipulate functions invokable using their string-names dict keys!\n",
    "    pipulate_funcs = [x for x in dir(functions) if x[0] is not '_']\n",
    "    func_dict = {x.lower():eval('functions.%s' % x) for x in pipulate_funcs}\n",
    "\n",
    "    # Create list of all the values found in the 1st row so we can identify named functions.\n",
    "    row1_range = 'A1:%s' % worksheet.get_addr_int(1, col_count)\n",
    "    cell_range = worksheet.range(row1_range)\n",
    "    col_names = [x.value.lower() for x in cell_range]\n",
    "\n",
    "    # Find the first blank row in the sheet so we can always efficiently start in the right place.\n",
    "    list_of_rows = worksheet.get_all_values() #Expensive but worth it\n",
    "    first_row_with_blank = rows #Default to end-of-sheet, unless actual blanks are found.\n",
    "    if len(list_of_rows) == 1:\n",
    "        first_row_with_blank = 2 #If we only find 1 row (at all), then row 2 MUST be 1st blank.\n",
    "    for row_dex, arow in enumerate(list_of_rows):\n",
    "        for cell_dex, acell in enumerate(arow):\n",
    "            if not acell and cell_range[cell_dex].value in func_dict: #Blank must be in func col.\n",
    "                first_row_with_blank = row_dex+1\n",
    "                break\n",
    "        else:\n",
    "            continue\n",
    "        break\n",
    "    list_of_rows = None #Blank no longer necessary potentially large object (be kind to memory)\n",
    "    \n",
    "    # Cunk the sheet into a series of ranges that will be used for batch-updates\n",
    "    chunk_ranges = [(x+1, x+rows_to_batch+1) for x in list(range(rows-1)) if x%rows_to_batch == 0]\n",
    "    chunks_to_go = [(x,y) for x,y in chunk_ranges if y > first_row_with_blank]\n",
    "    \n",
    "    # Pipulate each chunk\n",
    "    for chunk_dex, (row_start, row_end) in enumerate(chunks_to_go):\n",
    "        if chunk_limit > 0 and chunk_dex >= chunk_limit:\n",
    "            break\n",
    "        \n",
    "        # Convert each chunk into Excel-like A2:B2 range notation\n",
    "        top_left = worksheet.get_addr_int(row_start+1, 1)\n",
    "        lower_right = worksheet.get_addr_int(row_end, cols)\n",
    "        range_string = \"%s:%s\" % (top_left, lower_right)\n",
    "        \n",
    "        # Calculate correct number of rows in the last (likely) uneven chunk\n",
    "        if chunk_dex+1 == len(chunk_ranges):\n",
    "            range_string = \"%s:%s\" % (top_left, end_range)\n",
    "        print(\"Pipulating range %s of %s (%s)\" % (chunk_dex+1, len(chunks_to_go), range_string))\n",
    "        print(\"%s updating in: \" % range_string, end=\"\")\n",
    "\n",
    "        # Use chunk range to create new GSpread worksheet obj for writing-back response values.\n",
    "        try:\n",
    "            chunk_range = worksheet.range(range_string)\n",
    "        except:\n",
    "            print(\"Error: %s\" % sys.exc_info()[0])\n",
    "            break\n",
    "            \n",
    "        # Step through each cell in the current chunk.\n",
    "        row_dict = {} #Will contain all values from row and be passed to function as **kwargs\n",
    "        count_down = int(len(chunk_range)/col_count)+1\n",
    "        for cell_dex, acell in enumerate(chunk_range): #Working with cells, but interested in rows\n",
    "            row, col, val = acell.row, acell.col, acell.value\n",
    "            # Now we pipulate this row's row_dict with column-name/cell-value pairs\n",
    "            row_dict[col_names[col-1]] = val\n",
    "            if col%col_count == 0: #This is how we determine reaching last cell of row\n",
    "                count_down = count_down - 1\n",
    "                print(\"%s, \" % count_down, end=\"\")\n",
    "                requests_response = None #HTML-cache object loop-leak prevention\n",
    "                Response = None #Function-return loop-leak prevention\n",
    "                # Why fetch the HTML for a URL more than once, if you don't have to?\n",
    "                if 'url' in row_dict:\n",
    "                    with shelve.open('urls') as urls:\n",
    "                        if cache == True and row_dict['url'] in urls.keys():\n",
    "                            requests_response = urls[row_dict['url']]\n",
    "                        else:\n",
    "                            try:\n",
    "                                requests_response = requests.get(row_dict['url'])\n",
    "                                urls[row_dict['url']] = requests_response #The moment of pickling\n",
    "                            except requests.exceptions.RequestException as e:\n",
    "                                print(\"(bad url) \", end=\"\")\n",
    "                                continue\n",
    "                        # We now make the ENTIRE response object available to pipulate functions.\n",
    "                        row_dict['response'] = requests_response\n",
    "                # If data exists, we make it mutably available (for memory) to every row\n",
    "                if data:\n",
    "                    row_dict['data'] = data\n",
    "                for key, val in row_dict.items():\n",
    "                    if not val: #Only process empty cells in function-named columns\n",
    "                        if key in [x.lower() for x in dir(functions) if x[0] is not '_']:\n",
    "                            if arg_dict:\n",
    "                                row_dict = {**arg_dict, **row_dict}\n",
    "                                if '' in row_dict:\n",
    "                                    del row_dict['']\n",
    "                                if 'response' in row_dict:\n",
    "                                    del row_dict['response']\n",
    "                            try:\n",
    "                                Response = func_dict[key](**row_dict) #pipulate!\n",
    "                            except:\n",
    "                                print(\"%s error in %s.\" % (sys.exc_info()[0], key))\n",
    "                                continue\n",
    "                            # We pipulate at end-of-row but update back to earlier cells from row.\n",
    "                            row_start = cell_dex-cols+1\n",
    "                            func_dex = col_names.index(key)\n",
    "                            update_cell = row_start + func_dex\n",
    "                            if Response.ok:\n",
    "                                chunk_range[update_cell].value = Response.text #uncommitted\n",
    "                            else:\n",
    "                                chunk_range[update_cell].value = \"Err: %s\" % Response.status_code\n",
    "                            row_dict = {} # Blank the now-used row_dict just for good measure\n",
    "        try:\n",
    "            # Batch update Google Sheets with the modified chunk_range.\n",
    "            worksheet.update_cells(chunk_range)\n",
    "            print(\"Range updated!\")\n",
    "        except:\n",
    "            print(bad_api_message)\n",
    "    print(\"Pipulation complete!\") #do a little dance\n",
    "    worksheet = None"
   ]
  },
  {
   "cell_type": "code",
   "execution_count": null,
   "metadata": {
    "collapsed": false
   },
   "outputs": [],
   "source": [
    "def populate(sheet, tab, rows, cols=None):\n",
    "    print('Checking for \"%s\" in \"%s\"...' % (tab, sheet))\n",
    "    try:\n",
    "        spread = goodsheet.connect.open(sheet)\n",
    "        list_of_sheets = spread.worksheets()\n",
    "    except:\n",
    "        print(\"Error: %s\" % sys.exc_info()[0])\n",
    "        raise SystemExit()\n",
    "    sheets = [x.title for x in list_of_sheets]\n",
    "    list_of_lists = rows\n",
    "    if cols and len(cols) == len(rows[0]):\n",
    "        headers = [cols]\n",
    "        list_of_lists = headers + rows\n",
    "    numrows = len(list_of_lists)\n",
    "    numcols = len(list_of_lists[0])\n",
    "    try:\n",
    "        if tab not in sheets:\n",
    "            print(\"Creating %s\" % tab)\n",
    "            spread.add_worksheet(tab, numcols, numrows)\n",
    "            worksheet = goodsheet.connect.open(sheet).worksheet(tab)\n",
    "        else:\n",
    "            print(\"Resetting %s\" % tab)\n",
    "            worksheet = goodsheet.connect.open(sheet).worksheet(tab)\n",
    "            worksheet.resize(rows=numrows, cols=numcols)\n",
    "        end_range = worksheet.get_addr_int(numrows, numcols)\n",
    "    except:\n",
    "        print(\"Error: %s\" % sys.exc_info()[0])\n",
    "        raise SystemExit()            \n",
    "    range_string = \"A1:%s\" % end_range\n",
    "    chunk_range = worksheet.range(range_string)\n",
    "    flat_list = [item for sublist in list_of_lists for item in sublist]\n",
    "    for index, a_cell in enumerate(chunk_range):\n",
    "        a_cell.value = flat_list[index]\n",
    "    try:\n",
    "        worksheet.update_cells(chunk_range)\n",
    "    except:\n",
    "        print(\"Error: %s\" % sys.exc_info()[0])\n",
    "        raise SystemExit()            "
   ]
  },
  {
   "cell_type": "code",
   "execution_count": null,
   "metadata": {
    "collapsed": false
   },
   "outputs": [],
   "source": [
    "if __name__ == '__main__':\n",
    "    import functions\n",
    "    reload(functions)\n",
    "    import functions #2nd import intentional (for notebook_finder nuances)\n",
    "    print(\"You are logged in as %s\" % goodsheet.get_email())\n",
    "    \n",
    "    # All errors get this message, so check filename & tabname carefully & read tracebacks\n",
    "    bad_api_message = \"Can't reach Spreadsheet or nothing to pipulate. Double-check & try again.\"\n",
    "    \n",
    "    print(\"Workflow beginning.\")\n",
    "    for a_tuple in workflow:\n",
    "        tuple_name = type(a_tuple).__name__\n",
    "        if tuple_name == 'Pipulate':\n",
    "            print(\"Pipulate request being processed...\")\n",
    "            sheet, tab, args, data, cache = a_tuple\n",
    "            pipulate(sheet, tab, args, data, cache)\n",
    "        elif tuple_name == 'Populate':\n",
    "            print(\"Populate request being processed...\")\n",
    "            sheet, tab, rows, cols = a_tuple\n",
    "            populate(sheet, tab, rows, cols)\n",
    "    print(\"Workflow complete.\")\n"
   ]
  },
  {
   "cell_type": "code",
   "execution_count": null,
   "metadata": {
    "collapsed": false
   },
   "outputs": [],
   "source": [
    "functions.blah()"
   ]
  },
  {
   "cell_type": "code",
   "execution_count": null,
   "metadata": {
    "collapsed": true
   },
   "outputs": [],
   "source": []
  }
 ],
 "metadata": {
  "anaconda-cloud": {},
  "kernelspec": {
   "display_name": "Python [py35]",
   "language": "python",
   "name": "Python [py35]"
  },
  "language_info": {
   "codemirror_mode": {
    "name": "ipython",
    "version": 3
   },
   "file_extension": ".py",
   "mimetype": "text/x-python",
   "name": "python",
   "nbconvert_exporter": "python",
   "pygments_lexer": "ipython3",
   "version": "3.5.1"
  }
 },
 "nbformat": 4,
 "nbformat_minor": 0
}
