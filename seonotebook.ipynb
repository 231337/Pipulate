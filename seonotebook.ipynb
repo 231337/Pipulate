{
 "cells": [
  {
   "cell_type": "markdown",
   "metadata": {},
   "source": [
    "# SEO Notebook"
   ]
  },
  {
   "cell_type": "code",
   "execution_count": null,
   "metadata": {
    "collapsed": false
   },
   "outputs": [],
   "source": [
    "\"\"\"A framework for conducting SEO investigations, using Google Spreadsheets for I/O.\"\"\""
   ]
  },
  {
   "cell_type": "code",
   "execution_count": null,
   "metadata": {
    "collapsed": false
   },
   "outputs": [],
   "source": [
    "import notebook_finder    #Allows .ipynb files to be loaded like filename.py modules\n",
    "import goodsheet          #Handles OAuth login for all relevant Google services\n",
    "from imp import reload    #Keeps in-memory functions reflecting your pipulate.ipynb edits\n",
    "import shelve"
   ]
  },
  {
   "cell_type": "code",
   "execution_count": null,
   "metadata": {
    "collapsed": true
   },
   "outputs": [],
   "source": [
    "cache_html = True\n",
    "google_sheet_name = 'Lookups'\n",
    "google_sheet_tab  = 'Sheet1'"
   ]
  },
  {
   "cell_type": "code",
   "execution_count": null,
   "metadata": {
    "collapsed": false
   },
   "outputs": [],
   "source": [
    "if __name__ == '__main__':\n",
    "    import pipulate\n",
    "    reload(pipulate)\n",
    "    import pipulate #intentional\n",
    "    worksheet = goodsheet.connect.open(google_sheet_name).worksheet(google_sheet_tab)\n",
    "    pipulate_funcs = [x for x in dir(pipulate) if x[0] is not '_']\n",
    "    func_dict = {x.lower():eval('pipulate.%s' % x) for x in pipulate_funcs}\n",
    "    try:\n",
    "        end_range = worksheet.get_addr_int(worksheet.row_count, worksheet.col_count)\n",
    "        cell_range = worksheet.range('A1:%s' % end_range)\n",
    "        col_count = worksheet.col_count\n",
    "    except:\n",
    "        print(\"Cannot reach Google Sheets.\")\n",
    "        raise SystemExit()\n",
    "    col_names = []\n",
    "    row_dict = {}\n",
    "    #if cache_html == True:\n",
    "    #    urls = shelve.open('urls.db')\n",
    "    print(\"Pipulating row: \", end=\"\")\n",
    "    for i, acell in enumerate(cell_range):\n",
    "        row, col, val = acell.row, acell.col, acell.value\n",
    "        if (col)%col_count == 0:\n",
    "            print(row, end=\", \")\n",
    "        if row == 1:\n",
    "            col_names.append(val.lower())\n",
    "        else:\n",
    "            row_dict[col_names[col-1]] = val\n",
    "            if col%col_count == 0:\n",
    "                # Reached end of row, let's Pipulate!\n",
    "                if 'url' in row_dict:\n",
    "                    #raise SystemExit()\n",
    "                    pass\n",
    "                for key, val in row_dict.items():\n",
    "                    if not val:\n",
    "                        if key in [x.lower() for x in dir(pipulate) if x[0] is not '_']:\n",
    "                            success_code, new_text = func_dict[key](**row_dict)\n",
    "                            cell_address = (row*col_count) - col_count + col_names.index(key)\n",
    "                            cell_range[cell_address].value = new_text\n",
    "                row_dict = {}\n",
    "    print(\"Done, updating spreadsheet...\")\n",
    "    try:\n",
    "        worksheet.update_cells(cell_range)\n",
    "        print(\"Updated!\")\n",
    "    except:\n",
    "        print(\"Update failed.\")"
   ]
  }
 ],
 "metadata": {
  "kernelspec": {
   "display_name": "Python 3",
   "language": "python",
   "name": "python3"
  },
  "language_info": {
   "codemirror_mode": {
    "name": "ipython",
    "version": 3
   },
   "file_extension": ".py",
   "mimetype": "text/x-python",
   "name": "python",
   "nbconvert_exporter": "python",
   "pygments_lexer": "ipython3",
   "version": "3.5.2"
  }
 },
 "nbformat": 4,
 "nbformat_minor": 0
}
