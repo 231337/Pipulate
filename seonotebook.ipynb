{
 "cells": [
  {
   "cell_type": "markdown",
   "metadata": {},
   "source": [
    "# SEO Notebook"
   ]
  },
  {
   "cell_type": "code",
   "execution_count": null,
   "metadata": {
    "collapsed": false
   },
   "outputs": [],
   "source": [
    "\"\"\"A framework for conducting SEO investigations, using Google Spreadsheets for I/O.\"\"\""
   ]
  },
  {
   "cell_type": "code",
   "execution_count": null,
   "metadata": {
    "collapsed": false
   },
   "outputs": [],
   "source": [
    "import notebook_finder    # Allows .ipynb files to be loaded like filename.py modules\n",
    "import goodsheet          # Handles OAuth login for all relevant Google services\n",
    "from imp import reload    # Keeps in-memory functions reflecting your pipulate.ipynb edits\n",
    "import shelve, requests"
   ]
  },
  {
   "cell_type": "code",
   "execution_count": null,
   "metadata": {
    "collapsed": true
   },
   "outputs": [],
   "source": [
    "rows_to_batch = 100\n",
    "cache_html = True\n",
    "google_sheet_name = '20k'\n",
    "google_sheet_tab  = '20k'"
   ]
  },
  {
   "cell_type": "code",
   "execution_count": null,
   "metadata": {
    "collapsed": false
   },
   "outputs": [],
   "source": [
    "if __name__ == '__main__':\n",
    "    import pipulate\n",
    "    reload(pipulate)\n",
    "    import pipulate # 2nd import intentional\n",
    "    \n",
    "    bad_api_message = \"Can't reach Spreadsheet. Double-check file & tab name, or try again later.\"\n",
    "    # Test our connection to the spreadsheet and get its size.\n",
    "    try:\n",
    "        worksheet = goodsheet.connect.open(google_sheet_name).worksheet(google_sheet_tab)\n",
    "        rows = worksheet.row_count\n",
    "        cols = worksheet.col_count\n",
    "        end_range = worksheet.get_addr_int(rows, cols)\n",
    "        col_count = worksheet.col_count\n",
    "    except:\n",
    "        print(bad_api_message)\n",
    "        raise SystemExit()\n",
    "\n",
    "    # Create a dictionary of name-addressable functions from the Pipulate module.\n",
    "    pipulate_funcs = [x for x in dir(pipulate) if x[0] is not '_']\n",
    "    func_dict = {x.lower():eval('pipulate.%s' % x) for x in pipulate_funcs}\n",
    "\n",
    "    # Row 1 contains column name values and may name pipulate functions.\n",
    "    row1_range = 'A1:%s' % worksheet.get_addr_int(1, col_count)\n",
    "    cell_range = worksheet.range(row1_range)\n",
    "    col_names = [x.value.lower() for x in cell_range]\n",
    "\n",
    "    # To pick up where left off on long jobs, get first row with a blank cell\n",
    "    all_cells = worksheet.get_all_values()\n",
    "    first_row_with_blank = [(i,x) for i,x in enumerate(all_cells) if not x[2]][0][0]+1\n",
    "    all_cells = None\n",
    "    \n",
    "    # Split spreadsheet into a series of ranges (not yet in Excel-like A2:B10 notation).\n",
    "    chunk_ranges = [(x+1, x+rows_to_batch) for x in list(range(rows)) if x%rows_to_batch == 0]\n",
    "    unprocessed_chunk_ranges = [(x,y) for x,y in chunk_ranges if y > first_row_with_blank]\n",
    "    \n",
    "    # Every range chunk becomes its own chunk_range for batch updates.\n",
    "    for chunk_dex, (row_start, row_end) in enumerate(unprocessed_chunk_ranges):\n",
    "\n",
    "        something_to_update = False # Toggled to True if any cell in range gets pipulated\n",
    "\n",
    "        # Create Excel-ranges for each chunk\n",
    "        top_left = worksheet.get_addr_int(row_start+1, 1)\n",
    "        lower_right = worksheet.get_addr_int(row_end+1, cols)\n",
    "        range_string = \"%s:%s\" % (top_left, lower_right)\n",
    "\n",
    "        # If it's the last chunk, beware odd number of rows!\n",
    "        if chunk_dex+1 == len(chunk_ranges):\n",
    "            range_string = \"%s:%s\" % (top_left, end_range)\n",
    "        print(\"Pipulating chunk %s of %s (%s)...\" % (chunk_dex+1, len(chunk_ranges), range_string))\n",
    "\n",
    "        # We create a chunk_range for the chunk for both reading and writing-back values.\n",
    "        try:\n",
    "            chunk_range = worksheet.range(range_string)\n",
    "        except:\n",
    "            print(bad_api_message)\n",
    "\n",
    "        # Now, we step through each cell in the current chunk.\n",
    "        row_dict = {} #pipulation object\n",
    "        for cell_dex, acell in enumerate(chunk_range):\n",
    "            row, col, val = acell.row, acell.col, acell.value\n",
    "            # Populate row_dict with key/value pairs for every column of row.\n",
    "            row_dict[col_names[col-1]] = val\n",
    "            if col%col_count == 0: #last row of column / ready to pipulate!\n",
    "                if something_to_update:\n",
    "                    print(\"Row: %s of %s\" % (row, rows))\n",
    "                response = None\n",
    "                # Why fetch the HTML for a URL more than once, if you don't have to?\n",
    "                if 'url' in row_dict:\n",
    "                    with shelve.open('urls') as urls:\n",
    "                        if cache_html == True and row_dict['url'] in urls.keys():\n",
    "                            response = urls[row_dict['url']]\n",
    "                        else:\n",
    "                            try:\n",
    "                                response = requests.get(row_dict['url'])\n",
    "                                urls[row_dict['url']] = response\n",
    "                            except requests.exceptions.RequestException as e:\n",
    "                                print(\"HTTP request failed. Check URL.\")\n",
    "                                raise SystemExit()\n",
    "                        # We make ENTIRE response object is made available to Pipulate functions.\n",
    "                        row_dict['response'] = response\n",
    "                # To pipulate a row, we step through the row_dict that now contains all data from row.\n",
    "                for key, val in row_dict.items():\n",
    "                    if not val: #only pipulate empty cells\n",
    "                        something_to_update = True\n",
    "                        # Only process columns that use Pipulate function names.\n",
    "                        if key in [x.lower() for x in dir(pipulate) if x[0] is not '_']:\n",
    "                            try:\n",
    "                                success_code, new_text = func_dict[key](**row_dict) # SHAZAM! Think about it.\n",
    "                            except:\n",
    "                                print('Problem in Pipulate function: %s' % key)\n",
    "                                raise SystemExit()\n",
    "                            # Remember, we are no longer actually ON the cell that we need to update, so we\n",
    "                            # figure out which cell should updated with the value we just produced.\n",
    "                            row_start = cell_dex-cols+1\n",
    "                            func_dex = col_names.index(key)\n",
    "                            cell_to_update = row_start + func_dex\n",
    "                            chunk_range[cell_to_update].value = new_text #updates the in-memory object\n",
    "                            row_dict = {} # Blank the now-used row_dict just for good measure\n",
    "        try:\n",
    "            # Batch update Google Sheets with the modified chunk_range.\n",
    "            if something_to_update:\n",
    "                worksheet.update_cells(chunk_range)\n",
    "                print(\"Range updated.\")\n",
    "            else:\n",
    "                print(\"Nothing pipulated in range.\")\n",
    "        except:\n",
    "            print(bad_api_message)\n",
    "    print(\"Pipulation complete!\") #do a little dance"
   ]
  }
 ],
 "metadata": {
  "kernelspec": {
   "display_name": "Python [py35]",
   "language": "python",
   "name": "Python [py35]"
  },
  "language_info": {
   "codemirror_mode": {
    "name": "ipython",
    "version": 3
   },
   "file_extension": ".py",
   "mimetype": "text/x-python",
   "name": "python",
   "nbconvert_exporter": "python",
   "pygments_lexer": "ipython3",
   "version": "3.5.1"
  }
 },
 "nbformat": 4,
 "nbformat_minor": 0
}
