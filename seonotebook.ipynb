{
 "cells": [
  {
   "cell_type": "markdown",
   "metadata": {},
   "source": [
    "# SEO Notebook"
   ]
  },
  {
   "cell_type": "code",
   "execution_count": null,
   "metadata": {
    "collapsed": false
   },
   "outputs": [],
   "source": [
    "\"\"\"A framework for conducting SEO investigations, using Google Spreadsheets for I/O.\"\"\""
   ]
  },
  {
   "cell_type": "code",
   "execution_count": null,
   "metadata": {
    "collapsed": false
   },
   "outputs": [],
   "source": [
    "import notebook_finder      # Allows .ipynb files to be loaded like filename.py modules\n",
    "import goodsheet            # Handles OAuth login for all relevant Google services\n",
    "from imp import reload      # Keeps in-memory functions reflecting your pipulate.ipynb edits\n",
    "import shelve, requests     # For fetching & archiving HTTP responses to URL input-columns"
   ]
  },
  {
   "cell_type": "code",
   "execution_count": null,
   "metadata": {
    "collapsed": true
   },
   "outputs": [],
   "source": [
    "rows_to_batch = 100         # Number of rows to process before \"seeing\" update in Google Sheets\n",
    "cache_html = True           # Whether to use previously locally cached version versions of hte URLs\n",
    "google_sheet_name = '20k'   # Set to name of a Google Spreadsheet File you own\n",
    "google_sheet_tab  = '1k'   # Set to name of the Tab in the Google Spreasheet you want to pipulate"
   ]
  },
  {
   "cell_type": "code",
   "execution_count": null,
   "metadata": {
    "collapsed": false
   },
   "outputs": [],
   "source": [
    "if __name__ == '__main__':  # The entire Pipulate implementation (minus the functions) \"lives\" here\n",
    "    import pipulate\n",
    "    reload(pipulate)\n",
    "    import pipulate         # 2nd import intentional (for notebook_finder nuances)\n",
    "    \n",
    "    # All errors get this message, so check filename & tabname carefully & read tracebacks\n",
    "    bad_api_message = \"Can't reach Spreadsheet or nothing to Pipulate. Double-check & try again.\"\n",
    "    try:\n",
    "        #Create the main connection to GSheets and gather some important sheet stats\n",
    "        worksheet = goodsheet.connect.open(google_sheet_name).worksheet(google_sheet_tab)\n",
    "        rows = worksheet.row_count\n",
    "        cols = worksheet.col_count\n",
    "        end_range = worksheet.get_addr_int(rows, cols)\n",
    "        col_count = worksheet.col_count\n",
    "    except:\n",
    "        print(bad_api_message)\n",
    "        raise SystemExit()\n",
    "\n",
    "    # Create dictionary of Pipulate functions invokable with their string-name keys\n",
    "    pipulate_funcs = [x for x in dir(pipulate) if x[0] is not '_']\n",
    "    func_dict = {x.lower():eval('pipulate.%s' % x) for x in pipulate_funcs}\n",
    "\n",
    "    print(\"Examining spreadsheet...\")\n",
    "    \n",
    "    # Row 1 is special; containing potential function-names needed later for row dict index\n",
    "    row1_range = 'A1:%s' % worksheet.get_addr_int(1, col_count)\n",
    "    cell_range = worksheet.range(row1_range)\n",
    "    col_names = [x.value.lower() for x in cell_range]\n",
    "\n",
    "    # To pick up where left off on long jobs, get first row with a blank cell\n",
    "    list_of_rows = worksheet.get_all_values() #Expensive but worth it\n",
    "    # An example of where we DON'T do list comprehensions, for readability's sake\n",
    "    for row_dex, arow in enumerate(list_of_rows):\n",
    "        for acell in arow:\n",
    "            if not acell: #Finds 1st empty cell\n",
    "                break\n",
    "        else:\n",
    "            continue\n",
    "        break\n",
    "    first_row_with_blank = row_dex\n",
    "        \n",
    "    list_of_rows = None #Too big to keep around\n",
    "    \n",
    "    # Split spreadsheet into a series of ranges (which need to get into A2:B2 range notation).\n",
    "    chunk_ranges = [(x+1, x+rows_to_batch+1) for x in list(range(rows-1)) if x%rows_to_batch == 0]\n",
    "    unprocessed_chunks = [(x,y) for x,y in chunk_ranges if y > first_row_with_blank]\n",
    "      \n",
    "    # Every range chunk becomes its own chunk_range for batch updates.\n",
    "    for chunk_dex, (row_start, row_end) in enumerate(unprocessed_chunks):\n",
    "\n",
    "        # Create A2:B2 range notation for each chunk\n",
    "        top_left = worksheet.get_addr_int(row_start+1, 1)\n",
    "        lower_right = worksheet.get_addr_int(row_end+1, cols)\n",
    "        range_string = \"%s:%s\" % (top_left, lower_right)\n",
    "        \n",
    "        # Calculate correct number of rows in last uneven chunk\n",
    "        if chunk_dex+1 == len(chunk_ranges):\n",
    "            range_string = \"%s:%s\" % (top_left, end_range)\n",
    "        print(\"Pipulating range %s of %s (%s)\" % (chunk_dex+1, len(unprocessed_chunks), range_string))\n",
    "        print(\"Countdown to update: \", end=\"\")\n",
    "\n",
    "        # We create a chunk_range for the chunk for both reading and writing-back values.\n",
    "        try:\n",
    "            chunk_range = worksheet.range(range_string)\n",
    "        except:\n",
    "            print(bad_api_message)\n",
    "            raise SystemExit()\n",
    "            \n",
    "        # Now, we step through each cell in the current chunk.\n",
    "        row_dict = {} #This object is the \"row memory\" and key to the pipulation process\n",
    "        count_down = int(len(chunk_range)/col_count)+1\n",
    "        for cell_dex, acell in enumerate(chunk_range): #Working with cells, but interested in rows\n",
    "            row, col, val = acell.row, acell.col, acell.value\n",
    "            # Now we pipulate this row's row_dict with column-name/cell-value pairs\n",
    "            row_dict[col_names[col-1]] = val\n",
    "            if col%col_count == 0: #This is how we determine reaching last cell of row\n",
    "                count_down = count_down - 1\n",
    "                print(\"%s, \" % count_down, end=\"\")\n",
    "                response = None #Loop-leak prevention\n",
    "                # Why fetch the HTML for a URL more than once, if you don't have to?\n",
    "                if 'url' in row_dict:\n",
    "                    with shelve.open('urls') as urls:\n",
    "                        if cache_html == True and row_dict['url'] in urls.keys():\n",
    "                            response = urls[row_dict['url']]\n",
    "                        else:\n",
    "                            try:\n",
    "                                response = requests.get(row_dict['url'])\n",
    "                                urls[row_dict['url']] = response\n",
    "                            except requests.exceptions.RequestException as e:\n",
    "                                print(\"HTTP request failed. Check URL.\")\n",
    "                                raise SystemExit()\n",
    "                        # We now make the ENTIRE response object is made available to Pipulate functions.\n",
    "                        row_dict['response'] = response\n",
    "                # To pipulate a row, we step through the row_dict that now contains all data from row.\n",
    "                for key, val in row_dict.items():\n",
    "                    if not val: #only pipulate empty cells\n",
    "                        # Only process columns that use Pipulate function names.\n",
    "                        if key in [x.lower() for x in dir(pipulate) if x[0] is not '_']:\n",
    "                            try:\n",
    "                                success_code, new_text = func_dict[key](**row_dict) # SHAZAM! (the magic)\n",
    "                            except:\n",
    "                                print('Problem in Pipulate function: %s' % key)\n",
    "                                raise SystemExit()\n",
    "                            # Remember we are no longer actually ON the cell that we need to update, so we\n",
    "                            # figure out which of the row's cell should updated with this pipulate output.\n",
    "                            row_start = cell_dex-cols+1\n",
    "                            func_dex = col_names.index(key)\n",
    "                            cell_to_update = row_start + func_dex\n",
    "                            chunk_range[cell_to_update].value = new_text #updates in-memory cells object\n",
    "                            row_dict = {} # Blank the now-used row_dict just for good measure\n",
    "        try:\n",
    "            # Batch update Google Sheets with the modified chunk_range.\n",
    "            worksheet.update_cells(chunk_range)\n",
    "            print(\"Range updated!\")\n",
    "        except:\n",
    "            print(bad_api_message)\n",
    "    print(\"Pipulation complete!\") #do a little dance\n",
    "    worksheet = None"
   ]
  },
  {
   "cell_type": "code",
   "execution_count": null,
   "metadata": {
    "collapsed": true
   },
   "outputs": [],
   "source": []
  }
 ],
 "metadata": {
  "anaconda-cloud": {},
  "kernelspec": {
   "display_name": "Python [py35]",
   "language": "python",
   "name": "Python [py35]"
  },
  "language_info": {
   "codemirror_mode": {
    "name": "ipython",
    "version": 3
   },
   "file_extension": ".py",
   "mimetype": "text/x-python",
   "name": "python",
   "nbconvert_exporter": "python",
   "pygments_lexer": "ipython3",
   "version": "3.5.1"
  }
 },
 "nbformat": 4,
 "nbformat_minor": 0
}
