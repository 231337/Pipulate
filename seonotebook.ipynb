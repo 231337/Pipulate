{
 "cells": [
  {
   "cell_type": "markdown",
   "metadata": {},
   "source": [
    "# SEO Notebook"
   ]
  },
  {
   "cell_type": "code",
   "execution_count": 1,
   "metadata": {
    "collapsed": false
   },
   "outputs": [
    {
     "data": {
      "text/plain": [
       "'A framework for conducting SEO investigations, using Google Spreadsheets for I/O.'"
      ]
     },
     "execution_count": 1,
     "metadata": {},
     "output_type": "execute_result"
    }
   ],
   "source": [
    "\"\"\"A framework for conducting SEO investigations, using Google Spreadsheets for I/O.\"\"\""
   ]
  },
  {
   "cell_type": "code",
   "execution_count": 2,
   "metadata": {
    "collapsed": false
   },
   "outputs": [],
   "source": [
    "import notebook_finder    #Allows .ipynb files to be loaded like filename.py modules\n",
    "import goodsheet          #Handles OAuth login for all relevant Google services\n",
    "from imp import reload    #Keeps in-memory functions reflecting your pipulate.ipynb edits\n",
    "import shelve, requests"
   ]
  },
  {
   "cell_type": "code",
   "execution_count": 3,
   "metadata": {
    "collapsed": true
   },
   "outputs": [],
   "source": [
    "cache_html = True\n",
    "google_sheet_name = 'Lookups'\n",
    "google_sheet_tab  = 'Sheet1'\n",
    "rows_to_batch = 5"
   ]
  },
  {
   "cell_type": "code",
   "execution_count": 4,
   "metadata": {
    "collapsed": false
   },
   "outputs": [
    {
     "name": "stdout",
     "output_type": "stream",
     "text": [
      "1 8\n",
      "Pipulating chunk 1, range A2:B6...\n",
      "cell_dex: 0\n",
      "cell_dex: 1\n",
      "cell_dex: 2\n",
      "cell_dex: 3\n",
      "cell_dex: 4\n",
      "cell_dex: 5\n",
      "cell_dex: 6\n",
      "cell_dex: 7\n",
      "cell_dex: 8\n",
      "cell_dex: 9\n",
      "2 8\n",
      "Pipulating chunk 2, range A7:B11...\n",
      "cell_dex: 0\n",
      "cell_dex: 1\n",
      "cell_dex: 2\n",
      "cell_dex: 3\n",
      "cell_dex: 4\n",
      "cell_dex: 5\n",
      "cell_dex: 6\n",
      "cell_dex: 7\n",
      "cell_dex: 8\n",
      "cell_dex: 9\n",
      "3 8\n",
      "Pipulating chunk 3, range A12:B16...\n",
      "cell_dex: 0\n",
      "cell_dex: 1\n",
      "cell_dex: 2\n",
      "cell_dex: 3\n",
      "cell_dex: 4\n",
      "cell_dex: 5\n",
      "cell_dex: 6\n",
      "cell_dex: 7\n",
      "cell_dex: 8\n",
      "cell_dex: 9\n",
      "4 8\n",
      "Pipulating chunk 4, range A17:B21...\n",
      "cell_dex: 0\n",
      "cell_dex: 1\n",
      "cell_dex: 2\n",
      "cell_dex: 3\n",
      "cell_dex: 4\n",
      "cell_dex: 5\n",
      "cell_dex: 6\n",
      "cell_dex: 7\n",
      "cell_dex: 8\n",
      "cell_dex: 9\n",
      "5 8\n",
      "Pipulating chunk 5, range A22:B26...\n",
      "cell_dex: 0\n",
      "cell_dex: 1\n",
      "cell_dex: 2\n",
      "cell_dex: 3\n",
      "cell_dex: 4\n",
      "cell_dex: 5\n",
      "cell_dex: 6\n",
      "cell_dex: 7\n",
      "cell_dex: 8\n",
      "cell_dex: 9\n",
      "6 8\n",
      "Pipulating chunk 6, range A27:B31...\n",
      "cell_dex: 0\n",
      "cell_dex: 1\n",
      "cell_dex: 2\n",
      "cell_dex: 3\n",
      "cell_dex: 4\n",
      "cell_dex: 5\n",
      "cell_dex: 6\n",
      "cell_dex: 7\n",
      "cell_dex: 8\n",
      "cell_dex: 9\n",
      "7 8\n",
      "Pipulating chunk 7, range A32:B36...\n",
      "cell_dex: 0\n",
      "cell_dex: 1\n",
      "cell_dex: 2\n",
      "cell_dex: 3\n",
      "cell_dex: 4\n",
      "cell_dex: 5\n",
      "cell_dex: 6\n",
      "cell_dex: 7\n",
      "cell_dex: 8\n",
      "cell_dex: 9\n",
      "8 8\n",
      "Pipulating chunk 8, range A37:B37...\n",
      "cell_dex: 0\n",
      "cell_dex: 1\n"
     ]
    },
    {
     "ename": "SystemExit",
     "evalue": "",
     "output_type": "error",
     "traceback": [
      "An exception has occurred, use %tb to see the full traceback.\n",
      "\u001b[1;31mSystemExit\u001b[0m\n"
     ]
    },
    {
     "name": "stderr",
     "output_type": "stream",
     "text": [
      "To exit: use 'exit', 'quit', or Ctrl-D.\n"
     ]
    }
   ],
   "source": [
    "if __name__ == '__main__':\n",
    "    import pipulate\n",
    "    reload(pipulate)\n",
    "    import pipulate #intentional\n",
    "    worksheet = goodsheet.connect.open(google_sheet_name).worksheet(google_sheet_tab)\n",
    "    pipulate_funcs = [x for x in dir(pipulate) if x[0] is not '_']\n",
    "    func_dict = {x.lower():eval('pipulate.%s' % x) for x in pipulate_funcs}\n",
    "    try:\n",
    "        rows = worksheet.row_count\n",
    "        cols = worksheet.col_count\n",
    "        end_range = worksheet.get_addr_int(rows, cols)\n",
    "        #cell_range = worksheet.range('A1:%s' % end_range)\n",
    "        col_count = worksheet.col_count\n",
    "    except:\n",
    "        print(\"Cannot reach Google Sheets.\")\n",
    "        raise SystemExit()\n",
    "\n",
    "    # Populate a list from Row 1\n",
    "    row1_range = 'A1:%s' % worksheet.get_addr_int(1, col_count)\n",
    "    cell_range = worksheet.range(row1_range)\n",
    "    col_names = [x.value.lower() for x in cell_range]\n",
    "\n",
    "    chunk_ranges = [(x+1, x+rows_to_batch) for x in list(range(rows)) if x%rows_to_batch == 0]        \n",
    "    for chunk_dex, (row_start, row_end) in enumerate(chunk_ranges):\n",
    "        top_left = worksheet.get_addr_int(row_start+1, 1)\n",
    "        lower_right = worksheet.get_addr_int(row_end+1, cols)\n",
    "        range_string = \"%s:%s\" % (top_left, lower_right)\n",
    "        #print(chunk_dex+1, len(chunk_ranges))\n",
    "        if chunk_dex+1 == len(chunk_ranges):\n",
    "            range_string = \"%s:%s\" % (top_left, end_range)\n",
    "        print(\"Pipulating chunk %s, range %s...\" % (chunk_dex+1, range_string))\n",
    "        cell_range = worksheet.range(range_string)\n",
    "        for cell_dex, acell in enumerate(cell_range):\n",
    "            row_dict = {}\n",
    "            row, col, val = acell.row, acell.col, acell.value\n",
    "            print('cell_dex: %s' % cell_dex)\n",
    "            row_dict[col_names[col-1]] = val\n",
    "            if col%col_count == 0:\n",
    "                print(\"end of row\")\n",
    "\n",
    "    raise SystemExit()\n",
    "\n",
    "    row_dict = {}\n",
    "    #print(\"Pipulating row: \", end=\"\")\n",
    "\n",
    "    \n",
    "    for i, acell in enumerate(cell_range):\n",
    "        row, col, val = acell.row, acell.col, acell.value\n",
    "        if (col)%col_count == 0:\n",
    "            print(row, end=\", \")\n",
    "        if row == 1:\n",
    "            col_names.append(val.lower())\n",
    "        else:\n",
    "            row_dict[col_names[col-1]] = val\n",
    "            if col%col_count == 0:\n",
    "                # Reached end of row, let's Pipulate!\n",
    "                response = None\n",
    "                if 'url' in row_dict:\n",
    "                    with shelve.open('urls') as urls:\n",
    "                        if cache_html == True and row_dict['url'] in urls.keys():\n",
    "                            response = urls[row_dict['url']]\n",
    "                        else:\n",
    "                            try:\n",
    "                                response = requests.get(row_dict['url'])\n",
    "                                urls[row_dict['url']] = response\n",
    "                            except requests.exceptions.RequestException as e:\n",
    "                                raise SystemExit()\n",
    "                        row_dict['response'] = response\n",
    "                for key, val in row_dict.items():\n",
    "                    if not val:\n",
    "                        if key in [x.lower() for x in dir(pipulate) if x[0] is not '_']:\n",
    "                            success_code, new_text = func_dict[key](**row_dict)\n",
    "                            cell_address = (row*col_count) - col_count + col_names.index(key)\n",
    "                            cell_range[cell_address].value = new_text\n",
    "                row_dict = {}\n",
    "    print(\"Done, updating spreadsheet...\")\n",
    "    try:\n",
    "        worksheet.update_cells(cell_range)\n",
    "        print(\"Updated!\")\n",
    "    except:\n",
    "        print(\"Update failed.\")"
   ]
  },
  {
   "cell_type": "code",
   "execution_count": null,
   "metadata": {
    "collapsed": true
   },
   "outputs": [],
   "source": []
  }
 ],
 "metadata": {
  "kernelspec": {
   "display_name": "Python 3",
   "language": "python",
   "name": "python3"
  },
  "language_info": {
   "codemirror_mode": {
    "name": "ipython",
    "version": 3
   },
   "file_extension": ".py",
   "mimetype": "text/x-python",
   "name": "python",
   "nbconvert_exporter": "python",
   "pygments_lexer": "ipython3",
   "version": "3.5.1"
  }
 },
 "nbformat": 4,
 "nbformat_minor": 0
}
