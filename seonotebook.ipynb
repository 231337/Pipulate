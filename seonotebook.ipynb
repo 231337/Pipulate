{
 "cells": [
  {
   "cell_type": "markdown",
   "metadata": {},
   "source": [
    "# SEO Notebook"
   ]
  },
  {
   "cell_type": "code",
   "execution_count": 2,
   "metadata": {
    "collapsed": false
   },
   "outputs": [],
   "source": [
    "import notebook_finder\n",
    "import goodsheet\n",
    "from imp import reload"
   ]
  },
  {
   "cell_type": "code",
   "execution_count": 15,
   "metadata": {
    "collapsed": false
   },
   "outputs": [],
   "source": [
    "func_dict = {x:eval(\"pipulate.%s\" % x) for x in [x for x in dir(pipulate) if x[0] is not '_']}"
   ]
  },
  {
   "cell_type": "code",
   "execution_count": 21,
   "metadata": {
    "collapsed": false
   },
   "outputs": [
    {
     "name": "stdout",
     "output_type": "stream",
     "text": [
      "showing output\n"
     ]
    }
   ],
   "source": [
    "func_dict['Title']()"
   ]
  },
  {
   "cell_type": "code",
   "execution_count": 27,
   "metadata": {
    "collapsed": false
   },
   "outputs": [
    {
     "name": "stdout",
     "output_type": "stream",
     "text": [
      "importing Jupyter notebook from pipulate.ipynb\n",
      "http://mikelev.in/\n",
      "18\n",
      "http://mikelev.in/poetry/dueling-mule/\n",
      "38\n",
      "http://mikelev.in/vim/\n",
      "22\n",
      "http://mikelev.in/ding/\n",
      "23\n",
      "http://mikelev.in/videos/\n",
      "25\n",
      "http://mikelev.in/us/\n",
      "21\n",
      "http://mikelev.in/git/\n",
      "22\n",
      "http://mikelev.in/tools/\n",
      "24\n",
      "http://mikelev.in/python/\n",
      "25\n",
      "http://mikelev.in/tinycorelinux/\n",
      "32\n",
      "http://mikelev.in/2013/04/the-time-i-shot-a-guy/\n",
      "48\n",
      "http://mikelev.in/linux/\n",
      "24\n",
      "http://mikelev.in/2010/08/suburbs-killed-the-amiga/\n",
      "51\n",
      "http://mikelev.in/poetry/lizard-tail/\n",
      "37\n",
      "http://mikelev.in/qemu/\n",
      "23\n",
      "http://mikelev.in/seo/\n",
      "22\n",
      "http://mikelev.in/poetry/llama-and-yak/\n",
      "39\n",
      "http://mikelev.in/2012/09/the-final-days-of-lung-cancer-and-good-son-syndrome/\n",
      "78\n",
      "http://mikelev.in/markdown/\n",
      "27\n",
      "http://mikelev.in/poetry/crushling/\n",
      "35\n",
      "http://mikelev.in/learnings/\n",
      "28\n",
      "http://mikelev.in/poetry/bees/\n",
      "30\n",
      "http://mikelev.in/2013/01/mr-sucros-removable-finger-magic-trick/\n",
      "65\n",
      "http://mikelev.in/2013/03/my-ordeal-with-adult-bullying-at-a-new-york-co-op/\n",
      "76\n",
      "http://mikelev.in/poetry/eighty-twenty-rule/\n",
      "44\n",
      "http://mikelev.in/2011/01/python-programming-language-advantages/\n",
      "65\n",
      "http://mikelev.in/poetry/golden-goose/\n",
      "38\n",
      "http://mikelev.in/forum/levinux/\n",
      "32\n",
      "http://mikelev.in/poetry/lion-savannah/\n",
      "39\n",
      "http://mikelev.in/ux/\n",
      "21\n",
      "http://mikelev.in/poetry/\n",
      "25\n",
      "http://mikelev.in/ambigram/\n",
      "27\n",
      "http://mikelev.in/book/\n",
      "23\n",
      "http://mikelev.in/poetry/ghost-ball/\n",
      "36\n",
      "http://mikelev.in/poetry/success-poem/\n",
      "38\n",
      "http://mikelev.in/pipulate/\n",
      "27\n"
     ]
    }
   ],
   "source": [
    "if __name__ == '__main__':\n",
    "    import pipulate\n",
    "    reload(pipulate)\n",
    "    import pipulate # Intentional, forces reliable updating of Pipulate functions\n",
    "    func_dict = {x:eval('pipulate.%s' % x) for x in dir(pipulate) if x[0] is not '_'}\n",
    "    worksheet = goodsheet.connect.open('Lookups').worksheet('Sheet1')\n",
    "    end_range = worksheet.get_addr_int(worksheet.row_count, worksheet.col_count)\n",
    "    cell_range = worksheet.range('A1:%s' % end_range)\n",
    "    number_columns = worksheet.col_count\n",
    "    col_names = []\n",
    "    row_dict = {}\n",
    "    for acell in cell_range:\n",
    "        row, col, val = acell.row, acell.col, acell.value\n",
    "        if row == 1:\n",
    "            col_names.append(val)\n",
    "        else:\n",
    "            row_dict[col_names[col-1]] = val\n",
    "            if col%number_columns == 0:\n",
    "                for key, val in row_dict.items():\n",
    "                    if not val:\n",
    "                        if key in [x for x in dir(pipulate) if x[0] is not '_']:\n",
    "                            func_dict[key](**row_dict)\n",
    "                row_dict = {}"
   ]
  },
  {
   "cell_type": "code",
   "execution_count": null,
   "metadata": {
    "collapsed": true
   },
   "outputs": [],
   "source": []
  }
 ],
 "metadata": {
  "kernelspec": {
   "display_name": "Python 3",
   "language": "python",
   "name": "python3"
  },
  "language_info": {
   "codemirror_mode": {
    "name": "ipython",
    "version": 3
   },
   "file_extension": ".py",
   "mimetype": "text/x-python",
   "name": "python",
   "nbconvert_exporter": "python",
   "pygments_lexer": "ipython3",
   "version": "3.5.2"
  }
 },
 "nbformat": 4,
 "nbformat_minor": 0
}
