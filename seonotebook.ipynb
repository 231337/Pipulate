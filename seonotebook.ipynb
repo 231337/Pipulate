{
 "cells": [
  {
   "cell_type": "markdown",
   "metadata": {},
   "source": [
    "# SEO Notebook"
   ]
  },
  {
   "cell_type": "code",
   "execution_count": 1,
   "metadata": {
    "collapsed": false
   },
   "outputs": [
    {
     "data": {
      "text/plain": [
       "'A framework for conducting SEO investigations, using Google Spreadsheets for I/O.'"
      ]
     },
     "execution_count": 1,
     "metadata": {},
     "output_type": "execute_result"
    }
   ],
   "source": [
    "\"\"\"A framework for conducting SEO investigations, using Google Spreadsheets for I/O.\"\"\""
   ]
  },
  {
   "cell_type": "code",
   "execution_count": 2,
   "metadata": {
    "collapsed": false
   },
   "outputs": [],
   "source": [
    "import notebook_finder       # Allows .ipynb files to be loaded like filename.py modules\n",
    "import goodsheet, sys        # Handles OAuth login for all relevant Google services\n",
    "from imp import reload       # Keeps in-memory functions reflecting your pipulate.ipynb edits\n",
    "import shelve, requests      # For fetching & archiving HTTP responses to URL input-columns"
   ]
  },
  {
   "cell_type": "code",
   "execution_count": 3,
   "metadata": {
    "collapsed": false
   },
   "outputs": [],
   "source": [
    "google_sheet_name = 'Search Friendly URL Monitor'   # <-- set to name of File!!!\n",
    "google_sheet_tab  = 'Sheet1'                        # <-- set to name of Tab!!!\n",
    "google_sheet_args = 'Config' # A tab for OPTIONAL key/value pairs to feed more **kwargs to pipulate function\n",
    "cache_html = True            # Whether to use previously locally cached version versions of hte URLs\n",
    "rows_to_batch = 10           # Number of rows to process before \"seeing\" update in Google Sheets\n",
    "pervasive_data = None        # Set to object that you want globally available (default = None)"
   ]
  },
  {
   "cell_type": "code",
   "execution_count": 4,
   "metadata": {
    "collapsed": false
   },
   "outputs": [
    {
     "name": "stdout",
     "output_type": "stream",
     "text": [
      "You are logged in as mike_levin@ziffdavis.com\n",
      "Examining \"Sheet1\" in \"Search Friendly URL Monitor\"...\n",
      "Pipulating range 1 of 4 (A2:R11)\n",
      "A2:R11 updating in: 10, (bad url) 9, 8, 7, 6, 5, 4, 3, 2, 1, (bad url) Range updated!\n",
      "Pipulating range 2 of 4 (A12:R21)\n",
      "A12:R21 updating in: 10, 9, 8, 7, 6, 5, 4, 3, 2, 1, Range updated!\n",
      "Pipulating range 3 of 4 (A22:R31)\n",
      "A22:R31 updating in: 10, 9, 8, (bad url) 7, 6, 5, 4, 3, 2, 1, Range updated!\n",
      "Pipulating range 4 of 4 (A32:R34)\n",
      "A32:R34 updating in: 3, 2, 1, Range updated!\n",
      "Pipulation complete!\n"
     ]
    }
   ],
   "source": [
    "if __name__ == '__main__':   # The entire Pipulate implementation (minus the functions) \"lives\" here\n",
    "    import pipulate\n",
    "    reload(pipulate)\n",
    "    import pipulate          # 2nd import intentional (for notebook_finder nuances)\n",
    "    print(\"You are logged in as %s\" % pipulate.get_email())\n",
    "    \n",
    "    # All errors get this message, so check filename & tabname carefully & read tracebacks\n",
    "    bad_api_message = \"Can't reach Spreadsheet or nothing to Pipulate. Double-check & try again.\"\n",
    "    chunk_limit = 0 # Make system only process x-chunks, useful while testing new functions\n",
    "    arg_cells = None\n",
    "    try:\n",
    "        # Create the main connection to GSheets and gather some important sheet stats\n",
    "        worksheet = goodsheet.connect.open(google_sheet_name).worksheet(google_sheet_tab)\n",
    "        rows = worksheet.row_count\n",
    "        cols = worksheet.col_count\n",
    "        end_range = worksheet.get_addr_int(rows, cols)\n",
    "        col_count = worksheet.col_count\n",
    "        if google_sheet_args:\n",
    "            arg_sheet = goodsheet.connect.open(google_sheet_name).worksheet(google_sheet_args)     \n",
    "            arg_cells = arg_sheet.range(\"A1:B20\")\n",
    "    except:\n",
    "        print(sys.exc_info()[0])\n",
    "        raise SystemExit()\n",
    "    \n",
    "    # If we're using optional key/value pairs for global arguments, build the arg_dict\n",
    "    arg_dict = {}\n",
    "    temp_name = None\n",
    "    if arg_cells:\n",
    "        for an_arg in arg_cells:\n",
    "            if an_arg.value:\n",
    "                if an_arg.col == 1:\n",
    "                    temp_name = an_arg.value\n",
    "                else:\n",
    "                    if an_arg.value:\n",
    "                        arg_dict[temp_name] = an_arg.value\n",
    "                    else:\n",
    "                        arg_dict[temp_name] = None\n",
    "                        temp_name = None\n",
    "            else:\n",
    "                break\n",
    "\n",
    "    # Create dictionary of Pipulate functions invokable with their string-name keys\n",
    "    pipulate_funcs = [x for x in dir(pipulate) if x[0] is not '_']\n",
    "    func_dict = {x.lower():eval('pipulate.%s' % x) for x in pipulate_funcs}\n",
    "\n",
    "    print('Examining \"%s\" in \"%s\"...' % (google_sheet_tab, google_sheet_name))\n",
    "    \n",
    "    # Row 1 is special; containing potential function-names needed later for row dict index\n",
    "    row1_range = 'A1:%s' % worksheet.get_addr_int(1, col_count)\n",
    "    cell_range = worksheet.range(row1_range)\n",
    "    col_names = [x.value.lower() for x in cell_range]\n",
    "\n",
    "    # To pick up where left off on long jobs, get first row with a blank cell\n",
    "    list_of_rows = worksheet.get_all_values() #Expensive but worth it\n",
    "    # An example of where we DON'T do list comprehensions, for readability's sake\n",
    "    first_row_with_blank = rows #Inhibits processing unless valid blanks are found\n",
    "    for row_dex, arow in enumerate(list_of_rows):\n",
    "        for cell_dex, acell in enumerate(arow):\n",
    "            if not acell and cell_range[cell_dex].value in func_dict: #Finds 1st valid empty cell\n",
    "                first_row_with_blank = row_dex+1\n",
    "                break\n",
    "        else:\n",
    "            continue\n",
    "        break\n",
    "    list_of_rows = None #Too big to keep around\n",
    "    \n",
    "    # Split spreadsheet into a series of ranges (which need to get into A2:B2 range notation).\n",
    "    chunk_ranges = [(x+1, x+rows_to_batch+1) for x in list(range(rows-1)) if x%rows_to_batch == 0]\n",
    "    unprocessed_chunks = [(x,y) for x,y in chunk_ranges if y > first_row_with_blank]\n",
    "      \n",
    "    # Every range chunk becomes its own chunk_range for batch updates.\n",
    "    for chunk_dex, (row_start, row_end) in enumerate(unprocessed_chunks):\n",
    "        if chunk_limit > 0 and chunk_dex >= chunk_limit:break\n",
    "        \n",
    "        # Create A2:B2 range notation for each chunk\n",
    "        top_left = worksheet.get_addr_int(row_start+1, 1)\n",
    "        lower_right = worksheet.get_addr_int(row_end, cols)\n",
    "        range_string = \"%s:%s\" % (top_left, lower_right)\n",
    "        \n",
    "        # Calculate correct number of rows in last uneven chunk\n",
    "        if chunk_dex+1 == len(chunk_ranges):\n",
    "            range_string = \"%s:%s\" % (top_left, end_range)\n",
    "        print(\"Pipulating range %s of %s (%s)\" % (chunk_dex+1, len(unprocessed_chunks), range_string))\n",
    "        print(\"%s updating in: \" % range_string, end=\"\")\n",
    "\n",
    "        # We create a chunk_range for the chunk for both reading and writing-back values.\n",
    "        try:\n",
    "            chunk_range = worksheet.range(range_string)\n",
    "        except:\n",
    "            print(sys.exc_info()[0])\n",
    "            break\n",
    "            \n",
    "        # Now, we step through each cell in the current chunk.\n",
    "        row_dict = {} #This object is the \"row memory\" and key to the pipulation process\n",
    "        count_down = int(len(chunk_range)/col_count)+1\n",
    "        for cell_dex, acell in enumerate(chunk_range): #Working with cells, but interested in rows\n",
    "            row, col, val = acell.row, acell.col, acell.value\n",
    "            # Now we pipulate this row's row_dict with column-name/cell-value pairs\n",
    "            row_dict[col_names[col-1]] = val\n",
    "            if col%col_count == 0: #This is how we determine reaching last cell of row\n",
    "                count_down = count_down - 1\n",
    "                print(\"%s, \" % count_down, end=\"\")\n",
    "                requests_response = None #HTML-cache object loop-leak prevention\n",
    "                Pipulate_Response = None #Function-return loop-leak prevention\n",
    "                # Why fetch the HTML for a URL more than once, if you don't have to?\n",
    "                if 'url' in row_dict:\n",
    "                    with shelve.open('urls') as urls:\n",
    "                        if cache_html == True and row_dict['url'] in urls.keys():\n",
    "                            requests_response = urls[row_dict['url']]\n",
    "                        else:\n",
    "                            try:\n",
    "                                requests_response = requests.get(row_dict['url'])\n",
    "                                urls[row_dict['url']] = requests_response #The moment of pickling\n",
    "                            except requests.exceptions.RequestException as e:\n",
    "                                print(\"(bad url) \", end=\"\")\n",
    "                                continue\n",
    "                        # We now make the ENTIRE response object available to Pipulate functions.\n",
    "                        row_dict['response'] = requests_response  # We now step through row to pipulate\n",
    "                # If pervasive_data exists, we make it mutably available (for memory) to every row\n",
    "                if pervasive_data:\n",
    "                    row_dict['pervasive_data'] = pervasive_data\n",
    "                for key, val in row_dict.items():\n",
    "                    if not val: #Only process empty cells in function-named columns\n",
    "                        if key in [x.lower() for x in dir(pipulate) if x[0] is not '_']:\n",
    "                            if arg_dict:\n",
    "                                row_dict = {**arg_dict, **row_dict}\n",
    "                                if '' in row_dict:\n",
    "                                    del row_dict['']\n",
    "                                if 'response' in row_dict:\n",
    "                                    del row_dict['response']\n",
    "                            try:\n",
    "                                Pipulate_Response = func_dict[key](**row_dict) #Pipulate!\n",
    "                            except:\n",
    "                                print(\"%s error in %s.\" % (sys.exc_info()[0], key))\n",
    "                                continue\n",
    "                            # We pipulate at end-of-row but update back to earlier cells on that same row.\n",
    "                            row_start = cell_dex-cols+1\n",
    "                            func_dex = col_names.index(key)\n",
    "                            cell_to_update = row_start + func_dex\n",
    "                            if Pipulate_Response.ok:\n",
    "                                chunk_range[cell_to_update].value = Pipulate_Response.text #uncommitted\n",
    "                            else:\n",
    "                                chunk_range[cell_to_update].value = \"Err: %s\" % Pipulate_Response.status_code\n",
    "                            row_dict = {} # Blank the now-used row_dict just for good measure\n",
    "        try:\n",
    "            # Batch update Google Sheets with the modified chunk_range.\n",
    "            worksheet.update_cells(chunk_range)\n",
    "            print(\"Range updated!\")\n",
    "        except:\n",
    "            print(bad_api_message)\n",
    "    print(\"Pipulation complete!\") #do a little dance\n",
    "    worksheet = None"
   ]
  },
  {
   "cell_type": "code",
   "execution_count": null,
   "metadata": {
    "collapsed": true
   },
   "outputs": [],
   "source": []
  }
 ],
 "metadata": {
  "anaconda-cloud": {},
  "kernelspec": {
   "display_name": "Python [py35]",
   "language": "python",
   "name": "Python [py35]"
  },
  "language_info": {
   "codemirror_mode": {
    "name": "ipython",
    "version": 3
   },
   "file_extension": ".py",
   "mimetype": "text/x-python",
   "name": "python",
   "nbconvert_exporter": "python",
   "pygments_lexer": "ipython3",
   "version": "3.5.1"
  }
 },
 "nbformat": 4,
 "nbformat_minor": 0
}
