{
 "cells": [
  {
   "cell_type": "markdown",
   "metadata": {},
   "source": [
    "# SEO Notebook (loads Pipulate functions)"
   ]
  },
  {
   "cell_type": "code",
   "execution_count": null,
   "metadata": {
    "collapsed": false
   },
   "outputs": [],
   "source": [
    "import notebook_finder\n",
    "import goodsheet\n",
    "from imp import reload"
   ]
  },
  {
   "cell_type": "code",
   "execution_count": null,
   "metadata": {
    "collapsed": false
   },
   "outputs": [],
   "source": [
    "if __name__ == '__main__':\n",
    "    import pipulate\n",
    "    reload(pipulate)\n",
    "    import pipulate # Intentional, forces reliable updating of Pipulate functions\n",
    "    func_dict = {x:eval('pipulate.%s' % x) for x in dir(pipulate) if x[0] is not '_'}\n",
    "    worksheet = goodsheet.connect.open('Lookups').worksheet('Sheet1')\n",
    "    end_range = worksheet.get_addr_int(worksheet.row_count, worksheet.col_count)\n",
    "    cell_range = worksheet.range('A1:%s' % end_range)\n",
    "    number_columns = worksheet.col_count\n",
    "    col_names = []\n",
    "    row_dict = {}\n",
    "    for i, acell in enumerate(cell_range):\n",
    "        row, col, val = acell.row, acell.col, acell.value\n",
    "        print(i)\n",
    "        if row == 1:\n",
    "            col_names.append(val)\n",
    "        else:\n",
    "            row_dict[col_names[col-1]] = val\n",
    "            if col%number_columns == 0:\n",
    "                for key, val in row_dict.items():\n",
    "                    if not val:\n",
    "                        if key in [x for x in dir(pipulate) if x[0] is not '_']:\n",
    "                            success_code, new_text = func_dict[key](**row_dict)\n",
    "                            cell_address = row*number_columns-number_columns + col_names.index(key)\n",
    "                            cell_range[cell_address].value = new_text\n",
    "                row_dict = {}\n",
    "    worksheet.update_cells(cell_range)"
   ]
  },
  {
   "cell_type": "code",
   "execution_count": null,
   "metadata": {
    "collapsed": true
   },
   "outputs": [],
   "source": []
  }
 ],
 "metadata": {
  "kernelspec": {
   "display_name": "Python 3",
   "language": "python",
   "name": "python3"
  },
  "language_info": {
   "codemirror_mode": {
    "name": "ipython",
    "version": 3
   },
   "file_extension": ".py",
   "mimetype": "text/x-python",
   "name": "python",
   "nbconvert_exporter": "python",
   "pygments_lexer": "ipython3",
   "version": "3.5.2"
  }
 },
 "nbformat": 4,
 "nbformat_minor": 0
}
