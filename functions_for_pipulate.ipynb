{
 "cells": [
  {
   "cell_type": "code",
   "execution_count": null,
   "metadata": {
    "collapsed": true
   },
   "outputs": [],
   "source": [
    "import pipulate as gs"
   ]
  },
  {
   "cell_type": "code",
   "execution_count": null,
   "metadata": {
    "collapsed": true
   },
   "outputs": [],
   "source": [
    "def fu():\n",
    "    return 'bar'"
   ]
  },
  {
   "cell_type": "code",
   "execution_count": null,
   "metadata": {
    "collapsed": true
   },
   "outputs": [],
   "source": [
    "def ga_url(gaid, start, end, path):\n",
    "    \"\"\"Return Google Analytics metrics for a URL.\"\"\"\n",
    "\n",
    "    path = path.replace(',', r'\\,')\n",
    "    metrics = ['users', \n",
    "               'newUsers', \n",
    "               'sessions', \n",
    "               'bounceRate',\n",
    "               'pageviewsPerSession', \n",
    "               'avgSessionDuration']\n",
    "    metrics = ''.join(['ga:%s,' % x for x in metrics])[:-1]\n",
    "    ga_request = gs.ga().data().ga().get(\n",
    "        ids='ga:'+gaid,\n",
    "        start_date=start,\n",
    "        end_date=end,\n",
    "        metrics=metrics,\n",
    "        dimensions='ga:pagePath',\n",
    "        sort='-ga:users',\n",
    "        filters='ga:pagePath=='+path,\n",
    "        segment='sessions::condition::ga:medium==organic',\n",
    "        max_results=1\n",
    "    )\n",
    "    ga_response = ga_request.execute()\n",
    "    return_value = []\n",
    "    if 'rows' in ga_response:\n",
    "        raw_rows = ga_response['rows'][0]\n",
    "        return_value = raw_rows\n",
    "    return return_value"
   ]
  },
  {
   "cell_type": "code",
   "execution_count": null,
   "metadata": {
    "collapsed": true
   },
   "outputs": [],
   "source": [
    "def gsc_keyword(prop, start, end, query):\n",
    "    request = {\n",
    "      \"startDate\": start,\n",
    "      \"endDate\": end,\n",
    "      \"dimensions\": [\n",
    "        \"query\"\n",
    "      ],\n",
    "      \"dimensionFilterGroups\": [\n",
    "        {\n",
    "          \"filters\": [\n",
    "            {\n",
    "              \"operator\": \"equals\",\n",
    "              \"expression\": query,\n",
    "              \"dimension\": \"query\"\n",
    "            }\n",
    "          ]\n",
    "        }\n",
    "      ]\n",
    "    }\n",
    "    data = gs.gsc().searchanalytics().query(siteUrl='https://www.pcmag.com', body=request).execute()\n",
    "    val = []\n",
    "    if 'rows' in data:\n",
    "        r = data['rows'][0]\n",
    "        val = [start, end] + [r['keys'][0]] + [\n",
    "            r['position']] + [r['clicks']] + [r['impressions']] + [r['ctr']]\n",
    "    return val"
   ]
  },
  {
   "cell_type": "code",
   "execution_count": null,
   "metadata": {
    "collapsed": true
   },
   "outputs": [],
   "source": [
    "def gsc_url(prop, start, end, url):\n",
    "    request = {\n",
    "      \"startDate\": start,\n",
    "      \"endDate\": end,\n",
    "      \"dimensions\": [\n",
    "        \"page\"\n",
    "      ],\n",
    "      \"dimensionFilterGroups\": [\n",
    "        {\n",
    "          \"filters\": [\n",
    "            {\n",
    "              \"operator\": \"equals\",\n",
    "              \"expression\": url,\n",
    "              \"dimension\": \"page\"\n",
    "            }\n",
    "          ]\n",
    "        }\n",
    "      ]\n",
    "    }\n",
    "    data = gs.gsc().searchanalytics().query(siteUrl='https://www.pcmag.com', body=request).execute()\n",
    "    val = []\n",
    "    if 'rows' in data:\n",
    "        r = data['rows'][0]\n",
    "        val = [start, end] + [r['keys'][0]] + [\n",
    "            r['position']] + [r['clicks']] + [r['impressions']] + [r['ctr']]\n",
    "    return val"
   ]
  },
  {
   "cell_type": "code",
   "execution_count": null,
   "metadata": {
    "collapsed": true
   },
   "outputs": [],
   "source": [
    "def gsc_url_keyword(prop, start, end, query, url):\n",
    "    request = {\n",
    "      \"startDate\": start,\n",
    "      \"endDate\": end,\n",
    "      \"dimensions\": [\n",
    "        \"query\",\n",
    "        \"page\"\n",
    "      ],\n",
    "      \"dimensionFilterGroups\": [\n",
    "        {\n",
    "          \"filters\": [\n",
    "            {\n",
    "              \"operator\": \"equals\",\n",
    "              \"expression\": url,\n",
    "              \"dimension\": \"page\"\n",
    "            },\n",
    "            {\n",
    "              \"operator\": \"equals\",\n",
    "              \"expression\": query,\n",
    "              \"dimension\": \"query\"\n",
    "            }\n",
    "          ]\n",
    "        }\n",
    "      ]\n",
    "    }\n",
    "    data = gs.gsc().searchanalytics().query(siteUrl=prop, body=request).execute()\n",
    "    val = []\n",
    "    if 'rows' in data:\n",
    "        r = data['rows'][0]\n",
    "        val = [start] + [r['keys'][0]] + [r['keys'][1]] + [\n",
    "            r['position']] + [r['clicks']] + [r['impressions']] + [r['ctr']]\n",
    "    return val"
   ]
  }
 ],
 "metadata": {
  "kernelspec": {
   "display_name": "Python 3",
   "language": "python",
   "name": "python3"
  },
  "language_info": {
   "codemirror_mode": {
    "name": "ipython",
    "version": 3
   },
   "file_extension": ".py",
   "mimetype": "text/x-python",
   "name": "python",
   "nbconvert_exporter": "python",
   "pygments_lexer": "ipython3",
   "version": "3.6.2"
  }
 },
 "nbformat": 4,
 "nbformat_minor": 2
}
