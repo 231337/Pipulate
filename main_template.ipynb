{
 "cells": [
  {
   "cell_type": "code",
   "execution_count": 6,
   "metadata": {},
   "outputs": [],
   "source": [
    "# Standard Library imports first\n",
    "import time\n",
    "from functools import lru_cache as cache\n",
    "from os.path import isdir, isfile\n",
    "from os import makedirs\n",
    "\n",
    "# 3rd Party imports, light-show next\n",
    "from logzero import logger, setup_logger\n",
    "from pyfiglet import figlet_format\n",
    "from colorama import Fore\n",
    "\n",
    "# Heavy lifters last\n",
    "import requests\n",
    "import pandas as pd\n",
    "import numpy as np\n",
    "import pipulate as gs"
   ]
  },
  {
   "cell_type": "code",
   "execution_count": 10,
   "metadata": {},
   "outputs": [],
   "source": [
    "if not isdir('./logs/'):\n",
    "    makedirs('./logs/')\n",
    "logger = setup_logger(logfile='./logs/app.log', maxBytes=1000000, backupCount=30)\n",
    "#logger.info(\"The first order of business is accountability. Make it sparkle!\")"
   ]
  },
  {
   "cell_type": "code",
   "execution_count": 24,
   "metadata": {},
   "outputs": [],
   "source": [
    "def h1(print_me, color=Fore.GREEN, font='standard'):\n",
    "    ''' Never underestimate the power of a good nickname. '''\n",
    "    ascii_art = figlet_format(print_me, font=font)\n",
    "    print('%s%s%s' % (color, ascii_art, Fore.WHITE))\n",
    "\n",
    "def h2(print_me, color=Fore.GREEN, font='cybermedium'):\n",
    "    ''' The human brain generally only deals well with shallow nesting. '''\n",
    "    ascii_art = figlet_format(print_me, font=font)\n",
    "    print('%s%s%s' % (color, ascii_art, Fore.WHITE))"
   ]
  },
  {
   "cell_type": "code",
   "execution_count": 25,
   "metadata": {},
   "outputs": [
    {
     "name": "stdout",
     "output_type": "stream",
     "text": [
      "  __             \n",
      " / _| ___   ___  \n",
      "| |_ / _ \\ / _ \\ \n",
      "|  _| (_) | (_) |\n",
      "|_|  \\___/ \\___/ \n",
      "                 \n",
      "\n"
     ]
    }
   ],
   "source": [
    "h1('foo')"
   ]
  },
  {
   "cell_type": "code",
   "execution_count": 26,
   "metadata": {},
   "outputs": [
    {
     "name": "stdout",
     "output_type": "stream",
     "text": [
      "___  ____ ____ \n",
      "|__] |__| |__/ \n",
      "|__] |  | |  \\ \n",
      "               \n",
      "\n"
     ]
    }
   ],
   "source": [
    "h2('bar')"
   ]
  },
  {
   "cell_type": "code",
   "execution_count": null,
   "metadata": {},
   "outputs": [],
   "source": []
  }
 ],
 "metadata": {
  "kernelspec": {
   "display_name": "Python 3",
   "language": "python",
   "name": "python3"
  },
  "language_info": {
   "codemirror_mode": {
    "name": "ipython",
    "version": 3
   },
   "file_extension": ".py",
   "mimetype": "text/x-python",
   "name": "python",
   "nbconvert_exporter": "python",
   "pygments_lexer": "ipython3",
   "version": "3.6.4"
  }
 },
 "nbformat": 4,
 "nbformat_minor": 2
}
