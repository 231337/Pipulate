{
 "cells": [
  {
   "cell_type": "code",
   "execution_count": 93,
   "metadata": {},
   "outputs": [
    {
     "name": "stderr",
     "output_type": "stream",
     "text": [
      "[I 180503 00:44:11 <ipython-input-93-5afe04796520>:24] The first order of business is accountability. Make it sparkle!\n"
     ]
    },
    {
     "name": "stdout",
     "output_type": "stream",
     "text": [
      " ____  _             _       _   _             \n",
      "|  _ \\(_)_ __  _   _| | __ _| |_(_)_ __   __ _ \n",
      "| |_) | | '_ \\| | | | |/ _` | __| | '_ \\ / _` |\n",
      "|  __/| | |_) | |_| | | (_| | |_| | | | | (_| |\n",
      "|_|   |_| .__/ \\__,_|_|\\__,_|\\__|_|_| |_|\\__, |\n",
      "        |_|                              |___/ \n",
      "\n",
      "Auto-trimming extra rows & columns.\n"
     ]
    }
   ],
   "source": [
    "# Standard Library imports first\n",
    "import time\n",
    "from functools import lru_cache as cache\n",
    "from os.path import isdir, isfile\n",
    "from os import makedirs\n",
    "\n",
    "# 3rd Party imports, light-show next\n",
    "from logzero import logger, setup_logger\n",
    "from pyfiglet import figlet_format\n",
    "from colorama import Fore\n",
    "\n",
    "# Specialized tricksters last\n",
    "import requests\n",
    "import numpy as np\n",
    "import pandas as pd\n",
    "import pipulate as gs\n",
    "\n",
    "from datetime import date, datetime, timedelta\n",
    "\n",
    "# Start logging right away\n",
    "if not isdir('./logs/'):\n",
    "    makedirs('./logs/')\n",
    "logger = setup_logger(logfile='./logs/app.log', maxBytes=1000000, backupCount=30)\n",
    "logger.info(\"The first order of business is accountability. Make it sparkle!\")\n",
    "\n",
    "def h1(print_me, color=Fore.GREEN, font='standard'):\n",
    "    ''' Never underestimate the power of a good nickname. '''\n",
    "    ascii_art = figlet_format(print_me, font=font)\n",
    "    print('%s%s%s' % (color, ascii_art, Fore.WHITE))\n",
    "\n",
    "def h2(print_me, color=Fore.GREEN, font='cybermedium'):\n",
    "    ''' The human brain generally only deals well with shallow nesting. '''\n",
    "    ascii_art = figlet_format(print_me, font=font)\n",
    "    print('%s%s%s' % (color, ascii_art, Fore.WHITE))\n",
    "\n",
    "h1('Pipulating')\n",
    "\n",
    "sheet = gs.key('1U-7JPK6Zk4sVApjZpjWSAMSl99-N0gNKxMXRiagigr8')\n",
    "tab_name = 'Sheet1'\n",
    "tab = sheet.worksheet(tab_name)\n",
    "\n",
    "row1 = tab.row_values(1)\n",
    "if row1:\n",
    "    while not row1[-1]:\n",
    "        row1.pop()\n",
    "else:\n",
    "    logger.error(\"Row1 can not be empty. Exiting.\")\n",
    "    raise SystemExit()\n",
    "\n",
    "fm = dict()\n",
    "fn = list()\n",
    "for i, item in enumerate(row1):\n",
    "    fm[item] = eval(\"'%s'\" % gs.cc(i+1))\n",
    "    fn.append(item)\n",
    "\n",
    "col_count = len(row1)\n",
    "col1 = tab.col_values(1)\n",
    "\n",
    "if col1:\n",
    "    while not col1[-1]:\n",
    "        col1.pop()\n",
    "else:\n",
    "    logger.error('You must have at least one row of data')\n",
    "    raise SystemExit()\n",
    "\n",
    "try:\n",
    "    first_row_with_data = col1.index('formatting') + 2\n",
    "except:\n",
    "    logger.error('Column A must have a cell containing \"formatting\" immediately above first data row.')\n",
    "\n",
    "print('Auto-trimming extra rows & columns.')\n",
    "tab.resize(rows=len(col1), cols=col_count+1)\n",
    "tab.resize(rows=len(col1)+2, cols=col_count+1)\n",
    "\n",
    "dates = gs.date_ranges()\n",
    "human_dates = gs.date_ranges(human=True)\n"
   ]
  },
  {
   "cell_type": "code",
   "execution_count": 50,
   "metadata": {},
   "outputs": [
    {
     "data": {
      "text/plain": [
       "['[index]',\n",
       " 'url',\n",
       " 'title',\n",
       " 'description',\n",
       " 'users90',\n",
       " 'users60',\n",
       " 'users30',\n",
       " 'revenue90',\n",
       " 'revenue60',\n",
       " 'revenue30']"
      ]
     },
     "execution_count": 50,
     "metadata": {},
     "output_type": "execute_result"
    }
   ],
   "source": [
    "row1"
   ]
  },
  {
   "cell_type": "code",
   "execution_count": 67,
   "metadata": {},
   "outputs": [
    {
     "data": {
      "text/plain": [
       "{'description': 'D',\n",
       " 'index': 'A',\n",
       " 'revenue30': 'J',\n",
       " 'revenue60': 'I',\n",
       " 'revenue90': 'H',\n",
       " 'title': 'C',\n",
       " 'url': 'B',\n",
       " 'users30': 'G',\n",
       " 'users60': 'F',\n",
       " 'users90': 'E'}"
      ]
     },
     "execution_count": 67,
     "metadata": {},
     "output_type": "execute_result"
    }
   ],
   "source": [
    "fm"
   ]
  },
  {
   "cell_type": "code",
   "execution_count": 68,
   "metadata": {},
   "outputs": [
    {
     "data": {
      "text/plain": [
       "['index',\n",
       " 'Group Head',\n",
       " 'Subgroup Head',\n",
       " 'date range',\n",
       " 'timestamp',\n",
       " 'Column Label',\n",
       " 'formattingz']"
      ]
     },
     "execution_count": 68,
     "metadata": {},
     "output_type": "execute_result"
    }
   ],
   "source": [
    "col1"
   ]
  },
  {
   "cell_type": "code",
   "execution_count": 71,
   "metadata": {},
   "outputs": [
    {
     "data": {
      "text/plain": [
       "3"
      ]
     },
     "execution_count": 71,
     "metadata": {},
     "output_type": "execute_result"
    }
   ],
   "source": [
    "if col1.index('date range'):\n",
    "    "
   ]
  },
  {
   "cell_type": "code",
   "execution_count": 41,
   "metadata": {},
   "outputs": [
    {
     "data": {
      "text/plain": [
       "3"
      ]
     },
     "execution_count": 41,
     "metadata": {},
     "output_type": "execute_result"
    }
   ],
   "source": [
    "gs.ab(fm['description'])"
   ]
  },
  {
   "cell_type": "code",
   "execution_count": 42,
   "metadata": {},
   "outputs": [
    {
     "data": {
      "text/plain": [
       "1"
      ]
     },
     "execution_count": 42,
     "metadata": {},
     "output_type": "execute_result"
    }
   ],
   "source": [
    "gs.ab(fm['url'])"
   ]
  },
  {
   "cell_type": "code",
   "execution_count": 43,
   "metadata": {},
   "outputs": [
    {
     "data": {
      "text/plain": [
       "2"
      ]
     },
     "execution_count": 43,
     "metadata": {},
     "output_type": "execute_result"
    }
   ],
   "source": [
    "gs.ab(fm['title'])"
   ]
  },
  {
   "cell_type": "code",
   "execution_count": 44,
   "metadata": {},
   "outputs": [
    {
     "data": {
      "text/plain": [
       "['[index]',\n",
       " '[Col Group]',\n",
       " '[Column Label]',\n",
       " '[Range Label]',\n",
       " '[date range]',\n",
       " '[timestamp]',\n",
       " '[formatting]']"
      ]
     },
     "execution_count": 44,
     "metadata": {},
     "output_type": "execute_result"
    }
   ],
   "source": [
    "col1"
   ]
  },
  {
   "cell_type": "code",
   "execution_count": 51,
   "metadata": {},
   "outputs": [
    {
     "data": {
      "text/plain": [
       "['[index]',\n",
       " '[Col Group]',\n",
       " '[Range Label]',\n",
       " '[date range]',\n",
       " '[timestamp]',\n",
       " '[Column Label]',\n",
       " '[formatting]']"
      ]
     },
     "execution_count": 51,
     "metadata": {},
     "output_type": "execute_result"
    }
   ],
   "source": [
    "col1"
   ]
  },
  {
   "cell_type": "code",
   "execution_count": 46,
   "metadata": {},
   "outputs": [
    {
     "data": {
      "text/plain": [
       "8"
      ]
     },
     "execution_count": 46,
     "metadata": {},
     "output_type": "execute_result"
    }
   ],
   "source": [
    "first_row_with_data"
   ]
  },
  {
   "cell_type": "code",
   "execution_count": 63,
   "metadata": {},
   "outputs": [],
   "source": [
    "dates = gs.date_ranges()\n",
    "human_dates = gs.date_ranges(human=True)"
   ]
  },
  {
   "cell_type": "code",
   "execution_count": 64,
   "metadata": {},
   "outputs": [
    {
     "data": {
      "text/plain": [
       "[('2018-04-02', '2018-05-02'),\n",
       " ('2018-03-02', '2018-04-01'),\n",
       " ('2017-04-02', '2017-05-02')]"
      ]
     },
     "execution_count": 64,
     "metadata": {},
     "output_type": "execute_result"
    }
   ],
   "source": [
    "dates"
   ]
  },
  {
   "cell_type": "code",
   "execution_count": 65,
   "metadata": {},
   "outputs": [],
   "source": []
  },
  {
   "cell_type": "code",
   "execution_count": 66,
   "metadata": {},
   "outputs": [
    {
     "data": {
      "text/plain": [
       "['04/02/2018 - 05/02/2018',\n",
       " '03/02/2018 - 04/01/2018',\n",
       " '04/02/2017 - 05/02/2017']"
      ]
     },
     "execution_count": 66,
     "metadata": {},
     "output_type": "execute_result"
    }
   ],
   "source": [
    "human_dates"
   ]
  },
  {
   "cell_type": "code",
   "execution_count": 87,
   "metadata": {},
   "outputs": [],
   "source": [
    "if 'date range' in col1:\n",
    "    range_row = col1.index('date range') + 1\n",
    "    for metric in ['users', 'revenue']:\n",
    "        for num in ['90', '60', '30']:\n",
    "            field_dex = '%s%s' % (metric, num)\n",
    "            range_col = fn.index(field_dex) + 1\n",
    "            tab.update_cell(range_row, range_col, field_dex)"
   ]
  },
  {
   "cell_type": "code",
   "execution_count": 75,
   "metadata": {},
   "outputs": [
    {
     "data": {
      "text/plain": [
       "'E'"
      ]
     },
     "execution_count": 75,
     "metadata": {},
     "output_type": "execute_result"
    }
   ],
   "source": [
    "fm['users90']"
   ]
  },
  {
   "cell_type": "code",
   "execution_count": 80,
   "metadata": {},
   "outputs": [
    {
     "data": {
      "text/plain": [
       "5"
      ]
     },
     "execution_count": 80,
     "metadata": {},
     "output_type": "execute_result"
    }
   ],
   "source": []
  },
  {
   "cell_type": "code",
   "execution_count": 106,
   "metadata": {},
   "outputs": [],
   "source": [
    "def date_ranges(human=False, yoy=True):\n",
    "    \"\"\"Return a list of 3 commonly used daterange tuples.\"\"\"\n",
    "\n",
    "    def dx(x):\n",
    "        return api_date(x)\n",
    "    def dh(x):\n",
    "        return human_date(x)\n",
    "    lot = list()\n",
    "    today = datetime.now()\n",
    "    yesterday = today - timedelta(days=1)\n",
    "    thirty_days_ago = yesterday - timedelta(days=30)\n",
    "    prior_30_end = thirty_days_ago - timedelta(days=1)\n",
    "    prior_30_start = prior_30_end - timedelta(days=30)\n",
    "    if yoy:\n",
    "        last_range_end = yesterday.replace(year = yesterday.year - 1)\n",
    "        last_range_start = thirty_days_ago.replace(year = thirty_days_ago.year - 1)\n",
    "    else:\n",
    "        last_range_end = prior_30_end - timedelta(days=1)\n",
    "        last_range_start = last_range_end - timedelta(days=30)\n",
    "    if human:\n",
    "        lot.append((dh(thirty_days_ago), dh(yesterday)))\n",
    "        lot.append((dh(prior_30_start), dh(prior_30_end)))\n",
    "        lot.append((dh(last_range_start), dh(last_range_end)))\n",
    "        lot = [(x +' - '+ y) for x, y in lot]\n",
    "    else:\n",
    "        lot.append((dx(thirty_days_ago), dx(yesterday)))\n",
    "        lot.append((dx(prior_30_start), dx(prior_30_end)))\n",
    "        lot.append((dx(last_range_start), dx(last_range_end)))\n",
    "    return lot\n",
    "\n",
    "\n",
    "def api_date(a_datetime, time=False):\n",
    "    \"\"\"Return datetime string in Google API friendly format.\"\"\"\n",
    "    if time:\n",
    "        return ('{0:%Y-%m-%d %H:%M:%S}'.format(a_datetime))\n",
    "    else:\n",
    "        return ('{0:%Y-%m-%d}'.format(a_datetime))\n",
    "\n",
    "    \n",
    "def human_date(a_datetime, time=False):\n",
    "    \"\"\"Return datetime object as American-friendly string.\"\"\"\n",
    "    if time:\n",
    "        return ('{0:%m/%d/%Y %H:%M:%S}'.format(a_datetime))\n",
    "    else:\n",
    "        return ('{0:%m/%d/%Y}'.format(a_datetime))\n",
    "\n",
    "\n"
   ]
  },
  {
   "cell_type": "code",
   "execution_count": 109,
   "metadata": {},
   "outputs": [],
   "source": [
    "dates = date_ranges()"
   ]
  },
  {
   "cell_type": "code",
   "execution_count": 110,
   "metadata": {},
   "outputs": [
    {
     "data": {
      "text/plain": [
       "[('2018-04-02', '2018-05-02'),\n",
       " ('2018-03-02', '2018-04-01'),\n",
       " ('2017-04-02', '2017-05-02')]"
      ]
     },
     "execution_count": 110,
     "metadata": {},
     "output_type": "execute_result"
    }
   ],
   "source": [
    "dates"
   ]
  },
  {
   "cell_type": "code",
   "execution_count": null,
   "metadata": {},
   "outputs": [],
   "source": []
  }
 ],
 "metadata": {
  "kernelspec": {
   "display_name": "Python 3",
   "language": "python",
   "name": "python3"
  },
  "language_info": {
   "codemirror_mode": {
    "name": "ipython",
    "version": 3
   },
   "file_extension": ".py",
   "mimetype": "text/x-python",
   "name": "python",
   "nbconvert_exporter": "python",
   "pygments_lexer": "ipython3",
   "version": "3.6.4"
  }
 },
 "nbformat": 4,
 "nbformat_minor": 2
}
