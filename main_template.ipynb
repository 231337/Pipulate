{
 "cells": [
  {
   "cell_type": "code",
   "execution_count": 48,
   "metadata": {
    "scrolled": false
   },
   "outputs": [
    {
     "name": "stderr",
     "output_type": "stream",
     "text": [
      "[I 180503 01:36:51 <ipython-input-48-67d619648981>:24] The first order of business is accountability. Make it sparkle!\n"
     ]
    },
    {
     "name": "stdout",
     "output_type": "stream",
     "text": [
      " ____  _             _       _   _             \n",
      "|  _ \\(_)_ __  _   _| | __ _| |_(_)_ __   __ _ \n",
      "| |_) | | '_ \\| | | | |/ _` | __| | '_ \\ / _` |\n",
      "|  __/| | |_) | |_| | | (_| | |_| | | | | (_| |\n",
      "|_|   |_| .__/ \\__,_|_|\\__,_|\\__|_|_| |_|\\__, |\n",
      "        |_|                              |___/ \n",
      "\n"
     ]
    },
    {
     "name": "stderr",
     "output_type": "stream",
     "text": [
      "[I 180503 01:36:54 <ipython-input-48-67d619648981>:71] Auto-trimming extra rows & columns.\n",
      "[I 180503 01:36:57 <ipython-input-48-67d619648981>:87] Updated date range labels.\n"
     ]
    },
    {
     "name": "stdout",
     "output_type": "stream",
     "text": [
      "Success! You can now look at your df. It's shape is 12 rows x 10 cols.\n",
      "Do pandas stuff like df[\"B\"] = \"foo\", but maintan range \"shape\".\n",
      "Update GSheet with changes: gs.populate(tab, cl, df)\n",
      "GSpread cell_list (cl) shape: (12, 10)\n",
      "Pandas  DataFrame (df) shape: (12, 10)\n"
     ]
    },
    {
     "data": {
      "text/plain": [
       "True"
      ]
     },
     "execution_count": 48,
     "metadata": {},
     "output_type": "execute_result"
    }
   ],
   "source": [
    "# Standard Library imports first\n",
    "import time\n",
    "from functools import lru_cache as cache\n",
    "from os.path import isdir, isfile\n",
    "from os import makedirs\n",
    "\n",
    "# 3rd Party imports, light-show next\n",
    "from logzero import logger, setup_logger\n",
    "from pyfiglet import figlet_format\n",
    "from colorama import Fore\n",
    "\n",
    "# Specialized tricksters last\n",
    "import requests\n",
    "import numpy as np\n",
    "import pandas as pd\n",
    "import pipulate as gs\n",
    "\n",
    "from datetime import date, datetime, timedelta\n",
    "\n",
    "# Start logging right away\n",
    "if not isdir('./logs/'):\n",
    "    makedirs('./logs/')\n",
    "logger = setup_logger(logfile='./logs/app.log', maxBytes=1000000, backupCount=30)\n",
    "logger.info(\"The first order of business is accountability. Make it sparkle!\")\n",
    "\n",
    "def h1(print_me, color=Fore.GREEN, font='standard'):\n",
    "    ''' Never underestimate the power of a good nickname. '''\n",
    "    ascii_art = figlet_format(print_me, font=font)\n",
    "    print('%s%s%s' % (color, ascii_art, Fore.WHITE))\n",
    "\n",
    "def h2(print_me, color=Fore.GREEN, font='cybermedium'):\n",
    "    ''' The human brain generally only deals well with shallow nesting. '''\n",
    "    ascii_art = figlet_format(print_me, font=font)\n",
    "    print('%s%s%s' % (color, ascii_art, Fore.WHITE))\n",
    "\n",
    "h1('Pipulating')\n",
    "\n",
    "sheet = gs.key('1U-7JPK6Zk4sVApjZpjWSAMSl99-N0gNKxMXRiagigr8')\n",
    "tab_name = 'Sheet1'\n",
    "tab = sheet.worksheet(tab_name)\n",
    "\n",
    "row1 = tab.row_values(1)\n",
    "if row1:\n",
    "    while not row1[-1]:\n",
    "        row1.pop()\n",
    "else:\n",
    "    logger.error(\"Row1 can not be empty. Exiting.\")\n",
    "    raise SystemExit()\n",
    "\n",
    "fm = dict()\n",
    "fn = list()\n",
    "for i, item in enumerate(row1):\n",
    "    fm[item] = eval(\"'%s'\" % gs.cc(i+1))\n",
    "    fn.append(item)\n",
    "\n",
    "col_count = len(row1)\n",
    "col1 = tab.col_values(1)\n",
    "\n",
    "if col1:\n",
    "    while not col1[-1]:\n",
    "        col1.pop()\n",
    "else:\n",
    "    logger.error('You must have at least one row of data')\n",
    "    raise SystaemExit()\n",
    "\n",
    "try:\n",
    "    first_row_with_data = col1.index('formatting') + 2\n",
    "except:\n",
    "    logger.error('Column A must have a cell containing \"formatting\" immediately above first data row.')\n",
    "\n",
    "logger.info('Auto-trimming extra rows & columns.')\n",
    "tab.resize(rows=len(col1), cols=col_count+1)\n",
    "tab.resize(rows=len(col1)+2, cols=col_count+1)\n",
    "\n",
    "dates = gs.date_ranges(yoy=False)\n",
    "human_dates = gs.date_ranges(human=True, yoy=False)\n",
    "if 'date range' in col1:\n",
    "    range_row = col1.index('date range') + 1\n",
    "    for metric in ['users', 'revenue']:\n",
    "        for i, num in enumerate(['90', '60', '30']):\n",
    "            try:\n",
    "                field_dex = '%s%s' % (metric, num)\n",
    "                range_col = fn.index(field_dex) + 1\n",
    "                tab.update_cell(range_row, range_col, human_dates[i])\n",
    "            except:\n",
    "                pass\n",
    "    logger.info('Updated date range labels.')\n",
    "\n",
    "rows = first_row_with_data, len(col1)\n",
    "cols = 'A', gs.cc(len(row1))\n",
    "cl, df = gs.pipulate(tab, rows, cols)\n",
    "\n",
    "for item in fm:\n",
    "    if item != 'index':\n",
    "        eval_me = 'fm[\"%s\"]' % item\n",
    "        eval_too = 'df[\"%s\"] = \"foo\"' % eval(eval_me)\n",
    "        exec(eval_too)\n",
    "\n",
    "gs.populate(tab, cl, df)"
   ]
  },
  {
   "cell_type": "code",
   "execution_count": null,
   "metadata": {},
   "outputs": [],
   "source": []
  }
 ],
 "metadata": {
  "kernelspec": {
   "display_name": "Python 3",
   "language": "python",
   "name": "python3"
  },
  "language_info": {
   "codemirror_mode": {
    "name": "ipython",
    "version": 3
   },
   "file_extension": ".py",
   "mimetype": "text/x-python",
   "name": "python",
   "nbconvert_exporter": "python",
   "pygments_lexer": "ipython3",
   "version": "3.6.4"
  }
 },
 "nbformat": 4,
 "nbformat_minor": 2
}
