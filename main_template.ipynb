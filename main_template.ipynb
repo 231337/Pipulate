{
 "cells": [
  {
   "cell_type": "code",
   "execution_count": 62,
   "metadata": {},
   "outputs": [
    {
     "name": "stderr",
     "output_type": "stream",
     "text": [
      "[I 180502 23:58:13 <ipython-input-62-f37809e4401b>:22] The first order of business is accountability. Make it sparkle!\n"
     ]
    },
    {
     "name": "stdout",
     "output_type": "stream",
     "text": [
      " ____  _             _       _   _             \n",
      "|  _ \\(_)_ __  _   _| | __ _| |_(_)_ __   __ _ \n",
      "| |_) | | '_ \\| | | | |/ _` | __| | '_ \\ / _` |\n",
      "|  __/| | |_) | |_| | | (_| | |_| | | | | (_| |\n",
      "|_|   |_| .__/ \\__,_|_|\\__,_|\\__|_|_| |_|\\__, |\n",
      "        |_|                              |___/ \n",
      "\n"
     ]
    },
    {
     "name": "stderr",
     "output_type": "stream",
     "text": [
      "[E 180502 23:58:15 <ipython-input-62-f37809e4401b>:65] Column A must have a cell containing \"formatting\" immediately above first data row.\n"
     ]
    },
    {
     "name": "stdout",
     "output_type": "stream",
     "text": [
      "Auto-trimming extra rows & columns.\n"
     ]
    },
    {
     "data": {
      "text/plain": [
       "{'replies': [{}],\n",
       " 'spreadsheetId': '1U-7JPK6Zk4sVApjZpjWSAMSl99-N0gNKxMXRiagigr8'}"
      ]
     },
     "execution_count": 62,
     "metadata": {},
     "output_type": "execute_result"
    }
   ],
   "source": [
    "# Standard Library imports first\n",
    "import time\n",
    "from functools import lru_cache as cache\n",
    "from os.path import isdir, isfile\n",
    "from os import makedirs\n",
    "\n",
    "# 3rd Party imports, light-show next\n",
    "from logzero import logger, setup_logger\n",
    "from pyfiglet import figlet_format\n",
    "from colorama import Fore\n",
    "\n",
    "# Specialized tricksters last\n",
    "import requests\n",
    "import numpy as np\n",
    "import pandas as pd\n",
    "import pipulate as gs\n",
    "\n",
    "# Start logging right away\n",
    "if not isdir('./logs/'):\n",
    "    makedirs('./logs/')\n",
    "logger = setup_logger(logfile='./logs/app.log', maxBytes=1000000, backupCount=30)\n",
    "logger.info(\"The first order of business is accountability. Make it sparkle!\")\n",
    "\n",
    "def h1(print_me, color=Fore.GREEN, font='standard'):\n",
    "    ''' Never underestimate the power of a good nickname. '''\n",
    "    ascii_art = figlet_format(print_me, font=font)\n",
    "    print('%s%s%s' % (color, ascii_art, Fore.WHITE))\n",
    "\n",
    "def h2(print_me, color=Fore.GREEN, font='cybermedium'):\n",
    "    ''' The human brain generally only deals well with shallow nesting. '''\n",
    "    ascii_art = figlet_format(print_me, font=font)\n",
    "    print('%s%s%s' % (color, ascii_art, Fore.WHITE))\n",
    "\n",
    "h1('Pipulating')\n",
    "\n",
    "sheet = gs.key('1U-7JPK6Zk4sVApjZpjWSAMSl99-N0gNKxMXRiagigr8')\n",
    "tab_name = 'Sheet1'\n",
    "tab = sheet.worksheet(tab_name)\n",
    "\n",
    "row1 = tab.row_values(1)\n",
    "if row1:\n",
    "    while not row1[-1]:\n",
    "        row1.pop()\n",
    "else:\n",
    "    logger.error(\"Row1 can not be empty. Exiting.\")\n",
    "    raise SystemExit()\n",
    "\n",
    "fm = dict()\n",
    "for i, item in enumerate(row1):\n",
    "    fm[item] = eval(\"'%s'\" % gs.cc(i+1))\n",
    "\n",
    "col_count = len(row1)\n",
    "col1 = tab.col_values(1)\n",
    "\n",
    "if col1:\n",
    "    while not col1[-1]:\n",
    "        col1.pop()\n",
    "else:\n",
    "    logger.error('You must have at least one row of data')\n",
    "    raise SystemExit()\n",
    "\n",
    "try:\n",
    "    first_row_with_data = col1.index('formatting') + 2\n",
    "except:\n",
    "    logger.error('Column A must have a cell containing \"formatting\" immediately above first data row.')\n",
    "\n",
    "print('Auto-trimming extra rows & columns.')\n",
    "tab.resize(rows=len(col1), cols=col_count+1)\n",
    "tab.resize(rows=len(col1)+2, cols=col_count+1)\n",
    "\n"
   ]
  },
  {
   "cell_type": "code",
   "execution_count": 50,
   "metadata": {},
   "outputs": [
    {
     "data": {
      "text/plain": [
       "['[index]',\n",
       " 'url',\n",
       " 'title',\n",
       " 'description',\n",
       " 'users90',\n",
       " 'users60',\n",
       " 'users30',\n",
       " 'revenue90',\n",
       " 'revenue60',\n",
       " 'revenue30']"
      ]
     },
     "execution_count": 50,
     "metadata": {},
     "output_type": "execute_result"
    }
   ],
   "source": [
    "row1"
   ]
  },
  {
   "cell_type": "code",
   "execution_count": null,
   "metadata": {},
   "outputs": [],
   "source": []
  },
  {
   "cell_type": "code",
   "execution_count": null,
   "metadata": {},
   "outputs": [],
   "source": []
  },
  {
   "cell_type": "code",
   "execution_count": 38,
   "metadata": {},
   "outputs": [
    {
     "data": {
      "text/plain": [
       "{'[index]': 'A', 'description': 'D', 'title': 'C', 'url': 'B'}"
      ]
     },
     "execution_count": 38,
     "metadata": {},
     "output_type": "execute_result"
    }
   ],
   "source": [
    "fm"
   ]
  },
  {
   "cell_type": "code",
   "execution_count": 41,
   "metadata": {},
   "outputs": [
    {
     "data": {
      "text/plain": [
       "3"
      ]
     },
     "execution_count": 41,
     "metadata": {},
     "output_type": "execute_result"
    }
   ],
   "source": [
    "gs.ab(fm['description'])"
   ]
  },
  {
   "cell_type": "code",
   "execution_count": 42,
   "metadata": {},
   "outputs": [
    {
     "data": {
      "text/plain": [
       "1"
      ]
     },
     "execution_count": 42,
     "metadata": {},
     "output_type": "execute_result"
    }
   ],
   "source": [
    "gs.ab(fm['url'])"
   ]
  },
  {
   "cell_type": "code",
   "execution_count": 43,
   "metadata": {},
   "outputs": [
    {
     "data": {
      "text/plain": [
       "2"
      ]
     },
     "execution_count": 43,
     "metadata": {},
     "output_type": "execute_result"
    }
   ],
   "source": [
    "gs.ab(fm['title'])"
   ]
  },
  {
   "cell_type": "code",
   "execution_count": 44,
   "metadata": {},
   "outputs": [
    {
     "data": {
      "text/plain": [
       "['[index]',\n",
       " '[Col Group]',\n",
       " '[Column Label]',\n",
       " '[Range Label]',\n",
       " '[date range]',\n",
       " '[timestamp]',\n",
       " '[formatting]']"
      ]
     },
     "execution_count": 44,
     "metadata": {},
     "output_type": "execute_result"
    }
   ],
   "source": [
    "col1"
   ]
  },
  {
   "cell_type": "code",
   "execution_count": 51,
   "metadata": {},
   "outputs": [
    {
     "data": {
      "text/plain": [
       "['[index]',\n",
       " '[Col Group]',\n",
       " '[Range Label]',\n",
       " '[date range]',\n",
       " '[timestamp]',\n",
       " '[Column Label]',\n",
       " '[formatting]']"
      ]
     },
     "execution_count": 51,
     "metadata": {},
     "output_type": "execute_result"
    }
   ],
   "source": [
    "col1"
   ]
  },
  {
   "cell_type": "code",
   "execution_count": 46,
   "metadata": {},
   "outputs": [
    {
     "data": {
      "text/plain": [
       "8"
      ]
     },
     "execution_count": 46,
     "metadata": {},
     "output_type": "execute_result"
    }
   ],
   "source": [
    "first_row_with_data"
   ]
  },
  {
   "cell_type": "code",
   "execution_count": null,
   "metadata": {},
   "outputs": [],
   "source": []
  }
 ],
 "metadata": {
  "kernelspec": {
   "display_name": "Python 3",
   "language": "python",
   "name": "python3"
  },
  "language_info": {
   "codemirror_mode": {
    "name": "ipython",
    "version": 3
   },
   "file_extension": ".py",
   "mimetype": "text/x-python",
   "name": "python",
   "nbconvert_exporter": "python",
   "pygments_lexer": "ipython3",
   "version": "3.6.4"
  }
 },
 "nbformat": 4,
 "nbformat_minor": 2
}
