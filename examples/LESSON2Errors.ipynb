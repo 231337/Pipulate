{
 "cells": [
  {
   "cell_type": "code",
   "execution_count": null,
   "metadata": {},
   "outputs": [],
   "source": [
    "arbitrary_string = \"Mike's Hello World\""
   ]
  },
  {
   "cell_type": "code",
   "execution_count": null,
   "metadata": {},
   "outputs": [],
   "source": [
    "len(arbitrary_string)  # You can type len() around anything that is a squence of things (strings, lists, etc.)"
   ]
  },
  {
   "cell_type": "code",
   "execution_count": null,
   "metadata": {},
   "outputs": [],
   "source": [
    "20  # Typing a number itself with just print it back at you, same as a string."
   ]
  },
  {
   "cell_type": "code",
   "execution_count": null,
   "metadata": {},
   "outputs": [],
   "source": [
    "type(20)  # In case you're wondering, the type of a real number is int."
   ]
  },
  {
   "cell_type": "code",
   "execution_count": null,
   "metadata": {},
   "outputs": [],
   "source": [
    "type(20.1)  # But the type of a number with a decimal is float."
   ]
  },
  {
   "cell_type": "code",
   "execution_count": null,
   "metadata": {},
   "outputs": [],
   "source": [
    "a = 0  # When manipulating numeric data-types, they get \"copied\" as wholly seperate (tiny) objects in memory.\n",
    "b = a\n",
    "a = 1\n",
    "print('b is still %s. That means b must have been a COPY of a.' % b)"
   ]
  },
  {
   "cell_type": "code",
   "execution_count": null,
   "metadata": {},
   "outputs": [],
   "source": [
    "type(a), type(b)"
   ]
  },
  {
   "cell_type": "code",
   "execution_count": null,
   "metadata": {},
   "outputs": [],
   "source": [
    "a = 0.5  # The rules about copying values in situations like this is true for either int's or floats.\n",
    "b = a\n",
    "a = 1.5\n",
    "print('b is still %s. That means b must have been a COPY of a.' % b)"
   ]
  },
  {
   "cell_type": "code",
   "execution_count": null,
   "metadata": {
    "scrolled": true
   },
   "outputs": [],
   "source": [
    "a = [\"I'm\", 'missing', 'my', 'pop']  # Attempts to \"copy\" lists actually make references to original list in memory.\n",
    "b = a\n",
    "a.pop()\n",
    "print(\"%s pop from the list, so b must reference the same in-memory list as a. It's NOT A COPY.\" % b)"
   ]
  },
  {
   "cell_type": "code",
   "execution_count": null,
   "metadata": {},
   "outputs": [],
   "source": [
    "type(a), type(b)  # It may not be immediately obvious, but a and be are references to the same list in memory."
   ]
  },
  {
   "cell_type": "code",
   "execution_count": null,
   "metadata": {
    "scrolled": true
   },
   "outputs": [],
   "source": [
    "a = [\"I'm\", 'not', 'missing', 'my', 'pop']  # Use the .copy() method of lists, or the slice api to copy.\n",
    "b = a.copy()\n",
    "c = a[:]\n",
    "a.pop()\n",
    "print(\"%s so the b-list must have been an in-memory copy (duplicate) of the original list.\" % b)\n",
    "print(\"%s so the c-list is likewise an in-memory copy (duplicate) of the original list.\" % c)\n",
    "print(\"%s mind beause under Python, I can finally understand passing values by refrence vs. value.\" % a)"
   ]
  },
  {
   "cell_type": "code",
   "execution_count": null,
   "metadata": {},
   "outputs": [],
   "source": [
    "a = ['three', 'two', 'one']  # Attempts to \"copy\" lists actually make references to original list in memory.\n",
    "b = a"
   ]
  },
  {
   "cell_type": "code",
   "execution_count": null,
   "metadata": {},
   "outputs": [],
   "source": [
    "a.pop(0)"
   ]
  },
  {
   "cell_type": "code",
   "execution_count": null,
   "metadata": {},
   "outputs": [],
   "source": [
    "b.pop(0)"
   ]
  },
  {
   "cell_type": "code",
   "execution_count": null,
   "metadata": {},
   "outputs": [],
   "source": [
    "a.pop(0)"
   ]
  },
  {
   "cell_type": "code",
   "execution_count": null,
   "metadata": {
    "scrolled": true
   },
   "outputs": [],
   "source": [
    "b.pop(0)  # (error intentional)"
   ]
  },
  {
   "cell_type": "code",
   "execution_count": null,
   "metadata": {},
   "outputs": [],
   "source": [
    "try:\n",
    "    b.pop(0)\n",
    "except:\n",
    "    print('BOOM')  # You can always make Python scripts keep running by trapping an error."
   ]
  },
  {
   "cell_type": "code",
   "execution_count": null,
   "metadata": {},
   "outputs": [],
   "source": [
    "try:\n",
    "    b.pop(0)\n",
    "except Exception as e:\n",
    "    print(e)  # You can display the Exception error message."
   ]
  },
  {
   "cell_type": "code",
   "execution_count": null,
   "metadata": {},
   "outputs": [],
   "source": [
    "try:\n",
    "    b.pop(0)\n",
    "except Exception as e:\n",
    "    print(type(e).__name__)  # Figuring out the name of the current Exception for later trapping is a wart on Python."
   ]
  },
  {
   "cell_type": "code",
   "execution_count": null,
   "metadata": {},
   "outputs": [],
   "source": [
    "try:\n",
    "    b.pop(0)\n",
    "except IndexError:\n",
    "    print(\"Ah ha, I caught that specific error!\")  # But once you do figure it out, trapping errors can be very explicit."
   ]
  },
  {
   "cell_type": "code",
   "execution_count": null,
   "metadata": {},
   "outputs": [],
   "source": [
    "try:\n",
    "    b.add(1)\n",
    "except IndexError:\n",
    "    print(\"Ah ha, I caught that specific error!\")\n",
    "except Exception as e:\n",
    "    catch_me = type(e).__name__\n",
    "    print(\"You now have to capture: %s\" % catch_me)  # See each untrapped exception name as it first occurs."
   ]
  },
  {
   "cell_type": "code",
   "execution_count": null,
   "metadata": {
    "scrolled": false
   },
   "outputs": [],
   "source": [
    "print(e)  # However, that \"e\" error object doesn't get outside its except-scope."
   ]
  },
  {
   "cell_type": "code",
   "execution_count": null,
   "metadata": {},
   "outputs": [],
   "source": [
    "if False:\n",
    "    new_var = 1\n",
    "else:\n",
    "    new_var = 2  # In this case (unlike in a \"try\"), the variable new_var is ALWAYS defined. Scope can be funny.\n",
    "print(new_var)"
   ]
  },
  {
   "cell_type": "code",
   "execution_count": null,
   "metadata": {},
   "outputs": [],
   "source": [
    "starting_value = 1\n",
    "if False:\n",
    "    starting_value = 2  # For good readability, declare variables outside if-statements, overriding obvious defaults.\n",
    "print(starting_value)"
   ]
  }
 ],
 "metadata": {
  "kernelspec": {
   "display_name": "Python 3",
   "language": "python",
   "name": "python3"
  },
  "language_info": {
   "codemirror_mode": {
    "name": "ipython",
    "version": 3
   },
   "file_extension": ".py",
   "mimetype": "text/x-python",
   "name": "python",
   "nbconvert_exporter": "python",
   "pygments_lexer": "ipython3",
   "version": "3.6.5"
  }
 },
 "nbformat": 4,
 "nbformat_minor": 2
}
