{
 "cells": [
  {
   "cell_type": "code",
   "execution_count": null,
   "metadata": {},
   "outputs": [],
   "source": [
    "import pandas as pd\n",
    "\n",
    "pd.set_option('display.max_columns', 500)\n",
    "\n",
    "def a1_notation(n):\n",
    "    string = \"\"\n",
    "    while n > 0:\n",
    "        n, remainder = divmod(n - 1, 26)\n",
    "        string = chr(65 + remainder) + string\n",
    "    return string\n",
    "\n",
    "alist = list(range(1, 31))\n",
    "A1_list = [a1_notation(x) for x in alist]\n",
    "A1_list_plus = [\"%s-label\" % a1_notation(x) for x in alist]\n",
    "df = pd.DataFrame([alist for aline in alist], columns=A1_list, index=A1_list_plus)\n",
    "df"
   ]
  },
  {
   "cell_type": "code",
   "execution_count": null,
   "metadata": {},
   "outputs": [],
   "source": [
    "# If we use just a single label-name (like using an integer in iloc) we get a Pandas Series.\n",
    "df.loc['A-label']"
   ]
  },
  {
   "cell_type": "code",
   "execution_count": null,
   "metadata": {},
   "outputs": [],
   "source": [
    "# Putting a label-name in a list returns a DataFrame.\n",
    "df.loc[['A-label']]"
   ]
  },
  {
   "cell_type": "code",
   "execution_count": null,
   "metadata": {},
   "outputs": [],
   "source": [
    "# This is how we name each row-label we want to select.\n",
    "df.loc[['A-label', 'C-label', 'E-label', 'G-label', 'I-label']]"
   ]
  },
  {
   "cell_type": "code",
   "execution_count": null,
   "metadata": {
    "scrolled": true
   },
   "outputs": [],
   "source": [
    "# This is how we use row-labels as part of a slice defintion.\n",
    "df.loc['A-label':'G-label']"
   ]
  },
  {
   "cell_type": "code",
   "execution_count": null,
   "metadata": {},
   "outputs": [],
   "source": [
    "# As with Python slices, you can leave off the beginning slice value for \"from beginning\".\n",
    "df.loc[:'G-label']"
   ]
  },
  {
   "cell_type": "code",
   "execution_count": null,
   "metadata": {},
   "outputs": [],
   "source": [
    "# As with Python slices, you can leave off the ending slice value for \"to the end\".\n",
    "df.loc['W-label':]"
   ]
  },
  {
   "cell_type": "code",
   "execution_count": null,
   "metadata": {},
   "outputs": [],
   "source": [
    "# As with Python slices, if you leave off both beginning and end values, you select the whole thing.\n",
    "df.loc[:]"
   ]
  },
  {
   "cell_type": "code",
   "execution_count": null,
   "metadata": {},
   "outputs": [],
   "source": [
    "# As with iloc, there is a comma in the interface which seperates row arguments from column arguments.\n",
    "df.loc[:, ]"
   ]
  },
  {
   "cell_type": "code",
   "execution_count": null,
   "metadata": {},
   "outputs": [],
   "source": [
    "# If we use just a single label-name after the comma (like using an integer in iloc) we get a Pandas Series.\n",
    "df.loc[:, 'A']"
   ]
  },
  {
   "cell_type": "code",
   "execution_count": null,
   "metadata": {},
   "outputs": [],
   "source": [
    "# Putting a label-name in a list after the comma returns a DataFrame.\n",
    "df.loc[:, ['A']]"
   ]
  },
  {
   "cell_type": "code",
   "execution_count": null,
   "metadata": {},
   "outputs": [],
   "source": [
    "# This is how we perform the very common task of selecting specific columns by label.\n",
    "df.loc[:, ['P', 'A', 'N', 'D', 'A', 'S']]"
   ]
  },
  {
   "cell_type": "code",
   "execution_count": null,
   "metadata": {},
   "outputs": [],
   "source": [
    "# Label-based slice definitions can be used in place of lists.\n",
    "df.loc[:, 'P':'U']"
   ]
  },
  {
   "cell_type": "code",
   "execution_count": null,
   "metadata": {},
   "outputs": [],
   "source": [
    "# After the comma you can leave off the ending slice value for \"to the end\".\n",
    "df.loc[:, 'P':]"
   ]
  },
  {
   "cell_type": "code",
   "execution_count": null,
   "metadata": {},
   "outputs": [],
   "source": [
    "# After the comma you can leave off the beginning slice value for \"from beginning\".\n",
    "df.loc[:, :'N']"
   ]
  },
  {
   "cell_type": "code",
   "execution_count": null,
   "metadata": {},
   "outputs": [],
   "source": [
    "# This is how we get the intersection of label-based slice definitions for rows and columns.\n",
    "df.loc[:'N-label', :'N']"
   ]
  },
  {
   "cell_type": "code",
   "execution_count": null,
   "metadata": {},
   "outputs": [],
   "source": [
    "# We can use lists of labels to define intersections. If each list has one item, we get a cell value. \n",
    "df.loc[['N-label'], ['N']]"
   ]
  },
  {
   "cell_type": "code",
   "execution_count": null,
   "metadata": {},
   "outputs": [],
   "source": [
    "# We can use references (variable names) to make list-intersection requests more readable.\n",
    "rows = ['P-label', 'A-label', 'N-label', 'D-label', 'A-label', 'S-label']\n",
    "cols = ['P', 'A', 'N', 'D', 'A', 'S']\n",
    "df.loc[rows, cols]"
   ]
  },
  {
   "cell_type": "code",
   "execution_count": null,
   "metadata": {},
   "outputs": [],
   "source": [
    "# We can use list comprehension and the enumerate and modulus functions to list every other column. \n",
    "[(i, x)[1] for i, x in enumerate(list(df.columns)) if i%2]"
   ]
  },
  {
   "cell_type": "code",
   "execution_count": null,
   "metadata": {},
   "outputs": [],
   "source": [
    "# This is how we select every other column by label name.\n",
    "df.loc[:, [(i, x)[1] for i, x in enumerate(list(df.columns)) if i%2]]"
   ]
  },
  {
   "cell_type": "code",
   "execution_count": null,
   "metadata": {},
   "outputs": [],
   "source": []
  }
 ],
 "metadata": {
  "kernelspec": {
   "display_name": "Python 3",
   "language": "python",
   "name": "python3"
  },
  "language_info": {
   "codemirror_mode": {
    "name": "ipython",
    "version": 3
   },
   "file_extension": ".py",
   "mimetype": "text/x-python",
   "name": "python",
   "nbconvert_exporter": "python",
   "pygments_lexer": "ipython3",
   "version": "3.6.5"
  }
 },
 "nbformat": 4,
 "nbformat_minor": 2
}
