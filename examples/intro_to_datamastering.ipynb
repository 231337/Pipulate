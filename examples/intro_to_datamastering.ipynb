{
 "cells": [
  {
   "cell_type": "code",
   "execution_count": null,
   "metadata": {},
   "outputs": [],
   "source": [
    "\"Hello World\"  # Put your cursor in this text-box and hit \"Shift+Enter\" on your keyboard."
   ]
  },
  {
   "cell_type": "code",
   "execution_count": null,
   "metadata": {},
   "outputs": [],
   "source": [
    "print(\"Hello World\")  # Okay, now do that again. See how with print(), Jupyter doesn't add quotes."
   ]
  },
  {
   "cell_type": "code",
   "execution_count": null,
   "metadata": {},
   "outputs": [],
   "source": [
    "print('Hello World')  # You can also use single-quotes around strings."
   ]
  },
  {
   "cell_type": "code",
   "execution_count": null,
   "metadata": {},
   "outputs": [],
   "source": [
    "print(\"Mike's Hello World\")  # Use whichever quotes you need when you need them."
   ]
  },
  {
   "cell_type": "code",
   "execution_count": null,
   "metadata": {
    "scrolled": true
   },
   "outputs": [],
   "source": [
    "print(\"b\\nl\\na\\nh\\ttab1\\ttab2\\ttab3\")  # There are some special characters in Python like \\n for line return."
   ]
  },
  {
   "cell_type": "code",
   "execution_count": null,
   "metadata": {},
   "outputs": [],
   "source": [
    "print(r\"b\\nl\\na\\nh\\ttab1\\ttab2\\ttab3\")  # You can neutralize special characters with the \"raw\" directive on a string."
   ]
  },
  {
   "cell_type": "code",
   "execution_count": null,
   "metadata": {},
   "outputs": [],
   "source": [
    "arbitrary_string = \"Mike's Hello World\"  # \"Variable\" names are arbirtary but have certain limitations (must start with letter)\n",
    "print(arbitrary_string)"
   ]
  },
  {
   "cell_type": "code",
   "execution_count": null,
   "metadata": {
    "scrolled": true
   },
   "outputs": [],
   "source": [
    "for letter in arbitrary_string:  # Python can treat a string as a series of individual characters.\n",
    "    print(letter)"
   ]
  },
  {
   "cell_type": "code",
   "execution_count": null,
   "metadata": {
    "scrolled": true
   },
   "outputs": [],
   "source": [
    "for letter in arbitrary_string:\n",
    "    print(letter, end=\" \")       # Commands like print often have additonal controls as you see here."
   ]
  },
  {
   "cell_type": "code",
   "execution_count": null,
   "metadata": {},
   "outputs": [],
   "source": [
    "arbitrary_string[1:17]  # Python has a concept of \"slicing\" which works really well on lists."
   ]
  },
  {
   "cell_type": "code",
   "execution_count": null,
   "metadata": {},
   "outputs": [],
   "source": [
    "arbitrary_string[:17]  # You can leave out the number at the beginning to stand for 0."
   ]
  },
  {
   "cell_type": "code",
   "execution_count": null,
   "metadata": {},
   "outputs": [],
   "source": [
    "arbitrary_string[1:]  # You can leave out the number at the end to stand for the end-length of the sequence."
   ]
  },
  {
   "cell_type": "code",
   "execution_count": null,
   "metadata": {},
   "outputs": [],
   "source": [
    "arbitrary_string[:-6]  # You can use negative indexes to go back from the end."
   ]
  },
  {
   "cell_type": "code",
   "execution_count": null,
   "metadata": {},
   "outputs": [],
   "source": [
    "copy_of_string = arbitrary_string[:]  # You can use this as an alternative to string.copy() (avoiding getting original object)\n",
    "copy_of_string"
   ]
  },
  {
   "cell_type": "code",
   "execution_count": null,
   "metadata": {},
   "outputs": [],
   "source": [
    "help(print)  # You can type help() around any function name to see its built-in documentation."
   ]
  },
  {
   "cell_type": "code",
   "execution_count": null,
   "metadata": {},
   "outputs": [],
   "source": [
    "type(arbitrary_string)  # You can use type() around any variable or function name to see what it is. "
   ]
  },
  {
   "cell_type": "code",
   "execution_count": null,
   "metadata": {},
   "outputs": [],
   "source": [
    "len(arbitrary_string)  # You can type len() around anything that is a squence of things (strings, lists, etc.)"
   ]
  },
  {
   "cell_type": "code",
   "execution_count": null,
   "metadata": {},
   "outputs": [],
   "source": [
    "20  # Typing a number itself with just print it back at you, same as a string."
   ]
  },
  {
   "cell_type": "code",
   "execution_count": null,
   "metadata": {},
   "outputs": [],
   "source": [
    "type(20)  # In case you're wondering, the type of a real number is int."
   ]
  },
  {
   "cell_type": "code",
   "execution_count": null,
   "metadata": {},
   "outputs": [],
   "source": [
    "type(20.1)  # But the type of a number with a decimal is float."
   ]
  },
  {
   "cell_type": "code",
   "execution_count": null,
   "metadata": {},
   "outputs": [],
   "source": [
    "a = 0  # When manipulating numeric data-types, they get \"copied\" as wholly seperate (tiny) objects in memory.\n",
    "b = a\n",
    "a = 1\n",
    "print('b is still %s. That means b must have been a COPY of a.' % b)"
   ]
  },
  {
   "cell_type": "code",
   "execution_count": null,
   "metadata": {},
   "outputs": [],
   "source": [
    "type(a), type(b)"
   ]
  },
  {
   "cell_type": "code",
   "execution_count": null,
   "metadata": {},
   "outputs": [],
   "source": [
    "a = 0.5  # The rules about copying values in situations like this is true for either int's or floats.\n",
    "b = a\n",
    "a = 1.5\n",
    "print('b is still %s. That means b must have been a COPY of a.' % b)"
   ]
  },
  {
   "cell_type": "code",
   "execution_count": null,
   "metadata": {
    "scrolled": true
   },
   "outputs": [],
   "source": [
    "a = [\"I'm\", 'missing', 'my', 'pop']  # Attempts to \"copy\" lists actually make references to original list in memory.\n",
    "b = a\n",
    "a.pop()\n",
    "print(\"%s pop from the list, so b must reference the same in-memory list as a. It's NOT A COPY.\" % b)"
   ]
  },
  {
   "cell_type": "code",
   "execution_count": null,
   "metadata": {},
   "outputs": [],
   "source": [
    "type(a), type(b)  # It may not be immediately obvious, but a and be are references to the same list in memory."
   ]
  },
  {
   "cell_type": "code",
   "execution_count": null,
   "metadata": {
    "scrolled": true
   },
   "outputs": [],
   "source": [
    "a = [\"I'm\", 'not', 'missing', 'my', 'pop']  # Use the .copy() method of lists, or the slice api to copy.\n",
    "b = a.copy()\n",
    "c = a[:]\n",
    "a.pop()\n",
    "print(\"%s so the b-list must have been an in-memory copy (duplicate) of the original list.\" % b)\n",
    "print(\"%s so the c-list is likewise an in-memory copy (duplicate) of the original list.\" % c)\n",
    "print(\"%s mind beause under Python, I can finally understand passing values by refrence vs. value.\" % a)"
   ]
  },
  {
   "cell_type": "code",
   "execution_count": null,
   "metadata": {},
   "outputs": [],
   "source": [
    "a = ['three', 'two', 'one']  # Attempts to \"copy\" lists actually make references to original list in memory.\n",
    "b = a"
   ]
  },
  {
   "cell_type": "code",
   "execution_count": null,
   "metadata": {},
   "outputs": [],
   "source": [
    "a.pop(0)"
   ]
  },
  {
   "cell_type": "code",
   "execution_count": null,
   "metadata": {},
   "outputs": [],
   "source": [
    "b.pop(0)"
   ]
  },
  {
   "cell_type": "code",
   "execution_count": null,
   "metadata": {},
   "outputs": [],
   "source": [
    "a.pop(0)"
   ]
  },
  {
   "cell_type": "code",
   "execution_count": null,
   "metadata": {
    "scrolled": true
   },
   "outputs": [],
   "source": [
    "b.pop(0)  # (error intentional)"
   ]
  },
  {
   "cell_type": "code",
   "execution_count": null,
   "metadata": {},
   "outputs": [],
   "source": [
    "try:\n",
    "    b.pop(0)\n",
    "except:\n",
    "    print('BOOM')  # You can always make Python scripts keep running by trapping an error."
   ]
  },
  {
   "cell_type": "code",
   "execution_count": null,
   "metadata": {},
   "outputs": [],
   "source": [
    "try:\n",
    "    b.pop(0)\n",
    "except Exception as e:\n",
    "    print(e)  # You can display the Exception error message."
   ]
  },
  {
   "cell_type": "code",
   "execution_count": null,
   "metadata": {},
   "outputs": [],
   "source": [
    "try:\n",
    "    b.pop(0)\n",
    "except Exception as e:\n",
    "    print(type(e).__name__)  # Figuring out the name of the current Exception for later trapping is a wart on Python."
   ]
  },
  {
   "cell_type": "code",
   "execution_count": null,
   "metadata": {},
   "outputs": [],
   "source": [
    "try:\n",
    "    b.pop(0)\n",
    "except IndexError:\n",
    "    print(\"Ah ha, I caught that specific error!\")  # But once you do figure it out, trapping errors can be very explicit."
   ]
  },
  {
   "cell_type": "code",
   "execution_count": null,
   "metadata": {},
   "outputs": [],
   "source": [
    "try:\n",
    "    b.add(1)\n",
    "except IndexError:\n",
    "    print(\"Ah ha, I caught that specific error!\")\n",
    "except Exception as e:\n",
    "    catch_me = type(e).__name__\n",
    "    print(\"You now have to capture: %s\" % catch_me)  # See each untrapped exception name as it first occurs."
   ]
  },
  {
   "cell_type": "code",
   "execution_count": null,
   "metadata": {
    "scrolled": false
   },
   "outputs": [],
   "source": [
    "print(e)  # However, that \"e\" error object doesn't get outside its except-scope."
   ]
  },
  {
   "cell_type": "code",
   "execution_count": null,
   "metadata": {},
   "outputs": [],
   "source": [
    "if False:\n",
    "    new_var = 1\n",
    "else:\n",
    "    new_var = 2  # In this case (unlike in a \"try\"), the variable new_var is ALWAYS defined. Scope can be funny.\n",
    "print(new_var)"
   ]
  },
  {
   "cell_type": "code",
   "execution_count": null,
   "metadata": {},
   "outputs": [],
   "source": [
    "starting_value = 1\n",
    "if False:\n",
    "    starting_value = 2  # For good readability, declare variables outside if-statements, overriding obvious defaults.\n",
    "print(starting_value)"
   ]
  },
  {
   "cell_type": "code",
   "execution_count": null,
   "metadata": {},
   "outputs": [],
   "source": [
    "tuple  # Tuples are another important data type, pervasive in Python without you even knowing it (at first)"
   ]
  },
  {
   "cell_type": "code",
   "execution_count": null,
   "metadata": {
    "scrolled": true
   },
   "outputs": [],
   "source": [
    "1, 2, 3, 'a', 'b', 'c'  # You're using tuples just by putting commas in between a bunch of values"
   ]
  },
  {
   "cell_type": "code",
   "execution_count": null,
   "metadata": {},
   "outputs": [],
   "source": [
    "type((1, 2, 3, 'a', 'b', 'c'))  # YOu can confirm this fact, but when you do you HAVE TO use the normally optional parenthesis."
   ]
  },
  {
   "cell_type": "code",
   "execution_count": null,
   "metadata": {},
   "outputs": [],
   "source": [
    "atuple = 1, 2, 3, 'a', 'b', 'c'  # The fact you usually don't need the parenthesis leads to extremely PYTHONIC coding style.\n",
    "atuple"
   ]
  },
  {
   "cell_type": "code",
   "execution_count": null,
   "metadata": {},
   "outputs": [],
   "source": [
    "atuple = (1, 2, 3, 'a', 'b', 'c')  # This is the same as doing this, a more official way to create a tuple.\n",
    "atuple"
   ]
  },
  {
   "cell_type": "code",
   "execution_count": null,
   "metadata": {},
   "outputs": [],
   "source": [
    "atuple = tuple((1, 2, 3, 'a', 'b', 'c'))  # There's even more formal ways to create a tuple. But why would you?\n",
    "atuple"
   ]
  },
  {
   "cell_type": "code",
   "execution_count": null,
   "metadata": {},
   "outputs": [],
   "source": [
    "alist = list((1, 2, 3, 'a', 'b', 'c'))  # You'll also learn about lists which use square brackets instead of parenthesis.\n",
    "alist"
   ]
  },
  {
   "cell_type": "code",
   "execution_count": null,
   "metadata": {},
   "outputs": [],
   "source": [
    "a, b, c = 1, 2, 3  # The comma trick usually used for tuples can ALSO be used to define multiple variables at once.\n",
    "print(a)\n",
    "print(b)\n",
    "print(c)"
   ]
  },
  {
   "cell_type": "code",
   "execution_count": null,
   "metadata": {},
   "outputs": [],
   "source": [
    "a = 'first', 'second', 'third'  # Using a single variable name with comma seperated values makes a tuple.\n",
    "a"
   ]
  },
  {
   "cell_type": "code",
   "execution_count": null,
   "metadata": {
    "scrolled": false
   },
   "outputs": [],
   "source": [
    "for x in a:\n",
    "    print(x)\n",
    "\n",
    "[print(x) for x in a]  # You can do many of the same things with a tuple as with a list."
   ]
  },
  {
   "cell_type": "code",
   "execution_count": null,
   "metadata": {},
   "outputs": [],
   "source": [
    "mutable = [0, 0, 0, 0]  # But lists are made to be very dynamic and use LOTS of computer resources for tricks like this.\n",
    "mutable[2] = 'foo'\n",
    "mutable"
   ]
  },
  {
   "cell_type": "code",
   "execution_count": null,
   "metadata": {},
   "outputs": [],
   "source": [
    "immutable = (0, 0, 0, 0)  # Tuples are an immutable data-type, meaning when they're set, they stay that way (error intentional)\n",
    "immutable[2] = 'foo'"
   ]
  },
  {
   "cell_type": "code",
   "execution_count": null,
   "metadata": {},
   "outputs": [],
   "source": [
    "list_of_tuples = [(1, 2, 3), (4, 5, 6), (7, 8, 9)]  # Tuples are particularly useful as the rows in row & column shapes.\n",
    "for a_tuple in list_of_tuples:\n",
    "    print(a_tuple)"
   ]
  },
  {
   "cell_type": "code",
   "execution_count": null,
   "metadata": {
    "scrolled": true
   },
   "outputs": [],
   "source": [
    "a = 'first', 'second', 'third'\n",
    "print(a)\n",
    "print(*a)  # Using an asterisk before a tuple-name sort of de-tuples it."
   ]
  },
  {
   "cell_type": "code",
   "execution_count": null,
   "metadata": {},
   "outputs": [],
   "source": [
    "def foo(*args):\n",
    "    for arg in args:  # This is useful when making functions that support arbitrary numbers of parameters.\n",
    "        print(arg)\n",
    "    \n",
    "foo('first', 'second', 'third', 'fourth', 'fifth', 'sixth', 'and', 'so', 'on')  # But this gets ahead of ourselves."
   ]
  },
  {
   "cell_type": "code",
   "execution_count": null,
   "metadata": {},
   "outputs": [],
   "source": [
    "def show(arg):\n",
    "    print(arg)  # We're normally taught first how functions usually take one input.\n",
    "\n",
    "show('me')"
   ]
  },
  {
   "cell_type": "code",
   "execution_count": null,
   "metadata": {},
   "outputs": [],
   "source": [
    "def show(arg1, arg2):\n",
    "    print(arg1, arg2)  # We're normally taught first how functions usually take one input.\n",
    "\n",
    "show('me', 'too')  # Without the asterisk, you'd have go code the function to expect eacy separate argument."
   ]
  },
  {
   "cell_type": "code",
   "execution_count": null,
   "metadata": {
    "scrolled": true
   },
   "outputs": [],
   "source": [
    "list  # As with strings and numbers, simply typing the name of a Python \"type\" will print a CLASS instance back at you."
   ]
  },
  {
   "cell_type": "code",
   "execution_count": null,
   "metadata": {},
   "outputs": [],
   "source": [
    "list()  # To get an actual INSTANCE of that CLASS, you \"call\" the object's primary built-in method using parenthesis."
   ]
  },
  {
   "cell_type": "code",
   "execution_count": null,
   "metadata": {},
   "outputs": [],
   "source": [
    "[]  # Square brackets are used by Python to represent lists. This is an empty list just like list()"
   ]
  },
  {
   "cell_type": "code",
   "execution_count": null,
   "metadata": {},
   "outputs": [],
   "source": [
    "type(list)  # If you check the TYPE of the list CLASS, you will find that the CLASS defines a DATA TYPE."
   ]
  },
  {
   "cell_type": "code",
   "execution_count": null,
   "metadata": {},
   "outputs": [],
   "source": [
    "type(list())  # Once you put the parenthesis in, it's no longer the CLASS but rather is an INSTANCE of that CLASS."
   ]
  },
  {
   "cell_type": "code",
   "execution_count": null,
   "metadata": {},
   "outputs": [],
   "source": [
    "type(str), type(int), type(float), type(list), type(tuple), type(dict)  # Lots of things are the definitions of CLASS TYPES."
   ]
  },
  {
   "cell_type": "code",
   "execution_count": null,
   "metadata": {
    "scrolled": true
   },
   "outputs": [],
   "source": [
    "for a_type in str, int, float, list, tuple, dict:\n",
    "    message = \"%s is a %s\" % (a_type, type(a_type))  # These are the 6 major \"types\" you work with in Python.\n",
    "    print(message)"
   ]
  },
  {
   "cell_type": "code",
   "execution_count": null,
   "metadata": {},
   "outputs": [],
   "source": [
    "repr(list)  # When you see those pointy brackets in Python, it means you're seeing the \"string representation\" of a thing."
   ]
  },
  {
   "cell_type": "code",
   "execution_count": null,
   "metadata": {
    "scrolled": false
   },
   "outputs": [],
   "source": [
    "help(list)  # Types like lists have a lot of cool stuff built-in that's worth looking at with a help()"
   ]
  },
  {
   "cell_type": "code",
   "execution_count": null,
   "metadata": {},
   "outputs": [],
   "source": [
    "[1, 2, 3]  # Lists are more flexible than tuples. Just use square brackets for a list."
   ]
  },
  {
   "cell_type": "code",
   "execution_count": null,
   "metadata": {},
   "outputs": [],
   "source": [
    "for item in [1, 2, 3]:  # You can control loops with lists\n",
    "    print(item)"
   ]
  },
  {
   "cell_type": "code",
   "execution_count": null,
   "metadata": {},
   "outputs": [],
   "source": [
    "for item in [1, 2, 3, 'a', 'b', 'c', ('nested', 'tuple')]:  # The lists can contain arbitrary data-types.\n",
    "    print(item)"
   ]
  },
  {
   "cell_type": "code",
   "execution_count": null,
   "metadata": {},
   "outputs": [],
   "source": [
    "alist = ['a', 'b', 'c']  # You can assign a variable name to a list and loop through that instead:\n",
    "\n",
    "for item in alist:\n",
    "    print(item)"
   ]
  },
  {
   "cell_type": "code",
   "execution_count": null,
   "metadata": {},
   "outputs": [],
   "source": [
    "alist = ['a', 'b', 'c']\n",
    "\n",
    "for item in alist:\n",
    "    print('foo-%s' % item)  # Look at how you can build-up and display strings. The %s formats and inserts item into string."
   ]
  },
  {
   "cell_type": "code",
   "execution_count": null,
   "metadata": {},
   "outputs": [],
   "source": [
    "alist.append('d')  # You can append to lists.\n",
    "alist"
   ]
  },
  {
   "cell_type": "code",
   "execution_count": null,
   "metadata": {},
   "outputs": [],
   "source": [
    "alist.pop()  # You can pop items of teh end of the list.\n",
    "alist"
   ]
  },
  {
   "cell_type": "code",
   "execution_count": null,
   "metadata": {},
   "outputs": [],
   "source": [
    "alist.pop(0)  # You can also pop from the beginning of a list uzing index 0.\n",
    "alist"
   ]
  },
  {
   "cell_type": "code",
   "execution_count": null,
   "metadata": {},
   "outputs": [],
   "source": [
    "alist = ['a', 'b', 'c']\n",
    "\n",
    "for i, item in enumerate(alist):\n",
    "    print('iteration #%s: foo-%s' % (i, item))  # You can expose Python's internal index counter with enumerate()"
   ]
  },
  {
   "cell_type": "code",
   "execution_count": null,
   "metadata": {
    "scrolled": true
   },
   "outputs": [],
   "source": [
    "alist = ['a', 'b', 'c']\n",
    "\n",
    "for i, item in enumerate(alist):\n",
    "    print('iteration #%s: foo-%s' % (i + 1, item))  # The internal counter is zero-based, so we must sometimes add one."
   ]
  },
  {
   "cell_type": "code",
   "execution_count": null,
   "metadata": {
    "scrolled": true
   },
   "outputs": [],
   "source": [
    "range  # We're going to use a \"range\" to learn how to mock-up some data quickly."
   ]
  },
  {
   "cell_type": "code",
   "execution_count": null,
   "metadata": {
    "scrolled": true
   },
   "outputs": [],
   "source": [
    "help(range)  # Ranges are a good example of a function with optional parameters, so look at its help."
   ]
  },
  {
   "cell_type": "code",
   "execution_count": null,
   "metadata": {
    "scrolled": false
   },
   "outputs": [],
   "source": [
    "range(20)  # Calling range directly (under Python 3) creates a range object and not a list as you might want/expect"
   ]
  },
  {
   "cell_type": "code",
   "execution_count": null,
   "metadata": {},
   "outputs": [],
   "source": [
    "list(range(20))  # Simply wrap the range in a list to turn it into one."
   ]
  },
  {
   "cell_type": "code",
   "execution_count": null,
   "metadata": {},
   "outputs": [],
   "source": [
    "list(range(1, 21))  # Use what we learned from the help to offset the zero-based index."
   ]
  },
  {
   "cell_type": "code",
   "execution_count": null,
   "metadata": {},
   "outputs": [],
   "source": [
    "list(range(1, 21, 3))  # Just for fun, pick every third item from the list (step by stride)"
   ]
  },
  {
   "cell_type": "code",
   "execution_count": null,
   "metadata": {},
   "outputs": [],
   "source": [
    "alist = list(range(1, 21))  # Okay, we're going to want 1 through 20 referenced by a variable named alist.\n",
    "alist"
   ]
  },
  {
   "cell_type": "code",
   "execution_count": null,
   "metadata": {},
   "outputs": [],
   "source": [
    "[alist]  #If you but square brackets around a list, you have a list inside a list."
   ]
  },
  {
   "cell_type": "code",
   "execution_count": null,
   "metadata": {},
   "outputs": [],
   "source": [
    "[x for x in alist]  # But if you add \"x for x in\" at the beginning, you have a normal list again... but one you can mess with. "
   ]
  },
  {
   "cell_type": "code",
   "execution_count": null,
   "metadata": {},
   "outputs": [],
   "source": [
    "[aline for aline in alist]  # For starters, \"x for x in\" is arbitrary. You can name it to make more sense."
   ]
  },
  {
   "cell_type": "code",
   "execution_count": null,
   "metadata": {
    "scrolled": true
   },
   "outputs": [],
   "source": [
    "['foo' for aline in alist]  # If you use a string instead of the iteration variable name, you get the string that many times."
   ]
  },
  {
   "cell_type": "code",
   "execution_count": null,
   "metadata": {},
   "outputs": [],
   "source": [
    "['foo-%s' % aline for aline in alist]  # Using string replacement, you can combine strings with variable values."
   ]
  },
  {
   "cell_type": "code",
   "execution_count": null,
   "metadata": {
    "scrolled": true
   },
   "outputs": [],
   "source": [
    "[alist for aline in alist]  # And you can actually use the entire list for each line in a list for an easy matrix."
   ]
  },
  {
   "cell_type": "code",
   "execution_count": null,
   "metadata": {
    "scrolled": true
   },
   "outputs": [],
   "source": [
    "[tuple(alist) for aline in alist]  # As we recall, tuples are more meory efficient for this use."
   ]
  },
  {
   "cell_type": "code",
   "execution_count": null,
   "metadata": {
    "scrolled": true
   },
   "outputs": [],
   "source": [
    "(tuple(alist) for aline in alist)  # And while it's way beond the scope of this intro, this is the most efficient use:"
   ]
  },
  {
   "cell_type": "code",
   "execution_count": null,
   "metadata": {},
   "outputs": [],
   "source": [
    "row_generator = (tuple(alist) for aline in alist)  # This technique can step through billions of records memory efficiently.\n",
    "for row in row_generator:\n",
    "    print(row)"
   ]
  },
  {
   "cell_type": "code",
   "execution_count": null,
   "metadata": {},
   "outputs": [],
   "source": [
    "list_of_tuples = [tuple(alist) for aline in alist]  # Let's make a simple list of tuples for our next step.\n",
    "list_of_tuples"
   ]
  },
  {
   "cell_type": "code",
   "execution_count": null,
   "metadata": {},
   "outputs": [],
   "source": [
    "import pandas as pd  # While Python itself lets you do all the ordinary database things, Pandas lets you do the extraordinary."
   ]
  },
  {
   "cell_type": "code",
   "execution_count": null,
   "metadata": {},
   "outputs": [],
   "source": [
    "pd  # By just typing a package name, you can see whatever the developer wanted you to."
   ]
  },
  {
   "cell_type": "code",
   "execution_count": null,
   "metadata": {},
   "outputs": [],
   "source": [
    "pd.DataFrame  # DataFrame's are the most common data type you'll be using from pandas. It's an Excel-like row & column table."
   ]
  },
  {
   "cell_type": "code",
   "execution_count": null,
   "metadata": {
    "scrolled": true
   },
   "outputs": [],
   "source": [
    "pd.DataFrame(['foo'])  # You CAN call a pandas DataFrame inputing merely a one-element list."
   ]
  },
  {
   "cell_type": "code",
   "execution_count": null,
   "metadata": {},
   "outputs": [],
   "source": [
    "pd.DataFrame([('foo')])  # If it's going to support more table-like list-of-lists, it had better support nesting."
   ]
  },
  {
   "cell_type": "code",
   "execution_count": null,
   "metadata": {},
   "outputs": [],
   "source": [
    "pd.DataFrame([('a', 'b', 'c'), ('d', 'e', 'f'), ('g', 'h', 'i')])  #  Okay, so let's feed it a hand-coded list of tuples."
   ]
  },
  {
   "cell_type": "code",
   "execution_count": null,
   "metadata": {
    "scrolled": false
   },
   "outputs": [],
   "source": [
    "pd.DataFrame(list_of_tuples)  # Now let's feed it the list_of_tuples we have waiting."
   ]
  },
  {
   "cell_type": "code",
   "execution_count": null,
   "metadata": {},
   "outputs": [],
   "source": [
    "df = pd.DataFrame(list_of_tuples)  # You can 0utput the data to an immediately Excel-readable CSV at any time.\n",
    "df.to_csv('saved-data.csv')"
   ]
  },
  {
   "cell_type": "code",
   "execution_count": null,
   "metadata": {},
   "outputs": [],
   "source": [
    "df.to_csv('saved-data-noindex.csv', index=False)  # You can leave out the automatic pandas-supplied built-in index column. "
   ]
  },
  {
   "cell_type": "code",
   "execution_count": null,
   "metadata": {},
   "outputs": [],
   "source": [
    "df.describe()  # Because the data is now in Pandas, you can go straignt for some interesting statistics on the table."
   ]
  },
  {
   "cell_type": "code",
   "execution_count": null,
   "metadata": {},
   "outputs": [],
   "source": [
    "reversed_list = list(reversed(alist))  # We're going to want to take control of our column names. Here's a start.\n",
    "xlabels = ['x%s' % x for x in alist]\n",
    "xlabels"
   ]
  },
  {
   "cell_type": "code",
   "execution_count": null,
   "metadata": {},
   "outputs": [],
   "source": [
    "pd.DataFrame([alist for x in alist], columns=xlabels, index=reversed_list)  # With 20-item list, we can set our column names."
   ]
  },
  {
   "cell_type": "code",
   "execution_count": null,
   "metadata": {},
   "outputs": [],
   "source": [
    "ord('A')  # But shouldn't we use Excel-like A1 column notation? Isn't there an ordinal function? Yes!"
   ]
  },
  {
   "cell_type": "code",
   "execution_count": null,
   "metadata": {},
   "outputs": [],
   "source": [
    "alphabet_ordinals = list(range(ord('A'), ord('Z') + 1))  # With an ordinal function, you can always figure out A to Z.\n",
    "for a_number in alphabet_ordinals:\n",
    "    print(\"%s: %s\" % (a_number, chr(a_number)))"
   ]
  },
  {
   "cell_type": "code",
   "execution_count": null,
   "metadata": {},
   "outputs": [],
   "source": [
    "# However, this is where we just rely on Google and StackOverflow when we Google \"Python A1 notation\". Here's a function.\n",
    "\n",
    "def a1_notation(n):\n",
    "    string = \"\"\n",
    "    while n > 0:\n",
    "        n, remainder = divmod(n - 1, 26)\n",
    "        string = chr(65 + remainder) + string\n",
    "    return string\n",
    "\n",
    "print(a1_notation(1))\n",
    "print(a1_notation(26))\n",
    "print(a1_notation(27))\n",
    "print(a1_notation(702))"
   ]
  },
  {
   "cell_type": "code",
   "execution_count": null,
   "metadata": {},
   "outputs": [],
   "source": [
    "A1_list = [a1_notation(x) for x in alist]  # We use our A1 noation function to create a list of the column labels we need.\n",
    "A1_list"
   ]
  },
  {
   "cell_type": "code",
   "execution_count": null,
   "metadata": {},
   "outputs": [],
   "source": [
    "pd.DataFrame([alist for x in alist], columns=A1_list)  # Now we can have a DataGrid that is always addressible like Excel."
   ]
  },
  {
   "cell_type": "code",
   "execution_count": null,
   "metadata": {},
   "outputs": [],
   "source": [
    "alist = list(range(1, 31))\n",
    "A1_list = [a1_notation(x) for x in alist]\n",
    "df = pd.DataFrame([alist for aline in alist], columns=A1_list)  # Just to make sure, let's go past Z. Good!\n",
    "df"
   ]
  },
  {
   "cell_type": "code",
   "execution_count": null,
   "metadata": {},
   "outputs": [],
   "source": [
    "pd.set_option('display.max_columns', 500)  # We can change the Pandas display options to show all of our columns.\n",
    "df"
   ]
  },
  {
   "cell_type": "code",
   "execution_count": null,
   "metadata": {},
   "outputs": [],
   "source": [
    "df[:5]"
   ]
  },
  {
   "cell_type": "code",
   "execution_count": null,
   "metadata": {},
   "outputs": [],
   "source": [
    "df[25:]"
   ]
  },
  {
   "cell_type": "code",
   "execution_count": null,
   "metadata": {},
   "outputs": [],
   "source": [
    "df[25:5]  # Think about it"
   ]
  },
  {
   "cell_type": "code",
   "execution_count": null,
   "metadata": {},
   "outputs": [],
   "source": [
    "df.iloc[:,:]"
   ]
  },
  {
   "cell_type": "code",
   "execution_count": null,
   "metadata": {
    "scrolled": false
   },
   "outputs": [],
   "source": [
    "df.iloc[0:5, 0:30]"
   ]
  },
  {
   "cell_type": "code",
   "execution_count": null,
   "metadata": {},
   "outputs": [],
   "source": [
    "df.iloc[:5, :]"
   ]
  },
  {
   "cell_type": "code",
   "execution_count": null,
   "metadata": {},
   "outputs": [],
   "source": [
    "df.iloc[0:30, 25:30]"
   ]
  },
  {
   "cell_type": "code",
   "execution_count": null,
   "metadata": {},
   "outputs": [],
   "source": [
    "df.iloc[:, 25:]"
   ]
  },
  {
   "cell_type": "code",
   "execution_count": null,
   "metadata": {},
   "outputs": [],
   "source": [
    "df.iloc[:5, 25:]"
   ]
  },
  {
   "cell_type": "code",
   "execution_count": null,
   "metadata": {},
   "outputs": [],
   "source": [
    "df.iloc[2:5, 25:28]"
   ]
  },
  {
   "cell_type": "code",
   "execution_count": null,
   "metadata": {
    "scrolled": true
   },
   "outputs": [],
   "source": [
    "df.iloc[2:5]"
   ]
  },
  {
   "cell_type": "code",
   "execution_count": null,
   "metadata": {},
   "outputs": [],
   "source": [
    "df.iloc[:, 25:28]"
   ]
  },
  {
   "cell_type": "code",
   "execution_count": null,
   "metadata": {},
   "outputs": [],
   "source": [
    "df.loc[:, :]"
   ]
  },
  {
   "cell_type": "code",
   "execution_count": null,
   "metadata": {},
   "outputs": [],
   "source": [
    "df.loc[3:5]"
   ]
  },
  {
   "cell_type": "code",
   "execution_count": null,
   "metadata": {},
   "outputs": [],
   "source": [
    "df.loc[3:5, ]"
   ]
  },
  {
   "cell_type": "code",
   "execution_count": null,
   "metadata": {},
   "outputs": [],
   "source": [
    "df.loc[3:5, 'M':'R']"
   ]
  },
  {
   "cell_type": "code",
   "execution_count": null,
   "metadata": {
    "scrolled": false
   },
   "outputs": [],
   "source": [
    "df.loc[[3, 5], ['M', 'R']]"
   ]
  },
  {
   "cell_type": "code",
   "execution_count": null,
   "metadata": {},
   "outputs": [],
   "source": [
    "df.loc[:, ['M', 'R']]"
   ]
  },
  {
   "cell_type": "code",
   "execution_count": null,
   "metadata": {},
   "outputs": [],
   "source": [
    "df[['M', 'R']]"
   ]
  },
  {
   "cell_type": "code",
   "execution_count": null,
   "metadata": {},
   "outputs": [],
   "source": [
    "df.loc[:, ['P', 'A', 'N', 'D', 'A', 'S']]"
   ]
  },
  {
   "cell_type": "code",
   "execution_count": null,
   "metadata": {},
   "outputs": [],
   "source": [
    "df.loc[[2, 4, 6, 8], list(reversed(['P', 'A', 'N', 'D', 'A', 'S']))]"
   ]
  },
  {
   "cell_type": "code",
   "execution_count": null,
   "metadata": {},
   "outputs": [],
   "source": [
    "from random import random"
   ]
  },
  {
   "cell_type": "code",
   "execution_count": null,
   "metadata": {},
   "outputs": [],
   "source": [
    "random()"
   ]
  },
  {
   "cell_type": "code",
   "execution_count": null,
   "metadata": {},
   "outputs": [],
   "source": [
    "[round(random() * 100) for x in alist]"
   ]
  },
  {
   "cell_type": "code",
   "execution_count": null,
   "metadata": {},
   "outputs": [],
   "source": [
    "list_of_lists = [[round(random() * 100) for x in alist] for x in alist]\n",
    "df = pd.DataFrame(list_of_lists, columns=A1_list)\n",
    "df"
   ]
  },
  {
   "cell_type": "code",
   "execution_count": null,
   "metadata": {},
   "outputs": [],
   "source": [
    "df['B']"
   ]
  },
  {
   "cell_type": "code",
   "execution_count": null,
   "metadata": {},
   "outputs": [],
   "source": [
    "df[['B', 'D', 'F', 'H', 'J']]"
   ]
  },
  {
   "cell_type": "code",
   "execution_count": null,
   "metadata": {},
   "outputs": [],
   "source": [
    "df['F'] = 'FOO'\n",
    "df"
   ]
  },
  {
   "cell_type": "code",
   "execution_count": null,
   "metadata": {},
   "outputs": [],
   "source": [
    "df.loc[:,'G':'I'] = 'BAR'\n",
    "df"
   ]
  },
  {
   "cell_type": "code",
   "execution_count": null,
   "metadata": {},
   "outputs": [],
   "source": [
    "df[['T', 'V']] = 'SPAM'\n",
    "df"
   ]
  },
  {
   "cell_type": "code",
   "execution_count": null,
   "metadata": {},
   "outputs": [],
   "source": [
    "df.loc[:, 'Y':'AB'] = 'EGGS'\n",
    "df"
   ]
  },
  {
   "cell_type": "code",
   "execution_count": null,
   "metadata": {},
   "outputs": [],
   "source": [
    "df.A"
   ]
  },
  {
   "cell_type": "code",
   "execution_count": null,
   "metadata": {},
   "outputs": [],
   "source": [
    "df.A > 75"
   ]
  },
  {
   "cell_type": "code",
   "execution_count": null,
   "metadata": {},
   "outputs": [],
   "source": [
    "df.A[df.A > 75]"
   ]
  },
  {
   "cell_type": "code",
   "execution_count": null,
   "metadata": {},
   "outputs": [],
   "source": [
    "df['A'][df.A > 75]"
   ]
  },
  {
   "cell_type": "code",
   "execution_count": null,
   "metadata": {},
   "outputs": [],
   "source": [
    "df[df.A > 75]"
   ]
  },
  {
   "cell_type": "code",
   "execution_count": null,
   "metadata": {},
   "outputs": [],
   "source": [
    "mask = df.A > 75\n",
    "mask"
   ]
  },
  {
   "cell_type": "code",
   "execution_count": null,
   "metadata": {},
   "outputs": [],
   "source": [
    "df[mask]"
   ]
  },
  {
   "cell_type": "code",
   "execution_count": null,
   "metadata": {},
   "outputs": [],
   "source": [
    "(df.A > 45) & (df.A < 55)"
   ]
  },
  {
   "cell_type": "code",
   "execution_count": null,
   "metadata": {},
   "outputs": [],
   "source": [
    "sweet_spot = (df.A > 40) & (df.A < 60)\n",
    "df[sweet_spot]"
   ]
  },
  {
   "cell_type": "code",
   "execution_count": null,
   "metadata": {},
   "outputs": [],
   "source": [
    "df.C.mean()"
   ]
  },
  {
   "cell_type": "code",
   "execution_count": null,
   "metadata": {},
   "outputs": [],
   "source": [
    "df['C'].mean()"
   ]
  },
  {
   "cell_type": "code",
   "execution_count": null,
   "metadata": {},
   "outputs": [],
   "source": [
    "df[['A', 'C', 'E']].mean()"
   ]
  },
  {
   "cell_type": "code",
   "execution_count": null,
   "metadata": {},
   "outputs": [],
   "source": [
    "df.loc[:, ['A', 'C', 'E']].mean()"
   ]
  },
  {
   "cell_type": "code",
   "execution_count": null,
   "metadata": {},
   "outputs": [],
   "source": [
    "df.loc[:, 'A':'E'].mean()"
   ]
  },
  {
   "cell_type": "code",
   "execution_count": null,
   "metadata": {
    "scrolled": true
   },
   "outputs": [],
   "source": [
    "df.describe()"
   ]
  },
  {
   "cell_type": "code",
   "execution_count": null,
   "metadata": {},
   "outputs": [],
   "source": [
    "df.agg('sum')"
   ]
  },
  {
   "cell_type": "code",
   "execution_count": null,
   "metadata": {},
   "outputs": [],
   "source": [
    "df.agg('sum').A"
   ]
  },
  {
   "cell_type": "code",
   "execution_count": null,
   "metadata": {},
   "outputs": [],
   "source": [
    "df.agg('sum').loc['J':'R']"
   ]
  },
  {
   "cell_type": "code",
   "execution_count": null,
   "metadata": {},
   "outputs": [],
   "source": [
    "df.loc[:, 'J':'R'].sum()"
   ]
  },
  {
   "cell_type": "code",
   "execution_count": null,
   "metadata": {},
   "outputs": [],
   "source": [
    "df.agg(['sum', 'min', 'mean'])"
   ]
  },
  {
   "cell_type": "code",
   "execution_count": null,
   "metadata": {},
   "outputs": [],
   "source": [
    "df.loc[:, 'A':'E'].agg('mean')"
   ]
  },
  {
   "cell_type": "code",
   "execution_count": null,
   "metadata": {},
   "outputs": [],
   "source": [
    "df.loc[:, 'F':'I'].agg('min')"
   ]
  },
  {
   "cell_type": "code",
   "execution_count": null,
   "metadata": {},
   "outputs": [],
   "source": [
    "df.agg({'A' : ['sum', 'min'], 'B' : ['min', 'max']})"
   ]
  },
  {
   "cell_type": "code",
   "execution_count": null,
   "metadata": {
    "scrolled": true
   },
   "outputs": [],
   "source": [
    "df.agg({'A' : 'mean', 'B' : 'mean', 'F': 'min', 'G': 'max'})"
   ]
  },
  {
   "cell_type": "code",
   "execution_count": null,
   "metadata": {},
   "outputs": [],
   "source": [
    "df.agg({'A' : ['min', 'max', 'mean', 'sum']})"
   ]
  },
  {
   "cell_type": "code",
   "execution_count": null,
   "metadata": {},
   "outputs": [],
   "source": [
    "df.A.mean()"
   ]
  },
  {
   "cell_type": "code",
   "execution_count": null,
   "metadata": {},
   "outputs": [],
   "source": [
    "import numpy as np\n",
    "np.mean(df.A)"
   ]
  },
  {
   "cell_type": "code",
   "execution_count": null,
   "metadata": {},
   "outputs": [],
   "source": [
    "'Hello World'"
   ]
  },
  {
   "cell_type": "code",
   "execution_count": null,
   "metadata": {},
   "outputs": [],
   "source": [
    "'Hello World'.format()"
   ]
  },
  {
   "cell_type": "code",
   "execution_count": null,
   "metadata": {},
   "outputs": [],
   "source": [
    "'Hello, {}'.format('Mike')  # This is the new string replacement format."
   ]
  },
  {
   "cell_type": "code",
   "execution_count": null,
   "metadata": {},
   "outputs": [],
   "source": [
    "'Hello, {} {} in {}'.format('Mike', 'SEO', 'NYC')  # Here's the easiest way to feed in a sequence of strings"
   ]
  },
  {
   "cell_type": "code",
   "execution_count": null,
   "metadata": {},
   "outputs": [],
   "source": [
    "'{0}'.format('zero')  # You can number the replacement locations to target them."
   ]
  },
  {
   "cell_type": "code",
   "execution_count": null,
   "metadata": {},
   "outputs": [],
   "source": [
    "'{}'.format('zero')  # Many times, you're really just replacing one thing."
   ]
  },
  {
   "cell_type": "code",
   "execution_count": null,
   "metadata": {},
   "outputs": [],
   "source": [
    "'{}'.format('zero', 'one', 'two')  # But if you overload it, only the first one replaces."
   ]
  },
  {
   "cell_type": "code",
   "execution_count": null,
   "metadata": {},
   "outputs": [],
   "source": [
    "'{} {}'.format('zero', 'one', 'two')  # As they implicitly match-up, they will also fill-in."
   ]
  },
  {
   "cell_type": "code",
   "execution_count": null,
   "metadata": {},
   "outputs": [],
   "source": [
    "'{0} {1} {2}'.format('zero', 'one', 'two')  # You can explicitly positionally feed in the replacements."
   ]
  },
  {
   "cell_type": "code",
   "execution_count": null,
   "metadata": {},
   "outputs": [],
   "source": [
    "'Hello, {foo} and {bar}'.format(bar='eggs', foo='spam')  # You can feed the replacements in as name/value argument pairs."
   ]
  },
  {
   "cell_type": "markdown",
   "metadata": {},
   "source": [
    "### This is the grammer for the replacement fileld (the part between the {curly brackets}. \n",
    "    \n",
    "    replacement_field ::=  \"{\" [field_name] [\"!\" conversion] [\":\" format_spec] \"}\"\n",
    "    field_name        ::=  arg_name (\".\" attribute_name | \"[\" element_index \"]\")*\n",
    "    arg_name          ::=  [identifier | digit+]\n",
    "    attribute_name    ::=  identifier\n",
    "    element_index     ::=  digit+ | index_string\n",
    "    index_string      ::=  <any source character except \"]\"> +\n",
    "    conversion        ::=  \"r\" | \"s\" | \"a\"\n",
    "    format_spec       ::=  <described in the next section>"
   ]
  },
  {
   "cell_type": "code",
   "execution_count": null,
   "metadata": {},
   "outputs": [],
   "source": [
    "'{}'.format(1)  # String formatting is actually the best way to FORMAT NUMBERS."
   ]
  },
  {
   "cell_type": "code",
   "execution_count": null,
   "metadata": {},
   "outputs": [],
   "source": [
    "'{0}'.format(1)  # I'm putting the optional index placholder in so that it's clearer as we build up the API."
   ]
  },
  {
   "cell_type": "code",
   "execution_count": null,
   "metadata": {},
   "outputs": [],
   "source": [
    "'{0:}'.format(1)  # After the placeholder, you can put an optional colon for a format_spec"
   ]
  },
  {
   "cell_type": "code",
   "execution_count": null,
   "metadata": {},
   "outputs": [],
   "source": [
    "'{:}'.format(1)  # Because the number before colon is an optional placeholder, this works too."
   ]
  },
  {
   "cell_type": "code",
   "execution_count": null,
   "metadata": {},
   "outputs": [],
   "source": [
    "'{:,}'.format(1000)  # There's a whole mini-language here. Here's insertting commas."
   ]
  },
  {
   "cell_type": "markdown",
   "metadata": {},
   "source": [
    "### These are the options for the format_spec (the mini-language following the colon)\n",
    "\n",
    "    format_spec     ::=  [[fill]align][sign][#][0][width][grouping_option][.precision][type]\n",
    "    fill            ::=  <any character>\n",
    "    align           ::=  \"<\" | \">\" | \"=\" | \"^\"\n",
    "    sign            ::=  \"+\" | \"-\" | \" \"\n",
    "    width           ::=  digit+\n",
    "    grouping_option ::=  \"_\" | \",\"\n",
    "    precision       ::=  digit+\n",
    "    type            ::=  \"b\" | \"c\" | \"d\" | \"e\" | \"E\" | \"f\" | \"F\" | \"g\" | \"G\" | \"n\" | \"o\" | \"s\" | \"x\" | \"X\" | \"%\""
   ]
  },
  {
   "cell_type": "code",
   "execution_count": null,
   "metadata": {},
   "outputs": [],
   "source": [
    "'{:}'.format(1/3)  # Here's the unconstrained default decimal precision of floats."
   ]
  },
  {
   "cell_type": "code",
   "execution_count": null,
   "metadata": {},
   "outputs": [],
   "source": [
    "'{:.1f}'.format(1/3)   # This is floating point "
   ]
  },
  {
   "cell_type": "code",
   "execution_count": null,
   "metadata": {},
   "outputs": [],
   "source": [
    "'{:.1%}'.format(1/3)   # Simnply replacing f with % multiplies by 100 and adds percent sign."
   ]
  },
  {
   "cell_type": "code",
   "execution_count": null,
   "metadata": {},
   "outputs": [],
   "source": [
    "'{:.0%}'.format(1/3)   # The number before the % specifies float precision just like with f"
   ]
  },
  {
   "cell_type": "code",
   "execution_count": null,
   "metadata": {},
   "outputs": [],
   "source": [
    "'{:8.0f}'.format(10)   # A character IMMEDIATELY AFTER the comma specifies a forced width (if smaller)."
   ]
  },
  {
   "cell_type": "code",
   "execution_count": null,
   "metadata": {},
   "outputs": [],
   "source": [
    "'{:*^8.0f}'.format(10)   # Fill with * and center-align"
   ]
  },
  {
   "cell_type": "code",
   "execution_count": null,
   "metadata": {},
   "outputs": [],
   "source": [
    "'{:*<8.0f}'.format(10)   # Fill with * and left-align"
   ]
  },
  {
   "cell_type": "code",
   "execution_count": null,
   "metadata": {},
   "outputs": [],
   "source": [
    "'{:0=8.0f}'.format(100)   # Pad number with 0"
   ]
  },
  {
   "cell_type": "code",
   "execution_count": null,
   "metadata": {},
   "outputs": [],
   "source": [
    "import datetime\n",
    "now = datetime.datetime.now()  # You can get extreme control over date/times.\n",
    "now"
   ]
  },
  {
   "cell_type": "code",
   "execution_count": null,
   "metadata": {},
   "outputs": [],
   "source": [
    "'{:%Y-%m-%d %H:%M:%S}'.format(now)  # datetime data-types have yet more format_spec rules to learn."
   ]
  },
  {
   "cell_type": "code",
   "execution_count": null,
   "metadata": {
    "scrolled": true
   },
   "outputs": [],
   "source": [
    "print('Day: {:%A}'.format(now))\n",
    "print('Month: {:%B}'.format(now)) \n",
    "print('Day of year: {:%j}'.format(now))  # Lots possible documented https://docs.python.org/3/library/datetime.html|"
   ]
  },
  {
   "cell_type": "code",
   "execution_count": null,
   "metadata": {},
   "outputs": [],
   "source": [
    "help(random)"
   ]
  },
  {
   "cell_type": "code",
   "execution_count": null,
   "metadata": {},
   "outputs": [],
   "source": [
    "int(random() * 100) "
   ]
  },
  {
   "cell_type": "code",
   "execution_count": null,
   "metadata": {},
   "outputs": [],
   "source": [
    "\n",
    "[int(random() * 100) for x in range(5)]"
   ]
  },
  {
   "cell_type": "code",
   "execution_count": null,
   "metadata": {},
   "outputs": [],
   "source": [
    "tuple([int(random() * 100) for x in range(5)])"
   ]
  },
  {
   "cell_type": "code",
   "execution_count": null,
   "metadata": {},
   "outputs": [],
   "source": [
    "pivot_me = list()\n",
    "for x in range(50):\n",
    "    pivot_me.append(tuple([int(random() * 100) for x in range(5)]))\n",
    "pivot_me"
   ]
  },
  {
   "cell_type": "code",
   "execution_count": null,
   "metadata": {},
   "outputs": [],
   "source": [
    "df = pd.DataFrame(pivot_me, columns=['a', 'b', 'c', 'd', 'e'])\n",
    "df"
   ]
  },
  {
   "cell_type": "code",
   "execution_count": null,
   "metadata": {},
   "outputs": [],
   "source": [
    "df.pivot_table(index='a', aggfunc=np.mean)"
   ]
  }
 ],
 "metadata": {
  "kernelspec": {
   "display_name": "Python 3",
   "language": "python",
   "name": "python3"
  },
  "language_info": {
   "codemirror_mode": {
    "name": "ipython",
    "version": 3
   },
   "file_extension": ".py",
   "mimetype": "text/x-python",
   "name": "python",
   "nbconvert_exporter": "python",
   "pygments_lexer": "ipython3",
   "version": "3.6.5"
  }
 },
 "nbformat": 4,
 "nbformat_minor": 2
}
