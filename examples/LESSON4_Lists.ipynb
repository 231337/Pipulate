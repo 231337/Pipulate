{
 "cells": [
  {
   "cell_type": "code",
   "execution_count": null,
   "metadata": {
    "scrolled": true
   },
   "outputs": [],
   "source": [
    "list  # As with strings and numbers, simply typing the name of a Python \"type\" will print a CLASS instance back at you."
   ]
  },
  {
   "cell_type": "code",
   "execution_count": null,
   "metadata": {},
   "outputs": [],
   "source": [
    "list()  # To get an actual INSTANCE of that CLASS, you \"call\" the object's primary built-in method using parenthesis."
   ]
  },
  {
   "cell_type": "code",
   "execution_count": null,
   "metadata": {},
   "outputs": [],
   "source": [
    "[]  # Square brackets are used by Python to represent lists. This is an empty list just like list()"
   ]
  },
  {
   "cell_type": "code",
   "execution_count": null,
   "metadata": {},
   "outputs": [],
   "source": [
    "type(list)  # If you check the TYPE of the list CLASS, you will find that the CLASS defines a DATA TYPE."
   ]
  },
  {
   "cell_type": "code",
   "execution_count": null,
   "metadata": {},
   "outputs": [],
   "source": [
    "type(list())  # Once you put the parenthesis in, it's no longer the CLASS but rather is an INSTANCE of that CLASS."
   ]
  },
  {
   "cell_type": "code",
   "execution_count": null,
   "metadata": {},
   "outputs": [],
   "source": [
    "type(str), type(int), type(float), type(list), type(tuple), type(dict)  # Lots of things are the definitions of CLASS TYPES."
   ]
  },
  {
   "cell_type": "code",
   "execution_count": null,
   "metadata": {
    "scrolled": true
   },
   "outputs": [],
   "source": [
    "for a_type in str, int, float, list, tuple, dict:\n",
    "    message = \"%s is a %s\" % (a_type, type(a_type))  # These are the 6 major \"types\" you work with in Python.\n",
    "    print(message)"
   ]
  },
  {
   "cell_type": "code",
   "execution_count": null,
   "metadata": {},
   "outputs": [],
   "source": [
    "repr(list)  # When you see those pointy brackets in Python, it means you're seeing the \"string representation\" of a thing."
   ]
  },
  {
   "cell_type": "code",
   "execution_count": null,
   "metadata": {
    "scrolled": false
   },
   "outputs": [],
   "source": [
    "help(list)  # Types like lists have a lot of cool stuff built-in that's worth looking at with a help()"
   ]
  },
  {
   "cell_type": "code",
   "execution_count": null,
   "metadata": {},
   "outputs": [],
   "source": [
    "[1, 2, 3]  # Lists are more flexible than tuples. Just use square brackets for a list."
   ]
  },
  {
   "cell_type": "code",
   "execution_count": null,
   "metadata": {},
   "outputs": [],
   "source": [
    "for item in [1, 2, 3]:  # You can control loops with lists\n",
    "    print(item)"
   ]
  },
  {
   "cell_type": "code",
   "execution_count": null,
   "metadata": {},
   "outputs": [],
   "source": [
    "for item in [1, 2, 3, 'a', 'b', 'c', ('nested', 'tuple')]:  # The lists can contain arbitrary data-types.\n",
    "    print(item)"
   ]
  },
  {
   "cell_type": "code",
   "execution_count": null,
   "metadata": {},
   "outputs": [],
   "source": [
    "alist = ['a', 'b', 'c']  # You can assign a variable name to a list and loop through that instead:\n",
    "\n",
    "for item in alist:\n",
    "    print(item)"
   ]
  },
  {
   "cell_type": "code",
   "execution_count": null,
   "metadata": {},
   "outputs": [],
   "source": [
    "alist = ['a', 'b', 'c']\n",
    "\n",
    "for item in alist:\n",
    "    print('foo-%s' % item)  # Look at how you can build-up and display strings. The %s formats and inserts item into string."
   ]
  },
  {
   "cell_type": "code",
   "execution_count": null,
   "metadata": {},
   "outputs": [],
   "source": [
    "alist.append('d')  # You can append to lists.\n",
    "alist"
   ]
  },
  {
   "cell_type": "code",
   "execution_count": null,
   "metadata": {},
   "outputs": [],
   "source": [
    "alist.pop()  # You can pop items of teh end of the list.\n",
    "alist"
   ]
  },
  {
   "cell_type": "code",
   "execution_count": null,
   "metadata": {},
   "outputs": [],
   "source": [
    "alist.pop(0)  # You can also pop from the beginning of a list uzing index 0.\n",
    "alist"
   ]
  },
  {
   "cell_type": "code",
   "execution_count": null,
   "metadata": {},
   "outputs": [],
   "source": [
    "alist = ['a', 'b', 'c']\n",
    "\n",
    "for i, item in enumerate(alist):\n",
    "    print('iteration #%s: foo-%s' % (i, item))  # You can expose Python's internal index counter with enumerate()"
   ]
  },
  {
   "cell_type": "code",
   "execution_count": null,
   "metadata": {
    "scrolled": true
   },
   "outputs": [],
   "source": [
    "alist = ['a', 'b', 'c']\n",
    "\n",
    "for i, item in enumerate(alist):\n",
    "    print('iteration #%s: foo-%s' % (i + 1, item))  # The internal counter is zero-based, so we must sometimes add one."
   ]
  }
 ],
 "metadata": {
  "kernelspec": {
   "display_name": "Python 3",
   "language": "python",
   "name": "python3"
  },
  "language_info": {
   "codemirror_mode": {
    "name": "ipython",
    "version": 3
   },
   "file_extension": ".py",
   "mimetype": "text/x-python",
   "name": "python",
   "nbconvert_exporter": "python",
   "pygments_lexer": "ipython3",
   "version": "3.6.5"
  }
 },
 "nbformat": 4,
 "nbformat_minor": 2
}
