{
 "cells": [
  {
   "cell_type": "code",
   "execution_count": null,
   "metadata": {},
   "outputs": [],
   "source": [
    "'Hello World'"
   ]
  },
  {
   "cell_type": "code",
   "execution_count": null,
   "metadata": {},
   "outputs": [],
   "source": [
    "name = 'Mike'\n",
    "'Hello %s' % name"
   ]
  },
  {
   "cell_type": "code",
   "execution_count": null,
   "metadata": {},
   "outputs": [],
   "source": [
    "'Hello World'.format()"
   ]
  },
  {
   "cell_type": "code",
   "execution_count": null,
   "metadata": {},
   "outputs": [],
   "source": [
    "'Hello {}'.format('Mike')  # This is the new string replacement format."
   ]
  },
  {
   "cell_type": "code",
   "execution_count": null,
   "metadata": {},
   "outputs": [],
   "source": [
    "'Hello {} {} in {}'.format('Mike', 'SEO', 'NYC')  # Here's the easiest way to feed in a sequence of strings"
   ]
  },
  {
   "cell_type": "code",
   "execution_count": null,
   "metadata": {},
   "outputs": [],
   "source": [
    "'{0}'.format('zero')  # You can number the replacement locations to target them."
   ]
  },
  {
   "cell_type": "code",
   "execution_count": null,
   "metadata": {},
   "outputs": [],
   "source": [
    "'{}'.format('zero')  # Many times, you're really just replacing one thing."
   ]
  },
  {
   "cell_type": "code",
   "execution_count": null,
   "metadata": {},
   "outputs": [],
   "source": [
    "'{}'.format('zero', 'one', 'two')  # But if you overload it, only the first one replaces."
   ]
  },
  {
   "cell_type": "code",
   "execution_count": null,
   "metadata": {},
   "outputs": [],
   "source": [
    "'{} {}'.format('zero', 'one', 'two')  # As they implicitly match-up, they will also fill-in."
   ]
  },
  {
   "cell_type": "code",
   "execution_count": null,
   "metadata": {},
   "outputs": [],
   "source": [
    "'{0} {1} {2}'.format('zero', 'one', 'two')  # You can explicitly positionally feed in the replacements."
   ]
  },
  {
   "cell_type": "code",
   "execution_count": null,
   "metadata": {},
   "outputs": [],
   "source": [
    "'Hello, {foo} and {bar}'.format(bar='eggs', foo='spam')  # You can feed the replacements in as name/value argument pairs."
   ]
  },
  {
   "cell_type": "markdown",
   "metadata": {},
   "source": [
    "### This is the grammer for the replacement fileld (the part between the {curly brackets}. \n",
    "    \n",
    "    replacement_field ::=  \"{\" [field_name] [\"!\" conversion] [\":\" format_spec] \"}\"\n",
    "    field_name        ::=  arg_name (\".\" attribute_name | \"[\" element_index \"]\")*\n",
    "    arg_name          ::=  [identifier | digit+]\n",
    "    attribute_name    ::=  identifier\n",
    "    element_index     ::=  digit+ | index_string\n",
    "    index_string      ::=  <any source character except \"]\"> +\n",
    "    conversion        ::=  \"r\" | \"s\" | \"a\"\n",
    "    format_spec       ::=  <described in the next section>"
   ]
  },
  {
   "cell_type": "code",
   "execution_count": null,
   "metadata": {},
   "outputs": [],
   "source": [
    "'{}'.format(1)  # String formatting is actually the best way to FORMAT NUMBERS."
   ]
  },
  {
   "cell_type": "code",
   "execution_count": null,
   "metadata": {},
   "outputs": [],
   "source": [
    "'{0}'.format(1)  # I'm putting the optional index placholder in so that it's clearer as we build up the API."
   ]
  },
  {
   "cell_type": "code",
   "execution_count": null,
   "metadata": {},
   "outputs": [],
   "source": [
    "'{0:}'.format(1)  # After the placeholder, you can put an optional colon for a format_spec"
   ]
  },
  {
   "cell_type": "code",
   "execution_count": null,
   "metadata": {},
   "outputs": [],
   "source": [
    "'{:}'.format(1)  # Because the number before colon is an optional placeholder, this works too."
   ]
  },
  {
   "cell_type": "code",
   "execution_count": null,
   "metadata": {},
   "outputs": [],
   "source": [
    "'{:,}'.format(1000)  # There's a whole mini-language here. Here's insertting commas."
   ]
  },
  {
   "cell_type": "markdown",
   "metadata": {},
   "source": [
    "### These are the options for the format_spec (the mini-language following the colon)\n",
    "\n",
    "    format_spec     ::=  [[fill]align][sign][#][0][width][grouping_option][.precision][type]\n",
    "    fill            ::=  <any character>\n",
    "    align           ::=  \"<\" | \">\" | \"=\" | \"^\"\n",
    "    sign            ::=  \"+\" | \"-\" | \" \"\n",
    "    width           ::=  digit+\n",
    "    grouping_option ::=  \"_\" | \",\"\n",
    "    precision       ::=  digit+\n",
    "    type            ::=  \"b\" | \"c\" | \"d\" | \"e\" | \"E\" | \"f\" | \"F\" | \"g\" | \"G\" | \"n\" | \"o\" | \"s\" | \"x\" | \"X\" | \"%\""
   ]
  },
  {
   "cell_type": "code",
   "execution_count": null,
   "metadata": {},
   "outputs": [],
   "source": [
    "'{:}'.format(1/3)  # Here's the unconstrained default decimal precision of floats."
   ]
  },
  {
   "cell_type": "code",
   "execution_count": null,
   "metadata": {},
   "outputs": [],
   "source": [
    "'{:.1f}'.format(1/3)   # This is floating point "
   ]
  },
  {
   "cell_type": "code",
   "execution_count": null,
   "metadata": {},
   "outputs": [],
   "source": [
    "'{:.1%}'.format(1/3)   # Simnply replacing f with % multiplies by 100 and adds percent sign."
   ]
  },
  {
   "cell_type": "code",
   "execution_count": null,
   "metadata": {},
   "outputs": [],
   "source": [
    "'{:.0%}'.format(1/3)   # The number before the % specifies float precision just like with f"
   ]
  },
  {
   "cell_type": "code",
   "execution_count": null,
   "metadata": {},
   "outputs": [],
   "source": [
    "'{:8.0f}'.format(10)   # A character IMMEDIATELY AFTER the comma specifies a forced width (if smaller)."
   ]
  },
  {
   "cell_type": "code",
   "execution_count": null,
   "metadata": {},
   "outputs": [],
   "source": [
    "'{:*^8.0f}'.format(10)   # Fill with * and center-align"
   ]
  },
  {
   "cell_type": "code",
   "execution_count": null,
   "metadata": {},
   "outputs": [],
   "source": [
    "'{:*<8.0f}'.format(10)   # Fill with * and left-align"
   ]
  },
  {
   "cell_type": "code",
   "execution_count": null,
   "metadata": {},
   "outputs": [],
   "source": [
    "'{:0=8.0f}'.format(100)   # Pad number with 0"
   ]
  },
  {
   "cell_type": "code",
   "execution_count": null,
   "metadata": {},
   "outputs": [],
   "source": [
    "import datetime\n",
    "now = datetime.datetime.now()  # You can get extreme control over date/times.\n",
    "now"
   ]
  },
  {
   "cell_type": "code",
   "execution_count": null,
   "metadata": {},
   "outputs": [],
   "source": [
    "'{:%Y-%m-%d %H:%M:%S}'.format(now)  # datetime data-types have yet more format_spec rules to learn."
   ]
  },
  {
   "cell_type": "code",
   "execution_count": null,
   "metadata": {},
   "outputs": [],
   "source": [
    "print('Day: {:%A}'.format(now))\n",
    "print('Month: {:%B}'.format(now)) \n",
    "print('Day of year: {:%j}'.format(now))  # Lots possible documented https://docs.python.org/3/library/datetime.html|"
   ]
  }
 ],
 "metadata": {
  "kernelspec": {
   "display_name": "Python 3",
   "language": "python",
   "name": "python3"
  },
  "language_info": {
   "codemirror_mode": {
    "name": "ipython",
    "version": 3
   },
   "file_extension": ".py",
   "mimetype": "text/x-python",
   "name": "python",
   "nbconvert_exporter": "python",
   "pygments_lexer": "ipython3",
   "version": "3.6.5"
  }
 },
 "nbformat": 4,
 "nbformat_minor": 2
}
