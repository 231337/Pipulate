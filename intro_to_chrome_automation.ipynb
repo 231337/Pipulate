{
 "cells": [
  {
   "cell_type": "code",
   "execution_count": 8,
   "metadata": {},
   "outputs": [
    {
     "data": {
      "text/plain": [
       "<Future at 0x1fde1cd9470 state=pending>"
      ]
     },
     "execution_count": 8,
     "metadata": {},
     "output_type": "execute_result"
    },
    {
     "name": "stdout",
     "output_type": "stream",
     "text": [
      "Hello Asynchronous World!\n"
     ]
    }
   ],
   "source": [
    "import asyncio\n",
    "\n",
    "async def speak_async():  \n",
    "    print('Hello Asynchronous World!')\n",
    "\n",
    "loop = asyncio.get_event_loop()\n",
    "asyncio.run_coroutine_threadsafe(speak_async(), loop)"
   ]
  },
  {
   "cell_type": "code",
   "execution_count": 9,
   "metadata": {},
   "outputs": [],
   "source": [
    "base_url = 'https://www.google.com/search?q='\n",
    "\n",
    "keywords = '''\n",
    "levinux\n",
    "pipulate\n",
    "seo expert nyc\n",
    "open source seo\n",
    "seo software linux\n",
    "seo software open source\n",
    "smallest virtual machine\n",
    "advantages of python programming language\n",
    "'''.split('\\n')[1:-1]"
   ]
  },
  {
   "cell_type": "code",
   "execution_count": 14,
   "metadata": {},
   "outputs": [
    {
     "name": "stdout",
     "output_type": "stream",
     "text": [
      "https://www.google.com/search?q=levinux\n",
      "https://www.google.com/search?q=pipulate\n",
      "https://www.google.com/search?q=seo+expert+nyc\n",
      "https://www.google.com/search?q=open+source+seo\n",
      "https://www.google.com/search?q=seo+software+linux\n",
      "https://www.google.com/search?q=seo+software+open+source\n",
      "https://www.google.com/search?q=smallest+virtual+machine\n",
      "https://www.google.com/search?q=advantages+of+python+programming+language\n"
     ]
    }
   ],
   "source": [
    "for keyword in keywords:\n",
    "    keyword_plus = keyword.replace(' ', '+')\n",
    "    url = '%s%s' % (base_url, keyword_plus)\n",
    "    print(url)"
   ]
  },
  {
   "cell_type": "code",
   "execution_count": null,
   "metadata": {},
   "outputs": [],
   "source": []
  }
 ],
 "metadata": {
  "kernelspec": {
   "display_name": "Python 3",
   "language": "python",
   "name": "python3"
  },
  "language_info": {
   "codemirror_mode": {
    "name": "ipython",
    "version": 3
   },
   "file_extension": ".py",
   "mimetype": "text/x-python",
   "name": "python",
   "nbconvert_exporter": "python",
   "pygments_lexer": "ipython3",
   "version": "3.6.5"
  }
 },
 "nbformat": 4,
 "nbformat_minor": 2
}
