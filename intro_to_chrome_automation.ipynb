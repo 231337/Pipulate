{
 "cells": [
  {
   "cell_type": "code",
   "execution_count": 1,
   "metadata": {},
   "outputs": [],
   "source": [
    "import os\n",
    "import glob\n",
    "import asyncio\n",
    "\n",
    "base_url = 'https://www.google.com/search?q='\n",
    "\n",
    "keywords = '''\n",
    "levinux\n",
    "pipulate\n",
    "seo expert nyc\n",
    "open source seo\n",
    "seo software linux\n",
    "seo software open source\n",
    "smallest virtual machine\n",
    "advantages of python programming language\n",
    "'''.split('\\n')[1:-1]\n",
    "\n",
    "locations = 'pics,csvs'.split(',')\n",
    "for location in locations:\n",
    "    if not os.path.exists(location):\n",
    "        os.makedirs(location)\n",
    "    local_wild = './%s/*' % location\n",
    "    files = glob.glob(local_wild)\n",
    "    for file in files:\n",
    "        os.remove(file)"
   ]
  },
  {
   "cell_type": "code",
   "execution_count": 2,
   "metadata": {},
   "outputs": [
    {
     "name": "stdout",
     "output_type": "stream",
     "text": [
      "Sequential task launcher: https://www.google.com/search?q=levinux\n",
      "Sequential task launcher: https://www.google.com/search?q=pipulate\n",
      "Sequential task launcher: https://www.google.com/search?q=seo+expert+nyc\n",
      "Sequential task launcher: https://www.google.com/search?q=open+source+seo\n",
      "Sequential task launcher: https://www.google.com/search?q=seo+software+linux\n",
      "Sequential task launcher: https://www.google.com/search?q=seo+software+open+source\n",
      "Sequential task launcher: https://www.google.com/search?q=smallest+virtual+machine\n",
      "Sequential task launcher: https://www.google.com/search?q=advantages+of+python+programming+language\n",
      "Side-effect args: levinux, https://www.google.com/search?q=levinux\n",
      "Side-effect args: pipulate, https://www.google.com/search?q=pipulate\n",
      "Side-effect args: seo expert nyc, https://www.google.com/search?q=seo+expert+nyc\n",
      "Side-effect args: open source seo, https://www.google.com/search?q=open+source+seo\n",
      "Side-effect args: seo software linux, https://www.google.com/search?q=seo+software+linux\n",
      "Side-effect args: seo software open source, https://www.google.com/search?q=seo+software+open+source\n",
      "Side-effect args: smallest virtual machine, https://www.google.com/search?q=smallest+virtual+machine\n",
      "Side-effect args: advantages of python programming language, https://www.google.com/search?q=advantages+of+python+programming+language\n"
     ]
    }
   ],
   "source": [
    "def job_runner(name, value):\n",
    "    task = asyncio.ensure_future(for_side_effects(name, value))\n",
    "    task = sometime_soon(task)\n",
    "    asyncio.run_coroutine_threadsafe(task, loop)\n",
    "\n",
    "\n",
    "async def for_side_effects(name, value):\n",
    "    print('Side-effect args: %s, %s' % (name, value))\n",
    "\n",
    "\n",
    "async def sometime_soon(future):\n",
    "    result = await future\n",
    "    return result\n",
    "\n",
    "\n",
    "loop = asyncio.get_event_loop()\n",
    "for keyword in keywords:\n",
    "    keyword_plus = keyword.replace(' ', '+')\n",
    "    url = '%s%s' % (base_url, keyword_plus)\n",
    "    print('Sequential task launcher: %s' % url)\n",
    "    job_runner(keyword, url)"
   ]
  },
  {
   "cell_type": "code",
   "execution_count": null,
   "metadata": {},
   "outputs": [],
   "source": []
  },
  {
   "cell_type": "code",
   "execution_count": null,
   "metadata": {},
   "outputs": [],
   "source": []
  }
 ],
 "metadata": {
  "kernelspec": {
   "display_name": "Python 3",
   "language": "python",
   "name": "python3"
  },
  "language_info": {
   "codemirror_mode": {
    "name": "ipython",
    "version": 3
   },
   "file_extension": ".py",
   "mimetype": "text/x-python",
   "name": "python",
   "nbconvert_exporter": "python",
   "pygments_lexer": "ipython3",
   "version": "3.6.5"
  }
 },
 "nbformat": 4,
 "nbformat_minor": 2
}
