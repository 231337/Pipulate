{
 "cells": [
  {
   "cell_type": "code",
   "execution_count": null,
   "metadata": {},
   "outputs": [],
   "source": [
    "# Re-run this freshen your external functions.\n",
    "import notebook_finder\n",
    "from imp import reload\n",
    "import functions_for_pipulate as kung; reload(kung)\n",
    "import functions_for_pipulate as kung; reload(kung)"
   ]
  },
  {
   "cell_type": "code",
   "execution_count": null,
   "metadata": {
    "collapsed": true,
    "scrolled": false
   },
   "outputs": [],
   "source": [
    "# Edit False to True and run this to update your goodproxies.txt\n",
    "update_proxies = False\n",
    "if update_proxies:    \n",
    "    import pipulate.update_proxies as up\n",
    "    up.Main()"
   ]
  },
  {
   "cell_type": "code",
   "execution_count": null,
   "metadata": {
    "collapsed": true
   },
   "outputs": [],
   "source": [
    "# Set a list to (usually) top-20 for term.\n",
    "alist = kung.serp(['Dr Pepper', ''])\n",
    "alist"
   ]
  },
  {
   "cell_type": "code",
   "execution_count": null,
   "metadata": {
    "collapsed": true
   },
   "outputs": [],
   "source": [
    "# This creates your pipulate cl and df to manipulate.\n",
    "import pipulate as gs\n",
    "import pandas as pd\n",
    "rows = (1, 20)\n",
    "cols = ('a', 'b')\n",
    "stride = 5\n",
    "sheet = gs.key(key)\n",
    "tab = gs.name('Keyword List').sheet1\n",
    "cl, df = gs.pipulate(tab, rows, cols)"
   ]
  },
  {
   "cell_type": "code",
   "execution_count": null,
   "metadata": {
    "collapsed": true
   },
   "outputs": [],
   "source": [
    "# This applys the serp function with step-by-stride for long-list sanity.\n",
    "steps = rows[1] - rows[0] + 1\n",
    "for i in range(steps):\n",
    "    row = i % stride\n",
    "    if not row:\n",
    "        r1 = rows[0] + i\n",
    "        r2 = r1 + stride - 1\n",
    "        rtup = (r1, r2)\n",
    "        print('Cells %s to %s:' % rtup)\n",
    "        cl, df = gs.pipulate(tab, rtup, cols)\n",
    "        df['B'] = df.apply(kung.serp, axis=1)\n",
    "        gs.populate(tab, cl, df)"
   ]
  },
  {
   "cell_type": "code",
   "execution_count": null,
   "metadata": {
    "collapsed": true
   },
   "outputs": [],
   "source": [
    "# If any rows were missed, you can fill them in like this:\n",
    "missed_rows = [7,12,19]\n",
    "for arow in missed_rows:\n",
    "    rtup = (arow, arow)\n",
    "    cl, df = gs.pipulate(tab, rtup, cols)\n",
    "    df['B'] = df.apply(kung.serp, axis=1)\n",
    "    gs.populate(tab, cl, df)"
   ]
  },
  {
   "cell_type": "code",
   "execution_count": null,
   "metadata": {
    "collapsed": true
   },
   "outputs": [],
   "source": []
  }
 ],
 "metadata": {
  "kernelspec": {
   "display_name": "Python 3",
   "language": "python",
   "name": "python3"
  },
  "language_info": {
   "codemirror_mode": {
    "name": "ipython",
    "version": 3
   },
   "file_extension": ".py",
   "mimetype": "text/x-python",
   "name": "python",
   "nbconvert_exporter": "python",
   "pygments_lexer": "ipython3",
   "version": "3.6.2"
  }
 },
 "nbformat": 4,
 "nbformat_minor": 2
}
